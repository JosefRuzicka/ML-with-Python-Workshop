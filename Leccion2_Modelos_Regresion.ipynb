{
  "nbformat": 4,
  "nbformat_minor": 0,
  "metadata": {
    "colab": {
      "provenance": []
    },
    "kernelspec": {
      "name": "python3",
      "display_name": "Python 3"
    }
  },
  "cells": [
    {
      "cell_type": "markdown",
      "metadata": {
        "id": "2cwvIJXlLoOj"
      },
      "source": [
        "# Lección 2: Modelos de regresión\n",
        "\n",
        "Autor: Jorge Castro, Fabricio Quirós Corella\n",
        "\n",
        "Dentro del área del aprendizaje supervisado, existen principalmente dos tipos de problemas: **regresión** y **clasificación**. En esta lección nos centraremos en los problemas de regresión y en la siguiente en los problemas de clasificación."
      ]
    },
    {
      "cell_type": "markdown",
      "metadata": {
        "id": "MC0L7OZTvmfh"
      },
      "source": [
        "## Regresión lineal\n",
        "\n",
        "Imaginemos que lideramos una pequeña empresa que vende autos usados y nos interesa desarrollar un modelo para estimar el valor de los vehículos. Para realizar esta tarea, decidimos inicialmente usar datos históricos sobre los precios de otros vehículos previamente vendidos (en dólares) según el tamaño de su motor (en pulgadas cúbicas).\n",
        "\n",
        "![](https://drive.google.com/uc?export=view&id=19RAWKgwydltTxaeqOXSm5Z-bzzWynODP)"
      ]
    },
    {
      "cell_type": "code",
      "metadata": {
        "id": "go5_dopwwAUs"
      },
      "source": [
        "#Código para cargar el dataset\n",
        "from google.colab import files\n",
        "uploaded = files.upload()"
      ],
      "execution_count": null,
      "outputs": []
    },
    {
      "cell_type": "code",
      "metadata": {
        "id": "lrJrWSZHjSHa",
        "colab": {
          "base_uri": "https://localhost:8080/"
        },
        "outputId": "b2a57eca-c8cc-436e-df9a-b87d5497b474"
      },
      "source": [
        "#Código para montar el Drive\n",
        "from google.colab import drive\n",
        "drive.mount('/content/drive', force_remount=True)"
      ],
      "execution_count": null,
      "outputs": [
        {
          "output_type": "stream",
          "name": "stdout",
          "text": [
            "Mounted at /content/drive\n"
          ]
        }
      ]
    },
    {
      "cell_type": "markdown",
      "metadata": {
        "id": "Kfv8mNdOjNIl"
      },
      "source": [
        "Luego de importar las librerías de interés, se procede a cargar el set de datos:\n"
      ]
    },
    {
      "cell_type": "code",
      "metadata": {
        "id": "kpagW5kTipKj"
      },
      "source": [
        "import pandas as pd #biblioteca para lectura de datos estructurados y su manipulación\n",
        "import numpy as np  #biblioteca para realizar operaciones con vectores y matrices\n",
        "import matplotlib.pyplot as plt #biblioteca para visualización de datos\n",
        "\n",
        "filepath = '/content/drive/MyDrive/MachineLearning/datasets/car_dataset.csv'\n",
        "ds = pd.read_csv(filepath, header=0)"
      ],
      "execution_count": null,
      "outputs": []
    },
    {
      "cell_type": "markdown",
      "metadata": {
        "id": "-_j6aEa_jhJi"
      },
      "source": [
        "Se sugiere realizar una exploración preliminar del objeto asociado al dataset, mediante los siguientes comandos:"
      ]
    },
    {
      "cell_type": "code",
      "metadata": {
        "id": "ZCew3u8os7Wu",
        "colab": {
          "base_uri": "https://localhost:8080/"
        },
        "outputId": "b714503f-40ea-42f6-f1bd-772e0b6e2eff"
      },
      "source": [
        "ds.shape #Dimensiones del dataset"
      ],
      "execution_count": null,
      "outputs": [
        {
          "output_type": "execute_result",
          "data": {
            "text/plain": [
              "(193, 25)"
            ]
          },
          "metadata": {},
          "execution_count": 3
        }
      ]
    },
    {
      "cell_type": "code",
      "metadata": {
        "id": "Uy4RtZDOs_DS",
        "colab": {
          "base_uri": "https://localhost:8080/",
          "height": 386
        },
        "outputId": "54f3f4ea-1f95-4df7-92da-fece2c8cef06"
      },
      "source": [
        "ds.head() #Imprimir primeras cinco filas del dataset"
      ],
      "execution_count": null,
      "outputs": [
        {
          "output_type": "execute_result",
          "data": {
            "text/plain": [
              "   symboling         make fuel-type aspiration num-of-doors   body-style  \\\n",
              "0          3  alfa-romero       gas        std          two  convertible   \n",
              "1          3  alfa-romero       gas        std          two  convertible   \n",
              "2          1  alfa-romero       gas        std          two    hatchback   \n",
              "3          2         audi       gas        std         four        sedan   \n",
              "4          2         audi       gas        std         four        sedan   \n",
              "\n",
              "  drive-wheels engine-location  wheel-base  length  ...  engine-size  \\\n",
              "0          rwd           front        88.6   168.8  ...          130   \n",
              "1          rwd           front        88.6   168.8  ...          130   \n",
              "2          rwd           front        94.5   171.2  ...          152   \n",
              "3          fwd           front        99.8   176.6  ...          109   \n",
              "4          4wd           front        99.4   176.6  ...          136   \n",
              "\n",
              "   fuel-system  bore stroke compression-ratio  horsepower peak-rpm  city-mpg  \\\n",
              "0         mpfi  3.47   2.68               9.0       111.0   5000.0        21   \n",
              "1         mpfi  3.47   2.68               9.0       111.0   5000.0        21   \n",
              "2         mpfi  2.68   3.47               9.0       154.0   5000.0        19   \n",
              "3         mpfi  3.19   3.40              10.0       102.0   5500.0        24   \n",
              "4         mpfi  3.19   3.40               8.0       115.0   5500.0        18   \n",
              "\n",
              "   highway-mpg    price  \n",
              "0           27  13495.0  \n",
              "1           27  16500.0  \n",
              "2           26  16500.0  \n",
              "3           30  13950.0  \n",
              "4           22  17450.0  \n",
              "\n",
              "[5 rows x 25 columns]"
            ],
            "text/html": [
              "\n",
              "\n",
              "  <div id=\"df-fc923a6b-d23f-4d95-a1aa-1d024bc39758\">\n",
              "    <div class=\"colab-df-container\">\n",
              "      <div>\n",
              "<style scoped>\n",
              "    .dataframe tbody tr th:only-of-type {\n",
              "        vertical-align: middle;\n",
              "    }\n",
              "\n",
              "    .dataframe tbody tr th {\n",
              "        vertical-align: top;\n",
              "    }\n",
              "\n",
              "    .dataframe thead th {\n",
              "        text-align: right;\n",
              "    }\n",
              "</style>\n",
              "<table border=\"1\" class=\"dataframe\">\n",
              "  <thead>\n",
              "    <tr style=\"text-align: right;\">\n",
              "      <th></th>\n",
              "      <th>symboling</th>\n",
              "      <th>make</th>\n",
              "      <th>fuel-type</th>\n",
              "      <th>aspiration</th>\n",
              "      <th>num-of-doors</th>\n",
              "      <th>body-style</th>\n",
              "      <th>drive-wheels</th>\n",
              "      <th>engine-location</th>\n",
              "      <th>wheel-base</th>\n",
              "      <th>length</th>\n",
              "      <th>...</th>\n",
              "      <th>engine-size</th>\n",
              "      <th>fuel-system</th>\n",
              "      <th>bore</th>\n",
              "      <th>stroke</th>\n",
              "      <th>compression-ratio</th>\n",
              "      <th>horsepower</th>\n",
              "      <th>peak-rpm</th>\n",
              "      <th>city-mpg</th>\n",
              "      <th>highway-mpg</th>\n",
              "      <th>price</th>\n",
              "    </tr>\n",
              "  </thead>\n",
              "  <tbody>\n",
              "    <tr>\n",
              "      <th>0</th>\n",
              "      <td>3</td>\n",
              "      <td>alfa-romero</td>\n",
              "      <td>gas</td>\n",
              "      <td>std</td>\n",
              "      <td>two</td>\n",
              "      <td>convertible</td>\n",
              "      <td>rwd</td>\n",
              "      <td>front</td>\n",
              "      <td>88.6</td>\n",
              "      <td>168.8</td>\n",
              "      <td>...</td>\n",
              "      <td>130</td>\n",
              "      <td>mpfi</td>\n",
              "      <td>3.47</td>\n",
              "      <td>2.68</td>\n",
              "      <td>9.0</td>\n",
              "      <td>111.0</td>\n",
              "      <td>5000.0</td>\n",
              "      <td>21</td>\n",
              "      <td>27</td>\n",
              "      <td>13495.0</td>\n",
              "    </tr>\n",
              "    <tr>\n",
              "      <th>1</th>\n",
              "      <td>3</td>\n",
              "      <td>alfa-romero</td>\n",
              "      <td>gas</td>\n",
              "      <td>std</td>\n",
              "      <td>two</td>\n",
              "      <td>convertible</td>\n",
              "      <td>rwd</td>\n",
              "      <td>front</td>\n",
              "      <td>88.6</td>\n",
              "      <td>168.8</td>\n",
              "      <td>...</td>\n",
              "      <td>130</td>\n",
              "      <td>mpfi</td>\n",
              "      <td>3.47</td>\n",
              "      <td>2.68</td>\n",
              "      <td>9.0</td>\n",
              "      <td>111.0</td>\n",
              "      <td>5000.0</td>\n",
              "      <td>21</td>\n",
              "      <td>27</td>\n",
              "      <td>16500.0</td>\n",
              "    </tr>\n",
              "    <tr>\n",
              "      <th>2</th>\n",
              "      <td>1</td>\n",
              "      <td>alfa-romero</td>\n",
              "      <td>gas</td>\n",
              "      <td>std</td>\n",
              "      <td>two</td>\n",
              "      <td>hatchback</td>\n",
              "      <td>rwd</td>\n",
              "      <td>front</td>\n",
              "      <td>94.5</td>\n",
              "      <td>171.2</td>\n",
              "      <td>...</td>\n",
              "      <td>152</td>\n",
              "      <td>mpfi</td>\n",
              "      <td>2.68</td>\n",
              "      <td>3.47</td>\n",
              "      <td>9.0</td>\n",
              "      <td>154.0</td>\n",
              "      <td>5000.0</td>\n",
              "      <td>19</td>\n",
              "      <td>26</td>\n",
              "      <td>16500.0</td>\n",
              "    </tr>\n",
              "    <tr>\n",
              "      <th>3</th>\n",
              "      <td>2</td>\n",
              "      <td>audi</td>\n",
              "      <td>gas</td>\n",
              "      <td>std</td>\n",
              "      <td>four</td>\n",
              "      <td>sedan</td>\n",
              "      <td>fwd</td>\n",
              "      <td>front</td>\n",
              "      <td>99.8</td>\n",
              "      <td>176.6</td>\n",
              "      <td>...</td>\n",
              "      <td>109</td>\n",
              "      <td>mpfi</td>\n",
              "      <td>3.19</td>\n",
              "      <td>3.40</td>\n",
              "      <td>10.0</td>\n",
              "      <td>102.0</td>\n",
              "      <td>5500.0</td>\n",
              "      <td>24</td>\n",
              "      <td>30</td>\n",
              "      <td>13950.0</td>\n",
              "    </tr>\n",
              "    <tr>\n",
              "      <th>4</th>\n",
              "      <td>2</td>\n",
              "      <td>audi</td>\n",
              "      <td>gas</td>\n",
              "      <td>std</td>\n",
              "      <td>four</td>\n",
              "      <td>sedan</td>\n",
              "      <td>4wd</td>\n",
              "      <td>front</td>\n",
              "      <td>99.4</td>\n",
              "      <td>176.6</td>\n",
              "      <td>...</td>\n",
              "      <td>136</td>\n",
              "      <td>mpfi</td>\n",
              "      <td>3.19</td>\n",
              "      <td>3.40</td>\n",
              "      <td>8.0</td>\n",
              "      <td>115.0</td>\n",
              "      <td>5500.0</td>\n",
              "      <td>18</td>\n",
              "      <td>22</td>\n",
              "      <td>17450.0</td>\n",
              "    </tr>\n",
              "  </tbody>\n",
              "</table>\n",
              "<p>5 rows × 25 columns</p>\n",
              "</div>\n",
              "      <button class=\"colab-df-convert\" onclick=\"convertToInteractive('df-fc923a6b-d23f-4d95-a1aa-1d024bc39758')\"\n",
              "              title=\"Convert this dataframe to an interactive table.\"\n",
              "              style=\"display:none;\">\n",
              "\n",
              "  <svg xmlns=\"http://www.w3.org/2000/svg\" height=\"24px\"viewBox=\"0 0 24 24\"\n",
              "       width=\"24px\">\n",
              "    <path d=\"M0 0h24v24H0V0z\" fill=\"none\"/>\n",
              "    <path d=\"M18.56 5.44l.94 2.06.94-2.06 2.06-.94-2.06-.94-.94-2.06-.94 2.06-2.06.94zm-11 1L8.5 8.5l.94-2.06 2.06-.94-2.06-.94L8.5 2.5l-.94 2.06-2.06.94zm10 10l.94 2.06.94-2.06 2.06-.94-2.06-.94-.94-2.06-.94 2.06-2.06.94z\"/><path d=\"M17.41 7.96l-1.37-1.37c-.4-.4-.92-.59-1.43-.59-.52 0-1.04.2-1.43.59L10.3 9.45l-7.72 7.72c-.78.78-.78 2.05 0 2.83L4 21.41c.39.39.9.59 1.41.59.51 0 1.02-.2 1.41-.59l7.78-7.78 2.81-2.81c.8-.78.8-2.07 0-2.86zM5.41 20L4 18.59l7.72-7.72 1.47 1.35L5.41 20z\"/>\n",
              "  </svg>\n",
              "      </button>\n",
              "\n",
              "\n",
              "\n",
              "    <div id=\"df-a5f23af6-81b4-4d4f-a6c7-3d2d0c591e59\">\n",
              "      <button class=\"colab-df-quickchart\" onclick=\"quickchart('df-a5f23af6-81b4-4d4f-a6c7-3d2d0c591e59')\"\n",
              "              title=\"Suggest charts.\"\n",
              "              style=\"display:none;\">\n",
              "\n",
              "<svg xmlns=\"http://www.w3.org/2000/svg\" height=\"24px\"viewBox=\"0 0 24 24\"\n",
              "     width=\"24px\">\n",
              "    <g>\n",
              "        <path d=\"M19 3H5c-1.1 0-2 .9-2 2v14c0 1.1.9 2 2 2h14c1.1 0 2-.9 2-2V5c0-1.1-.9-2-2-2zM9 17H7v-7h2v7zm4 0h-2V7h2v10zm4 0h-2v-4h2v4z\"/>\n",
              "    </g>\n",
              "</svg>\n",
              "      </button>\n",
              "    </div>\n",
              "\n",
              "<style>\n",
              "  .colab-df-quickchart {\n",
              "    background-color: #E8F0FE;\n",
              "    border: none;\n",
              "    border-radius: 50%;\n",
              "    cursor: pointer;\n",
              "    display: none;\n",
              "    fill: #1967D2;\n",
              "    height: 32px;\n",
              "    padding: 0 0 0 0;\n",
              "    width: 32px;\n",
              "  }\n",
              "\n",
              "  .colab-df-quickchart:hover {\n",
              "    background-color: #E2EBFA;\n",
              "    box-shadow: 0px 1px 2px rgba(60, 64, 67, 0.3), 0px 1px 3px 1px rgba(60, 64, 67, 0.15);\n",
              "    fill: #174EA6;\n",
              "  }\n",
              "\n",
              "  [theme=dark] .colab-df-quickchart {\n",
              "    background-color: #3B4455;\n",
              "    fill: #D2E3FC;\n",
              "  }\n",
              "\n",
              "  [theme=dark] .colab-df-quickchart:hover {\n",
              "    background-color: #434B5C;\n",
              "    box-shadow: 0px 1px 3px 1px rgba(0, 0, 0, 0.15);\n",
              "    filter: drop-shadow(0px 1px 2px rgba(0, 0, 0, 0.3));\n",
              "    fill: #FFFFFF;\n",
              "  }\n",
              "</style>\n",
              "\n",
              "    <script>\n",
              "      async function quickchart(key) {\n",
              "        const containerElement = document.querySelector('#' + key);\n",
              "        const charts = await google.colab.kernel.invokeFunction(\n",
              "            'suggestCharts', [key], {});\n",
              "      }\n",
              "    </script>\n",
              "\n",
              "      <script>\n",
              "\n",
              "function displayQuickchartButton(domScope) {\n",
              "  let quickchartButtonEl =\n",
              "    domScope.querySelector('#df-a5f23af6-81b4-4d4f-a6c7-3d2d0c591e59 button.colab-df-quickchart');\n",
              "  quickchartButtonEl.style.display =\n",
              "    google.colab.kernel.accessAllowed ? 'block' : 'none';\n",
              "}\n",
              "\n",
              "        displayQuickchartButton(document);\n",
              "      </script>\n",
              "      <style>\n",
              "    .colab-df-container {\n",
              "      display:flex;\n",
              "      flex-wrap:wrap;\n",
              "      gap: 12px;\n",
              "    }\n",
              "\n",
              "    .colab-df-convert {\n",
              "      background-color: #E8F0FE;\n",
              "      border: none;\n",
              "      border-radius: 50%;\n",
              "      cursor: pointer;\n",
              "      display: none;\n",
              "      fill: #1967D2;\n",
              "      height: 32px;\n",
              "      padding: 0 0 0 0;\n",
              "      width: 32px;\n",
              "    }\n",
              "\n",
              "    .colab-df-convert:hover {\n",
              "      background-color: #E2EBFA;\n",
              "      box-shadow: 0px 1px 2px rgba(60, 64, 67, 0.3), 0px 1px 3px 1px rgba(60, 64, 67, 0.15);\n",
              "      fill: #174EA6;\n",
              "    }\n",
              "\n",
              "    [theme=dark] .colab-df-convert {\n",
              "      background-color: #3B4455;\n",
              "      fill: #D2E3FC;\n",
              "    }\n",
              "\n",
              "    [theme=dark] .colab-df-convert:hover {\n",
              "      background-color: #434B5C;\n",
              "      box-shadow: 0px 1px 3px 1px rgba(0, 0, 0, 0.15);\n",
              "      filter: drop-shadow(0px 1px 2px rgba(0, 0, 0, 0.3));\n",
              "      fill: #FFFFFF;\n",
              "    }\n",
              "  </style>\n",
              "\n",
              "      <script>\n",
              "        const buttonEl =\n",
              "          document.querySelector('#df-fc923a6b-d23f-4d95-a1aa-1d024bc39758 button.colab-df-convert');\n",
              "        buttonEl.style.display =\n",
              "          google.colab.kernel.accessAllowed ? 'block' : 'none';\n",
              "\n",
              "        async function convertToInteractive(key) {\n",
              "          const element = document.querySelector('#df-fc923a6b-d23f-4d95-a1aa-1d024bc39758');\n",
              "          const dataTable =\n",
              "            await google.colab.kernel.invokeFunction('convertToInteractive',\n",
              "                                                     [key], {});\n",
              "          if (!dataTable) return;\n",
              "\n",
              "          const docLinkHtml = 'Like what you see? Visit the ' +\n",
              "            '<a target=\"_blank\" href=https://colab.research.google.com/notebooks/data_table.ipynb>data table notebook</a>'\n",
              "            + ' to learn more about interactive tables.';\n",
              "          element.innerHTML = '';\n",
              "          dataTable['output_type'] = 'display_data';\n",
              "          await google.colab.output.renderOutput(dataTable, element);\n",
              "          const docLink = document.createElement('div');\n",
              "          docLink.innerHTML = docLinkHtml;\n",
              "          element.appendChild(docLink);\n",
              "        }\n",
              "      </script>\n",
              "    </div>\n",
              "  </div>\n"
            ]
          },
          "metadata": {},
          "execution_count": 4
        }
      ]
    },
    {
      "cell_type": "code",
      "metadata": {
        "id": "J8ygxdghjz4D",
        "colab": {
          "base_uri": "https://localhost:8080/"
        },
        "outputId": "580c4df8-c2f0-4e3f-a138-aad527f92227"
      },
      "source": [
        "ds.info() #Imprimir información más detallada sobre el dataset"
      ],
      "execution_count": null,
      "outputs": [
        {
          "output_type": "stream",
          "name": "stdout",
          "text": [
            "<class 'pandas.core.frame.DataFrame'>\n",
            "RangeIndex: 193 entries, 0 to 192\n",
            "Data columns (total 25 columns):\n",
            " #   Column             Non-Null Count  Dtype  \n",
            "---  ------             --------------  -----  \n",
            " 0   symboling          193 non-null    int64  \n",
            " 1   make               193 non-null    object \n",
            " 2   fuel-type          193 non-null    object \n",
            " 3   aspiration         193 non-null    object \n",
            " 4   num-of-doors       193 non-null    object \n",
            " 5   body-style         193 non-null    object \n",
            " 6   drive-wheels       193 non-null    object \n",
            " 7   engine-location    193 non-null    object \n",
            " 8   wheel-base         193 non-null    float64\n",
            " 9   length             193 non-null    float64\n",
            " 10  width              193 non-null    float64\n",
            " 11  height             193 non-null    float64\n",
            " 12  curb-weight        193 non-null    int64  \n",
            " 13  engine-type        193 non-null    object \n",
            " 14  num-of-cylinders   193 non-null    object \n",
            " 15  engine-size        193 non-null    int64  \n",
            " 16  fuel-system        193 non-null    object \n",
            " 17  bore               193 non-null    float64\n",
            " 18  stroke             193 non-null    float64\n",
            " 19  compression-ratio  193 non-null    float64\n",
            " 20  horsepower         193 non-null    float64\n",
            " 21  peak-rpm           193 non-null    float64\n",
            " 22  city-mpg           193 non-null    int64  \n",
            " 23  highway-mpg        193 non-null    int64  \n",
            " 24  price              193 non-null    float64\n",
            "dtypes: float64(10), int64(5), object(10)\n",
            "memory usage: 37.8+ KB\n"
          ]
        }
      ]
    },
    {
      "cell_type": "code",
      "metadata": {
        "id": "LJmO1fmASyDt",
        "colab": {
          "base_uri": "https://localhost:8080/",
          "height": 466
        },
        "outputId": "2719d88d-ea36-4bcb-ffa5-cf42511896a0"
      },
      "source": [
        "#Tamaño del motor en pulgadas cúbicas versus precio del auto en dólares\n",
        "ds.plot.scatter('engine-size','price')"
      ],
      "execution_count": null,
      "outputs": [
        {
          "output_type": "execute_result",
          "data": {
            "text/plain": [
              "<Axes: xlabel='engine-size', ylabel='price'>"
            ]
          },
          "metadata": {},
          "execution_count": 6
        },
        {
          "output_type": "display_data",
          "data": {
            "text/plain": [
              "<Figure size 640x480 with 1 Axes>"
            ],
            "image/png": "[encoded data removed]"
          },
          "metadata": {}
        }
      ]
    },
    {
      "cell_type": "code",
      "metadata": {
        "id": "sfTXvV-Dte7i",
        "colab": {
          "base_uri": "https://localhost:8080/",
          "height": 466
        },
        "outputId": "cde7f54b-8896-43f8-d931-eacf68465d9b"
      },
      "source": [
        "# Tamaño del motor vs los caballos de fuerza\n",
        "ds.plot.scatter('engine-size','horsepower')"
      ],
      "execution_count": null,
      "outputs": [
        {
          "output_type": "execute_result",
          "data": {
            "text/plain": [
              "<Axes: xlabel='engine-size', ylabel='horsepower'>"
            ]
          },
          "metadata": {},
          "execution_count": 7
        },
        {
          "output_type": "display_data",
          "data": {
            "text/plain": [
              "<Figure size 640x480 with 1 Axes>"
            ],
            "image/png": "[encoded data removed]"
          },
          "metadata": {}
        }
      ]
    },
    {
      "cell_type": "markdown",
      "metadata": {
        "id": "R1OZVNAnH6X5"
      },
      "source": [
        "Ahora, supongamos que queremos poner a la venta un vehículo cuyo motor pesa 220 pulgadas cúbicas, ¿Cuál debería ser su precio de acuerdo al histórico de ventas? Para ello, utilizamos un modelo de Regresión Lineal:\n",
        "\n",
        "![](https://drive.google.com/uc?export=view&id=1nkAfBOZkianCeSmvpu0lD0QVo1THxXL_)\n",
        "\n"
      ]
    },
    {
      "cell_type": "code",
      "metadata": {
        "id": "7yjf0JVBfstK",
        "colab": {
          "base_uri": "https://localhost:8080/",
          "height": 489
        },
        "outputId": "292e953b-f796-482e-b674-0cecfeffa67c"
      },
      "source": [
        "from sklearn.linear_model import LinearRegression #biblioteca de machine learning en Python\n",
        "\n",
        "rl = LinearRegression()  # crea un objeto del modelo de regresión lineal\n",
        "x_tag = 'engine-size' # etiqueta independiente\n",
        "y_tag = 'price' # etiqueta dependiente\n",
        "x = ds[[x_tag]].values # genera arreglo de entrenamiento según tamaño del motor\n",
        "y = ds[[y_tag]].values # genera arreglo de dato a predecir\n",
        "\n",
        "rl.fit(x,y)  # ejecuta la regresión lineal: relaciona de forma lineal los valores del tamaño del motor a su precio\n",
        "Y_pred = rl.predict(x)  # el modelo genera predicciones a partir de los valores de tamaño de motor\n",
        "\n",
        "# Diagrama de dispersión y modelo de regresión lineal\n",
        "plt.title('Scatter plot X:{} vs Y:{}'.format(x_tag, y_tag))\n",
        "plt.scatter(x, y)\n",
        "plt.plot(x, Y_pred, color='red')\n",
        "plt.xlabel(x_tag)\n",
        "plt.ylabel(y_tag)\n",
        "\n",
        "#Imprimir valor a predecir\n",
        "eng_size = 220\n",
        "test_value = np.array([[eng_size]])\n",
        "pred = rl.predict(test_value)\n",
        "plt.plot(eng_size, pred, color='green', marker='x', markersize=10, mew=2)\n",
        "print('Price prediction: ${}'.format(pred[0][0]))\n",
        "\n",
        "plt.show()"
      ],
      "execution_count": null,
      "outputs": [
        {
          "output_type": "stream",
          "name": "stdout",
          "text": [
            "Price prediction: $29166.8212672687\n"
          ]
        },
        {
          "output_type": "display_data",
          "data": {
            "text/plain": [
              "<Figure size 640x480 with 1 Axes>"
            ],
            "image/png": "[encoded data removed]"
          },
          "metadata": {}
        }
      ]
    },
    {
      "cell_type": "markdown",
      "metadata": {
        "id": "LTlQaatikmwP"
      },
      "source": [
        "Se pueden obtener los parámetros del modelo de regresión lineal `(y = mx + b)` y así realizar las estimaciones:"
      ]
    },
    {
      "cell_type": "code",
      "metadata": {
        "id": "UanhRfy-i5ur",
        "colab": {
          "base_uri": "https://localhost:8080/"
        },
        "outputId": "1a9a9e86-c2f7-4fbd-b3c6-85e78f39c86e"
      },
      "source": [
        "#Parámetros de la linea (y = mx + b)\n",
        "print('Linear Regression parameters:',rl.coef_,rl.intercept_)\n",
        "print('Price vehicle of 220 cubic inches motor size:', rl.coef_[0][0]*220 + rl.intercept_[0])"
      ],
      "execution_count": null,
      "outputs": [
        {
          "output_type": "stream",
          "name": "stdout",
          "text": [
            "Linear Regression parameters: [[172.86186017]] [-8862.78797073]\n",
            "Price vehicle of 220 cubic inches motor size: 29166.8212672687\n"
          ]
        }
      ]
    },
    {
      "cell_type": "markdown",
      "metadata": {
        "id": "IbHxJwwnwESc"
      },
      "source": [
        "**QUIZ PROBLEMAS REGRESIÓN LINEAL #1**\n",
        "\n",
        "¿Qué problema se observa en las predicciones hechas por el modelo de regresión lineal a partir del tamaño del motor?\n",
        "\n",
        "![](https://drive.google.com/uc?export=view&id=1UtOKM0jb8-JZiwgGDQCCqoG-MNzNBFhY)\n",
        "\n",
        "1. El modelo es un tanto simple para representar con presición el comportamiento de los datos\n",
        "\n",
        "2. La predicción para el motor de 220 pulgadas cúbicas es poco realista\n",
        "\n",
        "3. Existe mucha variabilidad en el rango de precios para un mismo tamaño de motor\n",
        "\n",
        "4. la 1 y la 3\n",
        "\n",
        "5. Todas las anteriores\n"
      ]
    },
    {
      "cell_type": "markdown",
      "metadata": {
        "id": "OJAQzn6A77Re"
      },
      "source": [
        "## Medición del desempeño de un modelo de regresión\n",
        "\n",
        "El desempeño de un modelo de regresión puede medirse usando el coeficiente de determinación, denotado como $R^2$, el cual indica cuánta variación en la variable de respuesta puede ser explicada por la dependencia respecto a los predictores según el modelo particular de regresión. De esta forma, entre más grande sea $R^2$ mejor es el ajuste del modelo a los datos y por lo tanto mejor es la capacidad del modelo de explicar la variación de la salida en función de los predictores. El rango de valores de $R^2$ va de cero a uno. Matemáticamente $R^2$ se define como:\n",
        "\n",
        "$R^2=1-\\frac{SS_\\text{Reg}}{SS_\\text{Total}}=1-\\frac{\\sum_{i}{(y_i-\\hat{y}_i)^2}}{\\sum_{i}{(y_i-\\bar{y})^2}}$\n",
        "\n",
        "donde $y_i$ es el iésimo valor de la variable de respuesta $y$, $\\hat{y}_i$ es su valor estimado según el modelo de regresión y  $\\bar{y}$ es el valor promedio de $y$."
      ]
    },
    {
      "cell_type": "code",
      "metadata": {
        "id": "j3PJvRGB-MXK",
        "colab": {
          "base_uri": "https://localhost:8080/"
        },
        "outputId": "0b17f9cf-7820-45c8-c12c-d55968101a2d"
      },
      "source": [
        "#Medición del desempeño de la regresión\n",
        "\n",
        "#R2 usando RL y el tamaño del motor\n",
        "rScore = rl.score(x, y)\n",
        "print('R^2:', rScore)"
      ],
      "execution_count": null,
      "outputs": [
        {
          "output_type": "stream",
          "name": "stdout",
          "text": [
            "R^2: 0.7899272137265414\n"
          ]
        }
      ]
    },
    {
      "cell_type": "markdown",
      "metadata": {
        "id": "QxYZGJDElI7r"
      },
      "source": [
        "### Regresión polinomial\n",
        "\n",
        "Como es evidente, el desempeño del modelo de Regresión Lineal no es tan cercano a 1 como se hubiera esperado, por lo que existen estrategias, para mejorar la capacidad de estimación del modelo."
      ]
    },
    {
      "cell_type": "markdown",
      "source": [
        "**1. Aumentar la complejidad del modelo**\n",
        "\n",
        "En este caso, podemos aumentar la complejidad del modelo mediante el uso una función polinomial en lugar de una lineal para aproximar la distribución de los datos y así generar las predicciones."
      ],
      "metadata": {
        "id": "uTQM1R7cqz7_"
      }
    },
    {
      "cell_type": "code",
      "metadata": {
        "id": "yHD1kDeN4uGp",
        "colab": {
          "base_uri": "https://localhost:8080/",
          "height": 507
        },
        "outputId": "50dc3d3d-5c75-4b0c-ba1c-4a2cc9b88def"
      },
      "source": [
        "#Opcion 1: aumentar la complejidad\n",
        "from sklearn.preprocessing import PolynomialFeatures\n",
        "\n",
        "#Transformación de la entrada al grado del polinomio de interés\n",
        "degree = 2\n",
        "x_pol = PolynomialFeatures(degree=degree, include_bias=False).fit_transform(x)\n",
        "#print(x_pol) #nueva entrada\n",
        "\n",
        "#Ajuste de la regresión polinomial\n",
        "rpol = LinearRegression().fit(x_pol, y)\n",
        "\n",
        "#Impresion en pantalla del modelo\n",
        "plt.scatter(x, y)\n",
        "x_seq = np.linspace(x.min(),x.max(),x.size).reshape(-1,1)\n",
        "y_curve = rpol.predict(PolynomialFeatures(degree=degree, include_bias=False).fit_transform(x_seq))\n",
        "plt.plot(x_seq, y_curve, color='red')\n",
        "plt.title('Polynomial Regression')\n",
        "plt.xlabel(x_tag)\n",
        "plt.ylabel(y_tag)\n",
        "\n",
        "#Imprimir valor a predecir\n",
        "test_value = np.array([[eng_size]])\n",
        "test_pol = PolynomialFeatures(degree=degree, include_bias=False).fit_transform(test_value)\n",
        "pred = rpol.predict(test_pol)\n",
        "plt.plot(eng_size, pred, color='green', marker='x', markersize=10, mew=2)\n",
        "print('Price prediction: ${}'.format(pred[0][0]))\n",
        "\n",
        "#Desempeño de la regresión polinomial\n",
        "rScore = rpol.score(x_pol, y)\n",
        "print('R^2:', rScore)"
      ],
      "execution_count": null,
      "outputs": [
        {
          "output_type": "stream",
          "name": "stdout",
          "text": [
            "Price prediction: $29296.091221902898\n",
            "R^2: 0.7930740643803553\n"
          ]
        },
        {
          "output_type": "display_data",
          "data": {
            "text/plain": [
              "<Figure size 640x480 with 1 Axes>"
            ],
            "image/png": "[encoded data removed]"
          },
          "metadata": {}
        }
      ]
    },
    {
      "cell_type": "markdown",
      "metadata": {
        "id": "f4OKd28BKOzS"
      },
      "source": [
        "**2. Aumentar la cantidad de variables independientes**\n",
        "\n",
        "En el contexto de aprendizaje automático las variables independientes son llamadas **entradas**, **características** (*features*) o **predictores**. Asimismo, las variables dependientes son llamadas **salidas** o **variables de respuesta** (*responses*)."
      ]
    },
    {
      "cell_type": "markdown",
      "source": [
        "### Regresión lineal multivariada\n",
        "\n",
        "Cuando aplicamos una regresión usando dos o más entradas para predecir la variable de respuesta hablamos de una **regresión multivariada**. Por ejemplo, podríamos usar la información del peso total del vehículo y el tamaño del motor para predecir su precio."
      ],
      "metadata": {
        "id": "ZJkSRCcDpb9_"
      }
    },
    {
      "cell_type": "code",
      "metadata": {
        "id": "_NL9UH115LIe",
        "colab": {
          "base_uri": "https://localhost:8080/"
        },
        "outputId": "d12071a3-2778-4000-c33b-41fba9275fe8"
      },
      "source": [
        "#Segunda Opción: aumentar la cantidad de variables independientes (features)\n",
        "\n",
        "#Regresión multivariada lineal\n",
        "rl2 = LinearRegression()  # create a linear regression model (object)\n",
        "x2 = ds[['curb-weight','engine-size']].values\n",
        "y2 = ds[['price']].values\n",
        "\n",
        "rl2.fit(x2,y2)  # perform linear regression\n",
        "\n",
        "#Imprimir valor a predecir\n",
        "test_value = np.array([[500, 220]])\n",
        "pred2 = rl2.predict(test_value)\n",
        "print('Price prediction: ${}'.format(pred[0][0]))\n",
        "\n",
        "#R2 usando RL y dos variables\n",
        "rScore2 = rl2.score(x2, y2)\n",
        "print('R^2:', rScore2)\n",
        "\n",
        "#R2 usando RL y tres variables numéricas\n",
        "x3 = ds[['curb-weight','engine-size', 'horsepower']].values\n",
        "rl3 = LinearRegression()  # create a linear regression model (object)\n",
        "rl3.fit(x3,y2)  # perform linear regression\n",
        "rScore3 = rl3.score(x3, y2)\n",
        "print('R^2:', rScore3)\n",
        "\n",
        "#Imprimir valor a predecir\n",
        "test_value = np.array([[500, 220, 150]])\n",
        "pred3 = rl3.predict(test_value)\n",
        "print('Price prediction: ${}'.format(pred[0][0]))\n"
      ],
      "execution_count": null,
      "outputs": [
        {
          "output_type": "stream",
          "name": "stdout",
          "text": [
            "Price prediction: $29296.091221902898\n",
            "R^2: 0.8103051024971152\n",
            "R^2: 0.8194956061511467\n",
            "Price prediction: $29296.091221902898\n"
          ]
        }
      ]
    },
    {
      "cell_type": "markdown",
      "metadata": {
        "id": "JAnAa9uSfjz5"
      },
      "source": [
        "![](https://drive.google.com/uc?export=view&id=1SNoCCl6IlEj_eUvDExmRF7ORKMZ3D4Wk)\n"
      ]
    },
    {
      "cell_type": "markdown",
      "metadata": {
        "id": "mtR9nGdCer0R"
      },
      "source": [
        "Ahora, ¿cómo incorporar variables categóricas al modelo de regresión?"
      ]
    },
    {
      "cell_type": "code",
      "metadata": {
        "id": "M4OmogunzWp3",
        "colab": {
          "base_uri": "https://localhost:8080/"
        },
        "outputId": "b42971c9-7e04-4228-f320-733ed2bf8abc"
      },
      "source": [
        "ds.info()"
      ],
      "execution_count": null,
      "outputs": [
        {
          "output_type": "stream",
          "name": "stdout",
          "text": [
            "<class 'pandas.core.frame.DataFrame'>\n",
            "RangeIndex: 193 entries, 0 to 192\n",
            "Data columns (total 25 columns):\n",
            " #   Column             Non-Null Count  Dtype  \n",
            "---  ------             --------------  -----  \n",
            " 0   symboling          193 non-null    int64  \n",
            " 1   make               193 non-null    object \n",
            " 2   fuel-type          193 non-null    object \n",
            " 3   aspiration         193 non-null    object \n",
            " 4   num-of-doors       193 non-null    object \n",
            " 5   body-style         193 non-null    object \n",
            " 6   drive-wheels       193 non-null    object \n",
            " 7   engine-location    193 non-null    object \n",
            " 8   wheel-base         193 non-null    float64\n",
            " 9   length             193 non-null    float64\n",
            " 10  width              193 non-null    float64\n",
            " 11  height             193 non-null    float64\n",
            " 12  curb-weight        193 non-null    int64  \n",
            " 13  engine-type        193 non-null    object \n",
            " 14  num-of-cylinders   193 non-null    object \n",
            " 15  engine-size        193 non-null    int64  \n",
            " 16  fuel-system        193 non-null    object \n",
            " 17  bore               193 non-null    float64\n",
            " 18  stroke             193 non-null    float64\n",
            " 19  compression-ratio  193 non-null    float64\n",
            " 20  horsepower         193 non-null    float64\n",
            " 21  peak-rpm           193 non-null    float64\n",
            " 22  city-mpg           193 non-null    int64  \n",
            " 23  highway-mpg        193 non-null    int64  \n",
            " 24  price              193 non-null    float64\n",
            "dtypes: float64(10), int64(5), object(10)\n",
            "memory usage: 37.8+ KB\n"
          ]
        }
      ]
    },
    {
      "cell_type": "markdown",
      "metadata": {
        "id": "KXzVqIw6loeL"
      },
      "source": [
        "Veamos qué tanto puede mejorar el coeficiente de determinación si agregamos otra variable categórica al modelo de regresión."
      ]
    },
    {
      "cell_type": "code",
      "metadata": {
        "id": "_hB2yRJSPFL1",
        "colab": {
          "base_uri": "https://localhost:8080/"
        },
        "outputId": "d1bde89c-aab6-4e46-b080-6670724fc2e9"
      },
      "source": [
        "#Ejemplo usando una variable categórica\n",
        "x_cat = pd.get_dummies(ds[['num-of-cylinders']]) #Convierte una variable categórica en una variable indicadora\n",
        "x_num = ds[['curb-weight','engine-size','horsepower']]\n",
        "\n",
        "#Valor a estimar\n",
        "y4 = ds[['price']].values\n",
        "\n",
        "x4 = pd.concat([x_cat.reset_index(drop=True), x_num], axis=1)\n",
        "x4 = x4.values\n",
        "\n",
        "#Ajuste del modelo de regresión\n",
        "rl4 = LinearRegression()  # create a linear regression model (object)\n",
        "rl4.fit(x4, y4)  # perform lin\n",
        "\n",
        "#Valor R2\n",
        "rScore4 = rl4.score(x4, y2)\n",
        "print('R^2:', rScore4)"
      ],
      "execution_count": null,
      "outputs": [
        {
          "output_type": "stream",
          "name": "stdout",
          "text": [
            "R^2: 0.8473956617892356\n"
          ]
        }
      ]
    },
    {
      "cell_type": "code",
      "metadata": {
        "id": "L2k_7qGY2qZO",
        "colab": {
          "base_uri": "https://localhost:8080/"
        },
        "outputId": "6d6ab4e4-1f5d-4567-e08d-3c59c141afad"
      },
      "source": [
        "#Ejemplo usando dos variable categórica\n",
        "x_cat = pd.get_dummies(ds[['num-of-cylinders', 'engine-type']]) #Convierte variables categórica en variables indicadora\n",
        "x_num = ds[['curb-weight', 'engine-size', 'horsepower',  'peak-rpm']]\n",
        "\n",
        "#Crea el arreglo de entrenamiento\n",
        "x5 = pd.concat([x_cat.reset_index(drop=True), x_num], axis=1)\n",
        "x5 = x5.values\n",
        "y5 = y4\n",
        "\n",
        "#Ajuste del modelo de regresión\n",
        "rl5 = LinearRegression()  # create a linear regression model (object)\n",
        "rl5.fit(x5, y5)  # perform linear regression\n",
        "\n",
        "#Valor R2\n",
        "rScore5 = rl5.score(x5, y5)\n",
        "print('R^2:', rScore5)"
      ],
      "execution_count": null,
      "outputs": [
        {
          "output_type": "stream",
          "name": "stdout",
          "text": [
            "R^2: 0.8943483081505778\n"
          ]
        }
      ]
    },
    {
      "cell_type": "markdown",
      "metadata": {
        "id": "ZWS7mdSNl1r_"
      },
      "source": [
        "Es posible combinar ambas opciones para tener mejoras en el desempeño del modelo:"
      ]
    },
    {
      "cell_type": "code",
      "metadata": {
        "id": "sdaFdZMN5dv-",
        "colab": {
          "base_uri": "https://localhost:8080/"
        },
        "outputId": "6db36b15-000b-4a13-a00b-168328f2a689"
      },
      "source": [
        "#Podemos estimar el grado de sobreajuste al observar el error de varianza\n",
        "ds_test = ds\n",
        "\n",
        "x_test = ds_test[['curb-weight','engine-size','horsepower','peak-rpm']].values # variables independientes numéricas\n",
        "y_test = ds_test[['price']].values # variable dependiente numérica\n",
        "\n",
        "degree = 4\n",
        "x_pol_test = PolynomialFeatures(degree=degree, include_bias=False).fit_transform(x_test)\n",
        "x_cat_test = pd.get_dummies(ds_test[['num-of-cylinders', 'engine-type']])\n",
        "\n",
        "#Concatenar variables categóricas y polinomiales\n",
        "# pd.concat()\n",
        "x_test = np.concatenate((x_pol_test, x_cat_test.values),axis=1)\n",
        "\n",
        "#Ajuste del modelo de regresión polinomial\n",
        "rl = LinearRegression()  # create a linear regression model (object)\n",
        "rl.fit(x_test, y_test)  # perform linear regression\n",
        "\n",
        "#Prediciones del modelo utilizando `ground truth`\n",
        "Y_pred_test = rl.predict(x_test)  # make predictions\n",
        "\n",
        "#Valor R2\n",
        "rScore_test = rl.score(x_test, y_test)\n",
        "print('Test R^2:', rScore_test)\n",
        "#print(Y_pred_test)"
      ],
      "execution_count": null,
      "outputs": [
        {
          "output_type": "stream",
          "name": "stdout",
          "text": [
            "Test R^2: 0.9756066076869777\n"
          ]
        }
      ]
    },
    {
      "cell_type": "code",
      "source": [
        "y_test[1:10]"
      ],
      "metadata": {
        "colab": {
          "base_uri": "https://localhost:8080/"
        },
        "id": "3leQcLBaiHQ1",
        "outputId": "d0eef9a9-ec0a-4176-ea11-a2020a95939e"
      },
      "execution_count": null,
      "outputs": [
        {
          "output_type": "execute_result",
          "data": {
            "text/plain": [
              "array([[16500.],\n",
              "       [16500.],\n",
              "       [13950.],\n",
              "       [17450.],\n",
              "       [15250.],\n",
              "       [17710.],\n",
              "       [18920.],\n",
              "       [23875.],\n",
              "       [16430.]])"
            ]
          },
          "metadata": {},
          "execution_count": 19
        }
      ]
    },
    {
      "cell_type": "code",
      "source": [
        "Y_pred_test[1:10]"
      ],
      "metadata": {
        "colab": {
          "base_uri": "https://localhost:8080/"
        },
        "id": "2CX8VO3RiD_b",
        "outputId": "0dfb80d5-7fe9-4e6a-8d00-ba122cfc2fe9"
      },
      "execution_count": null,
      "outputs": [
        {
          "output_type": "execute_result",
          "data": {
            "text/plain": [
              "array([[13555.89531466],\n",
              "       [17441.95505367],\n",
              "       [11842.64818781],\n",
              "       [17119.43350605],\n",
              "       [14696.91254904],\n",
              "       [16642.00456748],\n",
              "       [20395.06751645],\n",
              "       [22417.29376178],\n",
              "       [13617.20478815]])"
            ]
          },
          "metadata": {},
          "execution_count": 18
        }
      ]
    },
    {
      "cell_type": "markdown",
      "source": [
        "## Modelos adicionales\n",
        "\n",
        "Existen otros modelos de regresión más complejos que nos podrían funcionar par mejorar el desempeño como:\n",
        "1. Máquinas de soporte vectorial (SVM)\n",
        "2. Árboles de decisión\n",
        "3. Bosques aleatorios (Random Forest)\n",
        "4. Redes neuronales profundas (DNN)"
      ],
      "metadata": {
        "id": "WJa_Q_Kn3Zjg"
      }
    },
    {
      "cell_type": "markdown",
      "metadata": {
        "id": "yoszXOqZw_Ob"
      },
      "source": [
        "## Consideraciones sobre los modelos de regresión\n",
        "\n",
        "1. Es importante destacar que en un problema de regresión las entradas pueden ser continuas, discretas o categóricas pero la variable de respuesta es **continua**.\n",
        "2. Los coeficientes de la regresión lineal se obtienen a través del método de mínimos cuadrados que minimiza la suma de residuales cuadrados (SSR).\n",
        "![](https://drive.google.com/uc?export=view&id=1S4RAc4lcnxAk6mIyTKsNZAxyXxl3nsGd)\n",
        "3. El $R^2$ es una de las principales métricas para medir el desempeño de una regresión, pues explica qué tanta variabilidad en la respuesta puede ser explicada por el modelo. Sin embargo, es importante resaltar que existen muchas métricas más para medir el desempeño de un modelo de regresión como el error cuadrático medio (MSE) y el  error absoluto medio (MAE).\n",
        "4. En todo set de datos estructurado, cada variable independiente representa una dimensión y un grupo de dimensiones constituye una observación como un vector de características. Los algoritmos de ML puede tener inconvenientes con distribuciones de datos que contengan múltiples dimensiones; es decir, modelos que sean multivariados, puesto que una gran cantidad de variables independientes implican una gran cantidad de datos de entrenamiento que requiere el modelo. Esta dificultad con espacios de alta dimensionalidad se conoce como **la maldición de la dimensionalidad**.\n",
        "5. La meta de un modelo de regresión puede ser la **predicción** de la respuesta a partir de un conjunto de variables de entrada o bien la **cuantificación** de la fuerza y tipo de relación entre la respuesta y las variables de entrada."
      ]
    },
    {
      "cell_type": "markdown",
      "source": [
        "### Subajuste, ajuste y sobre ajuste\n",
        "\n",
        "\n",
        "La escogencia del grado óptimo de la función de regresión polinomial no es trivial y dependerá de cada caso, sin embargo es importante tener en cuenta dos problemas que pueden surgir a raíz de esta decisión: el **subajuste o error de sesgo (underfitting)** y el **sobreajuste o error de varianza (overfitting)**. El subajuste ocurre cuando un modelo no es capaz de capturar correctamente el patrón que siguen los datos de entrenamiento usualmente debido a su simplicidad o falta de entrenamiento. El sobreajuste ocurre cuando el modelo se ajusta demasiado bien a los datos de entrenamiento pero su desempeño es significativamente menor cuando se aplica a nuevos datos. Más adelante veremos algunas técnicas para tratar de reducir ambos problemas.\n",
        "\n",
        "\n",
        "![](https://drive.google.com/uc?export=view&id=1ScfODq4okGdzSp-ByIcQPDuijgDeH2ok)\n"
      ],
      "metadata": {
        "id": "XhpQIiNgouOy"
      }
    },
    {
      "cell_type": "markdown",
      "source": [
        "¿Cómo reducir el sobreajuste?\n",
        "\n",
        "  1. Usar más datos de entrenamiento\n",
        "  2. Aumentado de datos\n",
        "  3. Validación cruzada\n",
        "  4. Selección de variables\n",
        "  5. Regularización"
      ],
      "metadata": {
        "id": "p990FVHP3UvU"
      }
    },
    {
      "cell_type": "markdown",
      "metadata": {
        "id": "FadRiudjLpNl"
      },
      "source": [
        "**QUIZ PROBLEMAS REGRESIÓN LINEAL 2**\n",
        "\n",
        "Si se tiene el siguiente modelo de regresión lineal para predecir $y$ en función de $x_1$:\n",
        "\n",
        "![](https://drive.google.com/uc?export=view&id=1uRjDqrEqjASWp1rUYo079bMgUZCnaLX5)\n",
        "\n",
        "Cuál sería la forma más simple y económica de mejorar el desempeño del modelo:\n",
        "\n",
        "- Recolectar datos sobre variables independientes adicionales ($x_2,x_3,...$) para incorporarlas al modelo\n",
        "- Recolectar observaciones adicionales de $x_1$ y reentrenar el modelo\n",
        "- Aumentar la complejidad del modelo de regresión\n",
        "- La 2 y la 3\n",
        "\n",
        "\n",
        "El problema que afronta el modelo anterior es un problema de:\n",
        "\n",
        "- Sobreajuste\n",
        "- Subajuste\n",
        "- La 1 y la 2\n",
        "- Ninguna de las anteriores"
      ]
    },
    {
      "cell_type": "markdown",
      "metadata": {
        "id": "GG7VjrT3Co_R"
      },
      "source": [
        "## Práctica 2\n",
        "\n",
        "Usando el dataset *obesity_train.csv* y guiándose con la descripción de sus variables en el archivo *obesity_description.txt*:\n",
        "1. Obtenga un modelo de regresión que estime el peso de una persona a partir de su altura y edad. Luego, imprima en pantalla la métrica $R^2$ para medir el desempeño del modelo.\n",
        "2. Obtenga un nuevo modelo que estime el peso de una persona a partir de las 2 variables anteriores y al menos una variable **categórica** más. Luego, imprima en pantalla la métrica $R^2$ para medir el desempeño del modelo.\n",
        "3. Implemente el modelo de regresión con el máximo valor de $R^2$ usando cualquier número de variables y aumentando el grado del polinomio para predecir el peso de una persona."
      ]
    },
    {
      "cell_type": "code",
      "metadata": {
        "id": "7dXnOP2FnHgn"
      },
      "source": [
        "#Puede realizar su práctica aquí"
      ],
      "execution_count": null,
      "outputs": []
    },
    {
      "cell_type": "code",
      "source": [
        "from google.colab import drive\n",
        "drive.mount('/content/drive')"
      ],
      "metadata": {
        "colab": {
          "base_uri": "https://localhost:8080/"
        },
        "id": "YLFikFiFbk1n",
        "outputId": "63dd3c94-9513-4af7-e289-e802a93c46fb"
      },
      "execution_count": 1,
      "outputs": [
        {
          "output_type": "stream",
          "name": "stdout",
          "text": [
            "Mounted at /content/drive\n"
          ]
        }
      ]
    },
    {
      "cell_type": "code",
      "source": [
        "import pandas as pd\n",
        "import numpy as np\n",
        "import matplotlib.pyplot as plt\n",
        "from sklearn.linear_model import LinearRegression\n",
        "from sklearn.preprocessing import PolynomialFeatures"
      ],
      "metadata": {
        "id": "AR1yYtn_b9NH"
      },
      "execution_count": 2,
      "outputs": []
    },
    {
      "cell_type": "code",
      "source": [
        "df = pd.read_csv(\"/content/drive/MyDrive/datasets/obesity_train.csv\", header=0)\n",
        "df.head()"
      ],
      "metadata": {
        "colab": {
          "base_uri": "https://localhost:8080/",
          "height": 270
        },
        "id": "TZxTw2b7c-BH",
        "outputId": "6997b5d3-fe09-482a-c059-60cff6f71b2d"
      },
      "execution_count": 4,
      "outputs": [
        {
          "output_type": "execute_result",
          "data": {
            "text/plain": [
              "   Gender        Age    Height      Weight family_history_with_overweight  \\\n",
              "0  Female  20.254534  1.569480   41.324558                             no   \n",
              "1    Male  36.542885  1.750000  119.434645                            yes   \n",
              "2  Female  26.000000  1.624134  111.531208                            yes   \n",
              "3    Male  22.200779  1.769328  105.000576                            yes   \n",
              "4    Male  17.120699  1.809251   58.968994                            yes   \n",
              "\n",
              "  FAVC      FCVC  NCP        CAEC SMOKE      CH2O SCC       FAF       TUE  \\\n",
              "0  yes  2.392665  1.0  Frequently    no  1.000000  no  0.000000  0.738269   \n",
              "1  yes  2.729890  3.0   Sometimes    no  2.030084  no  0.592607  0.754417   \n",
              "2  yes  3.000000  3.0   Sometimes    no  2.609188  no  0.000000  0.174030   \n",
              "3  yes  2.685484  3.0   Sometimes    no  2.649459  no  1.000000  0.000000   \n",
              "4  yes  2.524428  4.0   Sometimes    no  2.000000  no  2.000000  0.038380   \n",
              "\n",
              "        CALC                 MTRANS           NObeyesdad  \n",
              "0  Sometimes  Public_Transportation  Insufficient_Weight  \n",
              "1  Sometimes             Automobile      Obesity_Type_II  \n",
              "2  Sometimes  Public_Transportation     Obesity_Type_III  \n",
              "3  Sometimes  Public_Transportation       Obesity_Type_I  \n",
              "4         no             Automobile  Insufficient_Weight  "
            ],
            "text/html": [
              "\n",
              "\n",
              "  <div id=\"df-708aeb01-9568-46b8-a0d5-5b754bcb1d2d\">\n",
              "    <div class=\"colab-df-container\">\n",
              "      <div>\n",
              "<style scoped>\n",
              "    .dataframe tbody tr th:only-of-type {\n",
              "        vertical-align: middle;\n",
              "    }\n",
              "\n",
              "    .dataframe tbody tr th {\n",
              "        vertical-align: top;\n",
              "    }\n",
              "\n",
              "    .dataframe thead th {\n",
              "        text-align: right;\n",
              "    }\n",
              "</style>\n",
              "<table border=\"1\" class=\"dataframe\">\n",
              "  <thead>\n",
              "    <tr style=\"text-align: right;\">\n",
              "      <th></th>\n",
              "      <th>Gender</th>\n",
              "      <th>Age</th>\n",
              "      <th>Height</th>\n",
              "      <th>Weight</th>\n",
              "      <th>family_history_with_overweight</th>\n",
              "      <th>FAVC</th>\n",
              "      <th>FCVC</th>\n",
              "      <th>NCP</th>\n",
              "      <th>CAEC</th>\n",
              "      <th>SMOKE</th>\n",
              "      <th>CH2O</th>\n",
              "      <th>SCC</th>\n",
              "      <th>FAF</th>\n",
              "      <th>TUE</th>\n",
              "      <th>CALC</th>\n",
              "      <th>MTRANS</th>\n",
              "      <th>NObeyesdad</th>\n",
              "    </tr>\n",
              "  </thead>\n",
              "  <tbody>\n",
              "    <tr>\n",
              "      <th>0</th>\n",
              "      <td>Female</td>\n",
              "      <td>20.254534</td>\n",
              "      <td>1.569480</td>\n",
              "      <td>41.324558</td>\n",
              "      <td>no</td>\n",
              "      <td>yes</td>\n",
              "      <td>2.392665</td>\n",
              "      <td>1.0</td>\n",
              "      <td>Frequently</td>\n",
              "      <td>no</td>\n",
              "      <td>1.000000</td>\n",
              "      <td>no</td>\n",
              "      <td>0.000000</td>\n",
              "      <td>0.738269</td>\n",
              "      <td>Sometimes</td>\n",
              "      <td>Public_Transportation</td>\n",
              "      <td>Insufficient_Weight</td>\n",
              "    </tr>\n",
              "    <tr>\n",
              "      <th>1</th>\n",
              "      <td>Male</td>\n",
              "      <td>36.542885</td>\n",
              "      <td>1.750000</td>\n",
              "      <td>119.434645</td>\n",
              "      <td>yes</td>\n",
              "      <td>yes</td>\n",
              "      <td>2.729890</td>\n",
              "      <td>3.0</td>\n",
              "      <td>Sometimes</td>\n",
              "      <td>no</td>\n",
              "      <td>2.030084</td>\n",
              "      <td>no</td>\n",
              "      <td>0.592607</td>\n",
              "      <td>0.754417</td>\n",
              "      <td>Sometimes</td>\n",
              "      <td>Automobile</td>\n",
              "      <td>Obesity_Type_II</td>\n",
              "    </tr>\n",
              "    <tr>\n",
              "      <th>2</th>\n",
              "      <td>Female</td>\n",
              "      <td>26.000000</td>\n",
              "      <td>1.624134</td>\n",
              "      <td>111.531208</td>\n",
              "      <td>yes</td>\n",
              "      <td>yes</td>\n",
              "      <td>3.000000</td>\n",
              "      <td>3.0</td>\n",
              "      <td>Sometimes</td>\n",
              "      <td>no</td>\n",
              "      <td>2.609188</td>\n",
              "      <td>no</td>\n",
              "      <td>0.000000</td>\n",
              "      <td>0.174030</td>\n",
              "      <td>Sometimes</td>\n",
              "      <td>Public_Transportation</td>\n",
              "      <td>Obesity_Type_III</td>\n",
              "    </tr>\n",
              "    <tr>\n",
              "      <th>3</th>\n",
              "      <td>Male</td>\n",
              "      <td>22.200779</td>\n",
              "      <td>1.769328</td>\n",
              "      <td>105.000576</td>\n",
              "      <td>yes</td>\n",
              "      <td>yes</td>\n",
              "      <td>2.685484</td>\n",
              "      <td>3.0</td>\n",
              "      <td>Sometimes</td>\n",
              "      <td>no</td>\n",
              "      <td>2.649459</td>\n",
              "      <td>no</td>\n",
              "      <td>1.000000</td>\n",
              "      <td>0.000000</td>\n",
              "      <td>Sometimes</td>\n",
              "      <td>Public_Transportation</td>\n",
              "      <td>Obesity_Type_I</td>\n",
              "    </tr>\n",
              "    <tr>\n",
              "      <th>4</th>\n",
              "      <td>Male</td>\n",
              "      <td>17.120699</td>\n",
              "      <td>1.809251</td>\n",
              "      <td>58.968994</td>\n",
              "      <td>yes</td>\n",
              "      <td>yes</td>\n",
              "      <td>2.524428</td>\n",
              "      <td>4.0</td>\n",
              "      <td>Sometimes</td>\n",
              "      <td>no</td>\n",
              "      <td>2.000000</td>\n",
              "      <td>no</td>\n",
              "      <td>2.000000</td>\n",
              "      <td>0.038380</td>\n",
              "      <td>no</td>\n",
              "      <td>Automobile</td>\n",
              "      <td>Insufficient_Weight</td>\n",
              "    </tr>\n",
              "  </tbody>\n",
              "</table>\n",
              "</div>\n",
              "      <button class=\"colab-df-convert\" onclick=\"convertToInteractive('df-708aeb01-9568-46b8-a0d5-5b754bcb1d2d')\"\n",
              "              title=\"Convert this dataframe to an interactive table.\"\n",
              "              style=\"display:none;\">\n",
              "\n",
              "  <svg xmlns=\"http://www.w3.org/2000/svg\" height=\"24px\"viewBox=\"0 0 24 24\"\n",
              "       width=\"24px\">\n",
              "    <path d=\"M0 0h24v24H0V0z\" fill=\"none\"/>\n",
              "    <path d=\"M18.56 5.44l.94 2.06.94-2.06 2.06-.94-2.06-.94-.94-2.06-.94 2.06-2.06.94zm-11 1L8.5 8.5l.94-2.06 2.06-.94-2.06-.94L8.5 2.5l-.94 2.06-2.06.94zm10 10l.94 2.06.94-2.06 2.06-.94-2.06-.94-.94-2.06-.94 2.06-2.06.94z\"/><path d=\"M17.41 7.96l-1.37-1.37c-.4-.4-.92-.59-1.43-.59-.52 0-1.04.2-1.43.59L10.3 9.45l-7.72 7.72c-.78.78-.78 2.05 0 2.83L4 21.41c.39.39.9.59 1.41.59.51 0 1.02-.2 1.41-.59l7.78-7.78 2.81-2.81c.8-.78.8-2.07 0-2.86zM5.41 20L4 18.59l7.72-7.72 1.47 1.35L5.41 20z\"/>\n",
              "  </svg>\n",
              "      </button>\n",
              "\n",
              "\n",
              "\n",
              "    <div id=\"df-92a643c5-9955-4760-b0d3-83b88e0367b2\">\n",
              "      <button class=\"colab-df-quickchart\" onclick=\"quickchart('df-92a643c5-9955-4760-b0d3-83b88e0367b2')\"\n",
              "              title=\"Suggest charts.\"\n",
              "              style=\"display:none;\">\n",
              "\n",
              "<svg xmlns=\"http://www.w3.org/2000/svg\" height=\"24px\"viewBox=\"0 0 24 24\"\n",
              "     width=\"24px\">\n",
              "    <g>\n",
              "        <path d=\"M19 3H5c-1.1 0-2 .9-2 2v14c0 1.1.9 2 2 2h14c1.1 0 2-.9 2-2V5c0-1.1-.9-2-2-2zM9 17H7v-7h2v7zm4 0h-2V7h2v10zm4 0h-2v-4h2v4z\"/>\n",
              "    </g>\n",
              "</svg>\n",
              "      </button>\n",
              "    </div>\n",
              "\n",
              "<style>\n",
              "  .colab-df-quickchart {\n",
              "    background-color: #E8F0FE;\n",
              "    border: none;\n",
              "    border-radius: 50%;\n",
              "    cursor: pointer;\n",
              "    display: none;\n",
              "    fill: #1967D2;\n",
              "    height: 32px;\n",
              "    padding: 0 0 0 0;\n",
              "    width: 32px;\n",
              "  }\n",
              "\n",
              "  .colab-df-quickchart:hover {\n",
              "    background-color: #E2EBFA;\n",
              "    box-shadow: 0px 1px 2px rgba(60, 64, 67, 0.3), 0px 1px 3px 1px rgba(60, 64, 67, 0.15);\n",
              "    fill: #174EA6;\n",
              "  }\n",
              "\n",
              "  [theme=dark] .colab-df-quickchart {\n",
              "    background-color: #3B4455;\n",
              "    fill: #D2E3FC;\n",
              "  }\n",
              "\n",
              "  [theme=dark] .colab-df-quickchart:hover {\n",
              "    background-color: #434B5C;\n",
              "    box-shadow: 0px 1px 3px 1px rgba(0, 0, 0, 0.15);\n",
              "    filter: drop-shadow(0px 1px 2px rgba(0, 0, 0, 0.3));\n",
              "    fill: #FFFFFF;\n",
              "  }\n",
              "</style>\n",
              "\n",
              "    <script>\n",
              "      async function quickchart(key) {\n",
              "        const containerElement = document.querySelector('#' + key);\n",
              "        const charts = await google.colab.kernel.invokeFunction(\n",
              "            'suggestCharts', [key], {});\n",
              "      }\n",
              "    </script>\n",
              "\n",
              "      <script>\n",
              "\n",
              "function displayQuickchartButton(domScope) {\n",
              "  let quickchartButtonEl =\n",
              "    domScope.querySelector('#df-92a643c5-9955-4760-b0d3-83b88e0367b2 button.colab-df-quickchart');\n",
              "  quickchartButtonEl.style.display =\n",
              "    google.colab.kernel.accessAllowed ? 'block' : 'none';\n",
              "}\n",
              "\n",
              "        displayQuickchartButton(document);\n",
              "      </script>\n",
              "      <style>\n",
              "    .colab-df-container {\n",
              "      display:flex;\n",
              "      flex-wrap:wrap;\n",
              "      gap: 12px;\n",
              "    }\n",
              "\n",
              "    .colab-df-convert {\n",
              "      background-color: #E8F0FE;\n",
              "      border: none;\n",
              "      border-radius: 50%;\n",
              "      cursor: pointer;\n",
              "      display: none;\n",
              "      fill: #1967D2;\n",
              "      height: 32px;\n",
              "      padding: 0 0 0 0;\n",
              "      width: 32px;\n",
              "    }\n",
              "\n",
              "    .colab-df-convert:hover {\n",
              "      background-color: #E2EBFA;\n",
              "      box-shadow: 0px 1px 2px rgba(60, 64, 67, 0.3), 0px 1px 3px 1px rgba(60, 64, 67, 0.15);\n",
              "      fill: #174EA6;\n",
              "    }\n",
              "\n",
              "    [theme=dark] .colab-df-convert {\n",
              "      background-color: #3B4455;\n",
              "      fill: #D2E3FC;\n",
              "    }\n",
              "\n",
              "    [theme=dark] .colab-df-convert:hover {\n",
              "      background-color: #434B5C;\n",
              "      box-shadow: 0px 1px 3px 1px rgba(0, 0, 0, 0.15);\n",
              "      filter: drop-shadow(0px 1px 2px rgba(0, 0, 0, 0.3));\n",
              "      fill: #FFFFFF;\n",
              "    }\n",
              "  </style>\n",
              "\n",
              "      <script>\n",
              "        const buttonEl =\n",
              "          document.querySelector('#df-708aeb01-9568-46b8-a0d5-5b754bcb1d2d button.colab-df-convert');\n",
              "        buttonEl.style.display =\n",
              "          google.colab.kernel.accessAllowed ? 'block' : 'none';\n",
              "\n",
              "        async function convertToInteractive(key) {\n",
              "          const element = document.querySelector('#df-708aeb01-9568-46b8-a0d5-5b754bcb1d2d');\n",
              "          const dataTable =\n",
              "            await google.colab.kernel.invokeFunction('convertToInteractive',\n",
              "                                                     [key], {});\n",
              "          if (!dataTable) return;\n",
              "\n",
              "          const docLinkHtml = 'Like what you see? Visit the ' +\n",
              "            '<a target=\"_blank\" href=https://colab.research.google.com/notebooks/data_table.ipynb>data table notebook</a>'\n",
              "            + ' to learn more about interactive tables.';\n",
              "          element.innerHTML = '';\n",
              "          dataTable['output_type'] = 'display_data';\n",
              "          await google.colab.output.renderOutput(dataTable, element);\n",
              "          const docLink = document.createElement('div');\n",
              "          docLink.innerHTML = docLinkHtml;\n",
              "          element.appendChild(docLink);\n",
              "        }\n",
              "      </script>\n",
              "    </div>\n",
              "  </div>\n"
            ]
          },
          "metadata": {},
          "execution_count": 4
        }
      ]
    },
    {
      "cell_type": "code",
      "source": [
        "# 1) R^2 usando altura y peso.\n",
        "x = df[['Height', 'Age']].values\n",
        "Y = df[['Weight']].values\n",
        "\n",
        "rl = LinearRegression()\n",
        "rl.fit(x, Y)\n",
        "\n",
        "rScore = rl.score(x, Y)\n",
        "rScore"
      ],
      "metadata": {
        "colab": {
          "base_uri": "https://localhost:8080/"
        },
        "id": "UPr_uQ_pdjFa",
        "outputId": "31e88fb7-96b0-46db-e4b2-d589b9df52de"
      },
      "execution_count": 7,
      "outputs": [
        {
          "output_type": "execute_result",
          "data": {
            "text/plain": [
              "0.25582809406905216"
            ]
          },
          "metadata": {},
          "execution_count": 7
        }
      ]
    },
    {
      "cell_type": "code",
      "source": [
        "# 2) Usando variable categórica\n",
        "x_cat = pd.get_dummies(df[['family_history_with_overweight']])\n",
        "x = np.concatenate((x, x_cat.values),axis=1)\n",
        "\n",
        "rl = LinearRegression()\n",
        "rl.fit(x, Y)\n",
        "\n",
        "rScore = rl.score(x, Y)\n",
        "rScore"
      ],
      "metadata": {
        "colab": {
          "base_uri": "https://localhost:8080/"
        },
        "id": "06VBF_TaeSz2",
        "outputId": "343d61e8-c115-49ba-ddc7-e9bf1c7b3f0e"
      },
      "execution_count": 9,
      "outputs": [
        {
          "output_type": "execute_result",
          "data": {
            "text/plain": [
              "0.3812278083981312"
            ]
          },
          "metadata": {},
          "execution_count": 9
        }
      ]
    },
    {
      "cell_type": "code",
      "source": [
        "# 3) Usando rgresión polinomial\n",
        "x = df[['Height', 'Age', 'CH2O']].values\n",
        "x_cat = pd.get_dummies(df[['family_history_with_overweight', 'NObeyesdad', 'SMOKE', 'Gender']])\n",
        "\n",
        "x_pol = PolynomialFeatures(degree=5, include_bias=False).fit_transform(x)\n",
        "x = np.concatenate((x_pol, x_cat.values), axis=1)\n",
        "\n",
        "Y = df[['Weight']].values\n",
        "\n",
        "rl = LinearRegression()\n",
        "rl.fit(x, Y)\n",
        "\n",
        "rScore = rl.score(x, Y)\n",
        "rScore"
      ],
      "metadata": {
        "colab": {
          "base_uri": "https://localhost:8080/"
        },
        "id": "TZZFDK7pfMzX",
        "outputId": "43d041d5-7963-43fb-d3dc-3d4dfd7948a4"
      },
      "execution_count": 19,
      "outputs": [
        {
          "output_type": "execute_result",
          "data": {
            "text/plain": [
              "0.9737737249674411"
            ]
          },
          "metadata": {},
          "execution_count": 19
        }
      ]
    }
  ]
}