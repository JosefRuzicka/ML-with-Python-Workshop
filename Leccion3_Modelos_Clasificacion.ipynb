{
  "nbformat": 4,
  "nbformat_minor": 0,
  "metadata": {
    "colab": {
      "provenance": []
    },
    "kernelspec": {
      "name": "python3",
      "display_name": "Python 3"
    }
  },
  "cells": [
    {
      "cell_type": "markdown",
      "metadata": {
        "id": "2cwvIJXlLoOj"
      },
      "source": [
        "# Lección 3: Modelos de clasificación\n",
        "\n",
        "Autor: Jorge Castro, Fabricio Quirós Corella"
      ]
    },
    {
      "cell_type": "markdown",
      "metadata": {
        "id": "K_okIlKNPfL-"
      },
      "source": [
        "## Tipos de clasificación\n",
        "\n",
        "Los modelos de **clasificación** buscan predecir una **etiqueta** de clase discreta a partir de variables de entrada discretas o continuas."
      ]
    },
    {
      "cell_type": "markdown",
      "source": [
        "### Clasificación binaria\n",
        "\n",
        "Si contamos con solo 2 clases se dice que es un problema de **clasificación binaria**.  Por ejemplo, si quisiéramos diagnosticar cáncer a partir de imágenes microscópicas de tejidos, o si quisiéramos identificar el género de una persona a partir de una grabación de audio.\n",
        "\n",
        "![](https://drive.google.com/uc?export=view&id=1oyjGmvsWd9bXwlg_jwo7PZl_ZXAlGHWQ)\n",
        "\n",
        "![](https://drive.google.com/uc?export=view&id=11aO6Fg7d2M0jdDIHkc71gem2Dqz3oGpQ)"
      ],
      "metadata": {
        "id": "y-RIeCQRh2_Q"
      }
    },
    {
      "cell_type": "markdown",
      "source": [
        "### Clasificación multiclase\n",
        "\n",
        "Si contamos con más de 2 clases se dice que es un problema de **clasificación multiclase**. Por ejemplo, si quisiéramos detectar diferentes especies de plantas usando fotos de sus hojas.  O si quisiéramos detectar el lenguaje de un texto.\n",
        "\n",
        "![](https://drive.google.com/uc?export=view&id=1yFFHfyLMEe-Uxv2sO-oph3QLU-rK99Kf)\n",
        "\n",
        "![](https://drive.google.com/uc?export=view&id=1shqo3y7Nvpyyi5f15g7NTwgWgFkSm5e9)"
      ],
      "metadata": {
        "id": "MLqfdrMl-Jl3"
      }
    },
    {
      "cell_type": "markdown",
      "source": [
        "### Clasificación de multi-etiqueta\n",
        "\n",
        "Cuando a cada muestra de entrenamiento se le pueden asignar 2 o más clases se dice que es un problema de **clasificación multi-etiqueta**. Por ejemplo, si quisiéramos detectar las diferentes especies de pájaros vocalizando en una grabación de audio.\n",
        "\n",
        "![](https://drive.google.com/uc?export=view&id=1gDSdMD7M25o_3tRONFPh_ddrOd3apOrz)"
      ],
      "metadata": {
        "id": "rvFWFBwx-LQt"
      }
    },
    {
      "cell_type": "markdown",
      "metadata": {
        "id": "EQxIbdUavcUe"
      },
      "source": [
        "**QUIZ DE IDENTIFICACIÓN DEL TIPO DE PROBLEMA**\n",
        "\n",
        "Si quisiéramos predecir el comportamiento de la bolsa de valores o el crecimiento de una compañía a partir de datos históricos de las mismas estaríamos ante un problema de:\n",
        "\n",
        "- Regresión\n",
        "- Clasificación binaria\n",
        "- Clasificación multiclase\n",
        "- Ninguna de las anteriores\n",
        "\n",
        "Si quisieramos desarrollar un modelo para detectar transacciones bancarias fraudulentas, este resolvería una tarea de:\n",
        "\n",
        "- Regresión\n",
        "- Clasificación binaria\n",
        "- Clasificación multiclase\n",
        "- Clasificación multi-etiqueta\n",
        "\n",
        "Si quisieramos desarrollar un modelo para identificar la presencia de peatones y automoviles en imágenes de video tomadas en una ciudad, estaríamos ante un problema de:\n",
        "\n",
        "- Regresión\n",
        "- Clasificación binaria\n",
        "- Clasificación multiclase\n",
        "- Clasificación multi-etiqueta"
      ]
    },
    {
      "cell_type": "markdown",
      "metadata": {
        "id": "2eNogl-vJPwC"
      },
      "source": [
        "## Regresión logística\n",
        "\n",
        "La regresión logística es uno de los modelos de clasificación más simples y ampliamente usados. A través de la regresión logística se obtiene un **límite de decisión** (*decision boundary*) para separar distintas clases. Por ejemplo, si quisiéramos obtener un modelo para clasificar manzanas y limones de acuerdo a su anchura y altura, entonces partiendo de los siguientes datos:\n",
        "\n",
        "\n",
        "\n",
        "\n"
      ]
    },
    {
      "cell_type": "code",
      "metadata": {
        "id": "YqANlxSvKl1r"
      },
      "source": [
        "#Código para cargar el dataset\n",
        "from google.colab import files\n",
        "uploaded = files.upload()"
      ],
      "execution_count": null,
      "outputs": []
    },
    {
      "cell_type": "markdown",
      "source": [
        "Montemos la carpeta asociada a nuestro Google Drive."
      ],
      "metadata": {
        "id": "XVp44pZekULR"
      }
    },
    {
      "cell_type": "code",
      "metadata": {
        "id": "P3UGKkBoNYQu",
        "colab": {
          "base_uri": "https://localhost:8080/"
        },
        "outputId": "54cf2f1c-43e7-496c-cdea-9827d29cb957"
      },
      "source": [
        "#Código para montar el Drive\n",
        "from google.colab import drive\n",
        "drive.mount('/content/drive', force_remount=True)"
      ],
      "execution_count": null,
      "outputs": [
        {
          "output_type": "stream",
          "name": "stdout",
          "text": [
            "Mounted at /content/drive\n"
          ]
        }
      ]
    },
    {
      "cell_type": "markdown",
      "source": [
        "Importamos las librerías necesarias y ejecutamos la lectura del archivo asociado al set de datos de frutas."
      ],
      "metadata": {
        "id": "8mSPrVbTkeg4"
      }
    },
    {
      "cell_type": "code",
      "metadata": {
        "id": "S9EybcZXNMgF"
      },
      "source": [
        "import pandas as pd #biblioteca para lectura de datos estructurados y su manipulación\n",
        "import numpy as np  #biblioteca para realizar operaciones con vectores y matrices\n",
        "import matplotlib.pyplot as plt #biblioteca para visualización de datos\n",
        "\n",
        "filepath = '/content/drive/MyDrive/MachineLearning/datasets/fruits.csv'\n",
        "ds = pd.read_csv(filepath, header=0)"
      ],
      "execution_count": null,
      "outputs": []
    },
    {
      "cell_type": "code",
      "source": [
        "#Revisión de aspectos generales del dataframe\n",
        "ds.info()"
      ],
      "metadata": {
        "id": "2qMp364Tk5CW",
        "colab": {
          "base_uri": "https://localhost:8080/"
        },
        "outputId": "5d13c303-8d60-40ef-c951-b64079581a11"
      },
      "execution_count": null,
      "outputs": [
        {
          "output_type": "stream",
          "name": "stdout",
          "text": [
            "<class 'pandas.core.frame.DataFrame'>\n",
            "RangeIndex: 59 entries, 0 to 58\n",
            "Data columns (total 7 columns):\n",
            " #   Column         Non-Null Count  Dtype  \n",
            "---  ------         --------------  -----  \n",
            " 0   fruit_label    59 non-null     int64  \n",
            " 1   fruit_name     59 non-null     object \n",
            " 2   fruit_subtype  59 non-null     object \n",
            " 3   mass           59 non-null     int64  \n",
            " 4   width          59 non-null     float64\n",
            " 5   height         59 non-null     float64\n",
            " 6   color_score    59 non-null     float64\n",
            "dtypes: float64(3), int64(2), object(2)\n",
            "memory usage: 3.4+ KB\n"
          ]
        }
      ]
    },
    {
      "cell_type": "code",
      "metadata": {
        "id": "LJI3UhR5NvKK",
        "colab": {
          "base_uri": "https://localhost:8080/",
          "height": 206
        },
        "outputId": "e3c0401b-ba65-4e76-db7b-9ee1a16ddc0d"
      },
      "source": [
        "#Explorar el set de datos como un dataframe\n",
        "ds.head()"
      ],
      "execution_count": null,
      "outputs": [
        {
          "output_type": "execute_result",
          "data": {
            "text/plain": [
              "   fruit_label fruit_name fruit_subtype  mass  width  height  color_score\n",
              "0            1      apple  granny_smith   192    8.4     7.3         0.55\n",
              "1            1      apple  granny_smith   180    8.0     6.8         0.59\n",
              "2            1      apple  granny_smith   176    7.4     7.2         0.60\n",
              "3            2   mandarin      mandarin    86    6.2     4.7         0.80\n",
              "4            2   mandarin      mandarin    84    6.0     4.6         0.79"
            ],
            "text/html": [
              "\n",
              "\n",
              "  <div id=\"df-610903ab-939a-4b1a-9086-c5727268a6fa\">\n",
              "    <div class=\"colab-df-container\">\n",
              "      <div>\n",
              "<style scoped>\n",
              "    .dataframe tbody tr th:only-of-type {\n",
              "        vertical-align: middle;\n",
              "    }\n",
              "\n",
              "    .dataframe tbody tr th {\n",
              "        vertical-align: top;\n",
              "    }\n",
              "\n",
              "    .dataframe thead th {\n",
              "        text-align: right;\n",
              "    }\n",
              "</style>\n",
              "<table border=\"1\" class=\"dataframe\">\n",
              "  <thead>\n",
              "    <tr style=\"text-align: right;\">\n",
              "      <th></th>\n",
              "      <th>fruit_label</th>\n",
              "      <th>fruit_name</th>\n",
              "      <th>fruit_subtype</th>\n",
              "      <th>mass</th>\n",
              "      <th>width</th>\n",
              "      <th>height</th>\n",
              "      <th>color_score</th>\n",
              "    </tr>\n",
              "  </thead>\n",
              "  <tbody>\n",
              "    <tr>\n",
              "      <th>0</th>\n",
              "      <td>1</td>\n",
              "      <td>apple</td>\n",
              "      <td>granny_smith</td>\n",
              "      <td>192</td>\n",
              "      <td>8.4</td>\n",
              "      <td>7.3</td>\n",
              "      <td>0.55</td>\n",
              "    </tr>\n",
              "    <tr>\n",
              "      <th>1</th>\n",
              "      <td>1</td>\n",
              "      <td>apple</td>\n",
              "      <td>granny_smith</td>\n",
              "      <td>180</td>\n",
              "      <td>8.0</td>\n",
              "      <td>6.8</td>\n",
              "      <td>0.59</td>\n",
              "    </tr>\n",
              "    <tr>\n",
              "      <th>2</th>\n",
              "      <td>1</td>\n",
              "      <td>apple</td>\n",
              "      <td>granny_smith</td>\n",
              "      <td>176</td>\n",
              "      <td>7.4</td>\n",
              "      <td>7.2</td>\n",
              "      <td>0.60</td>\n",
              "    </tr>\n",
              "    <tr>\n",
              "      <th>3</th>\n",
              "      <td>2</td>\n",
              "      <td>mandarin</td>\n",
              "      <td>mandarin</td>\n",
              "      <td>86</td>\n",
              "      <td>6.2</td>\n",
              "      <td>4.7</td>\n",
              "      <td>0.80</td>\n",
              "    </tr>\n",
              "    <tr>\n",
              "      <th>4</th>\n",
              "      <td>2</td>\n",
              "      <td>mandarin</td>\n",
              "      <td>mandarin</td>\n",
              "      <td>84</td>\n",
              "      <td>6.0</td>\n",
              "      <td>4.6</td>\n",
              "      <td>0.79</td>\n",
              "    </tr>\n",
              "  </tbody>\n",
              "</table>\n",
              "</div>\n",
              "      <button class=\"colab-df-convert\" onclick=\"convertToInteractive('df-610903ab-939a-4b1a-9086-c5727268a6fa')\"\n",
              "              title=\"Convert this dataframe to an interactive table.\"\n",
              "              style=\"display:none;\">\n",
              "\n",
              "  <svg xmlns=\"http://www.w3.org/2000/svg\" height=\"24px\"viewBox=\"0 0 24 24\"\n",
              "       width=\"24px\">\n",
              "    <path d=\"M0 0h24v24H0V0z\" fill=\"none\"/>\n",
              "    <path d=\"M18.56 5.44l.94 2.06.94-2.06 2.06-.94-2.06-.94-.94-2.06-.94 2.06-2.06.94zm-11 1L8.5 8.5l.94-2.06 2.06-.94-2.06-.94L8.5 2.5l-.94 2.06-2.06.94zm10 10l.94 2.06.94-2.06 2.06-.94-2.06-.94-.94-2.06-.94 2.06-2.06.94z\"/><path d=\"M17.41 7.96l-1.37-1.37c-.4-.4-.92-.59-1.43-.59-.52 0-1.04.2-1.43.59L10.3 9.45l-7.72 7.72c-.78.78-.78 2.05 0 2.83L4 21.41c.39.39.9.59 1.41.59.51 0 1.02-.2 1.41-.59l7.78-7.78 2.81-2.81c.8-.78.8-2.07 0-2.86zM5.41 20L4 18.59l7.72-7.72 1.47 1.35L5.41 20z\"/>\n",
              "  </svg>\n",
              "      </button>\n",
              "\n",
              "\n",
              "\n",
              "    <div id=\"df-9b507a91-3493-4945-8d42-e0ee30d89231\">\n",
              "      <button class=\"colab-df-quickchart\" onclick=\"quickchart('df-9b507a91-3493-4945-8d42-e0ee30d89231')\"\n",
              "              title=\"Suggest charts.\"\n",
              "              style=\"display:none;\">\n",
              "\n",
              "<svg xmlns=\"http://www.w3.org/2000/svg\" height=\"24px\"viewBox=\"0 0 24 24\"\n",
              "     width=\"24px\">\n",
              "    <g>\n",
              "        <path d=\"M19 3H5c-1.1 0-2 .9-2 2v14c0 1.1.9 2 2 2h14c1.1 0 2-.9 2-2V5c0-1.1-.9-2-2-2zM9 17H7v-7h2v7zm4 0h-2V7h2v10zm4 0h-2v-4h2v4z\"/>\n",
              "    </g>\n",
              "</svg>\n",
              "      </button>\n",
              "    </div>\n",
              "\n",
              "<style>\n",
              "  .colab-df-quickchart {\n",
              "    background-color: #E8F0FE;\n",
              "    border: none;\n",
              "    border-radius: 50%;\n",
              "    cursor: pointer;\n",
              "    display: none;\n",
              "    fill: #1967D2;\n",
              "    height: 32px;\n",
              "    padding: 0 0 0 0;\n",
              "    width: 32px;\n",
              "  }\n",
              "\n",
              "  .colab-df-quickchart:hover {\n",
              "    background-color: #E2EBFA;\n",
              "    box-shadow: 0px 1px 2px rgba(60, 64, 67, 0.3), 0px 1px 3px 1px rgba(60, 64, 67, 0.15);\n",
              "    fill: #174EA6;\n",
              "  }\n",
              "\n",
              "  [theme=dark] .colab-df-quickchart {\n",
              "    background-color: #3B4455;\n",
              "    fill: #D2E3FC;\n",
              "  }\n",
              "\n",
              "  [theme=dark] .colab-df-quickchart:hover {\n",
              "    background-color: #434B5C;\n",
              "    box-shadow: 0px 1px 3px 1px rgba(0, 0, 0, 0.15);\n",
              "    filter: drop-shadow(0px 1px 2px rgba(0, 0, 0, 0.3));\n",
              "    fill: #FFFFFF;\n",
              "  }\n",
              "</style>\n",
              "\n",
              "    <script>\n",
              "      async function quickchart(key) {\n",
              "        const containerElement = document.querySelector('#' + key);\n",
              "        const charts = await google.colab.kernel.invokeFunction(\n",
              "            'suggestCharts', [key], {});\n",
              "      }\n",
              "    </script>\n",
              "\n",
              "      <script>\n",
              "\n",
              "function displayQuickchartButton(domScope) {\n",
              "  let quickchartButtonEl =\n",
              "    domScope.querySelector('#df-9b507a91-3493-4945-8d42-e0ee30d89231 button.colab-df-quickchart');\n",
              "  quickchartButtonEl.style.display =\n",
              "    google.colab.kernel.accessAllowed ? 'block' : 'none';\n",
              "}\n",
              "\n",
              "        displayQuickchartButton(document);\n",
              "      </script>\n",
              "      <style>\n",
              "    .colab-df-container {\n",
              "      display:flex;\n",
              "      flex-wrap:wrap;\n",
              "      gap: 12px;\n",
              "    }\n",
              "\n",
              "    .colab-df-convert {\n",
              "      background-color: #E8F0FE;\n",
              "      border: none;\n",
              "      border-radius: 50%;\n",
              "      cursor: pointer;\n",
              "      display: none;\n",
              "      fill: #1967D2;\n",
              "      height: 32px;\n",
              "      padding: 0 0 0 0;\n",
              "      width: 32px;\n",
              "    }\n",
              "\n",
              "    .colab-df-convert:hover {\n",
              "      background-color: #E2EBFA;\n",
              "      box-shadow: 0px 1px 2px rgba(60, 64, 67, 0.3), 0px 1px 3px 1px rgba(60, 64, 67, 0.15);\n",
              "      fill: #174EA6;\n",
              "    }\n",
              "\n",
              "    [theme=dark] .colab-df-convert {\n",
              "      background-color: #3B4455;\n",
              "      fill: #D2E3FC;\n",
              "    }\n",
              "\n",
              "    [theme=dark] .colab-df-convert:hover {\n",
              "      background-color: #434B5C;\n",
              "      box-shadow: 0px 1px 3px 1px rgba(0, 0, 0, 0.15);\n",
              "      filter: drop-shadow(0px 1px 2px rgba(0, 0, 0, 0.3));\n",
              "      fill: #FFFFFF;\n",
              "    }\n",
              "  </style>\n",
              "\n",
              "      <script>\n",
              "        const buttonEl =\n",
              "          document.querySelector('#df-610903ab-939a-4b1a-9086-c5727268a6fa button.colab-df-convert');\n",
              "        buttonEl.style.display =\n",
              "          google.colab.kernel.accessAllowed ? 'block' : 'none';\n",
              "\n",
              "        async function convertToInteractive(key) {\n",
              "          const element = document.querySelector('#df-610903ab-939a-4b1a-9086-c5727268a6fa');\n",
              "          const dataTable =\n",
              "            await google.colab.kernel.invokeFunction('convertToInteractive',\n",
              "                                                     [key], {});\n",
              "          if (!dataTable) return;\n",
              "\n",
              "          const docLinkHtml = 'Like what you see? Visit the ' +\n",
              "            '<a target=\"_blank\" href=https://colab.research.google.com/notebooks/data_table.ipynb>data table notebook</a>'\n",
              "            + ' to learn more about interactive tables.';\n",
              "          element.innerHTML = '';\n",
              "          dataTable['output_type'] = 'display_data';\n",
              "          await google.colab.output.renderOutput(dataTable, element);\n",
              "          const docLink = document.createElement('div');\n",
              "          docLink.innerHTML = docLinkHtml;\n",
              "          element.appendChild(docLink);\n",
              "        }\n",
              "      </script>\n",
              "    </div>\n",
              "  </div>\n"
            ]
          },
          "metadata": {},
          "execution_count": 4
        }
      ]
    },
    {
      "cell_type": "code",
      "metadata": {
        "id": "ADaoAKitOAYb"
      },
      "source": [
        "#Seleccionar solo manzanas y limones\n",
        "ds = ds.loc[(ds['fruit_name'] == 'apple') | (ds['fruit_name'] == 'lemon')]"
      ],
      "execution_count": null,
      "outputs": []
    },
    {
      "cell_type": "code",
      "metadata": {
        "id": "3nDXMaHNONwh",
        "colab": {
          "base_uri": "https://localhost:8080/",
          "height": 206
        },
        "outputId": "64482ee7-9293-4af8-94d3-363e59347cc8"
      },
      "source": [
        "#Explorar el set de datos que contiene solo observacions de manzanas y limones\n",
        "ds.head()"
      ],
      "execution_count": null,
      "outputs": [
        {
          "output_type": "execute_result",
          "data": {
            "text/plain": [
              "   fruit_label fruit_name fruit_subtype  mass  width  height  color_score\n",
              "0            1      apple  granny_smith   192    8.4     7.3         0.55\n",
              "1            1      apple  granny_smith   180    8.0     6.8         0.59\n",
              "2            1      apple  granny_smith   176    7.4     7.2         0.60\n",
              "8            1      apple      braeburn   178    7.1     7.8         0.92\n",
              "9            1      apple      braeburn   172    7.4     7.0         0.89"
            ],
            "text/html": [
              "\n",
              "\n",
              "  <div id=\"df-e17e22b3-2298-4f90-af56-08093a3b25eb\">\n",
              "    <div class=\"colab-df-container\">\n",
              "      <div>\n",
              "<style scoped>\n",
              "    .dataframe tbody tr th:only-of-type {\n",
              "        vertical-align: middle;\n",
              "    }\n",
              "\n",
              "    .dataframe tbody tr th {\n",
              "        vertical-align: top;\n",
              "    }\n",
              "\n",
              "    .dataframe thead th {\n",
              "        text-align: right;\n",
              "    }\n",
              "</style>\n",
              "<table border=\"1\" class=\"dataframe\">\n",
              "  <thead>\n",
              "    <tr style=\"text-align: right;\">\n",
              "      <th></th>\n",
              "      <th>fruit_label</th>\n",
              "      <th>fruit_name</th>\n",
              "      <th>fruit_subtype</th>\n",
              "      <th>mass</th>\n",
              "      <th>width</th>\n",
              "      <th>height</th>\n",
              "      <th>color_score</th>\n",
              "    </tr>\n",
              "  </thead>\n",
              "  <tbody>\n",
              "    <tr>\n",
              "      <th>0</th>\n",
              "      <td>1</td>\n",
              "      <td>apple</td>\n",
              "      <td>granny_smith</td>\n",
              "      <td>192</td>\n",
              "      <td>8.4</td>\n",
              "      <td>7.3</td>\n",
              "      <td>0.55</td>\n",
              "    </tr>\n",
              "    <tr>\n",
              "      <th>1</th>\n",
              "      <td>1</td>\n",
              "      <td>apple</td>\n",
              "      <td>granny_smith</td>\n",
              "      <td>180</td>\n",
              "      <td>8.0</td>\n",
              "      <td>6.8</td>\n",
              "      <td>0.59</td>\n",
              "    </tr>\n",
              "    <tr>\n",
              "      <th>2</th>\n",
              "      <td>1</td>\n",
              "      <td>apple</td>\n",
              "      <td>granny_smith</td>\n",
              "      <td>176</td>\n",
              "      <td>7.4</td>\n",
              "      <td>7.2</td>\n",
              "      <td>0.60</td>\n",
              "    </tr>\n",
              "    <tr>\n",
              "      <th>8</th>\n",
              "      <td>1</td>\n",
              "      <td>apple</td>\n",
              "      <td>braeburn</td>\n",
              "      <td>178</td>\n",
              "      <td>7.1</td>\n",
              "      <td>7.8</td>\n",
              "      <td>0.92</td>\n",
              "    </tr>\n",
              "    <tr>\n",
              "      <th>9</th>\n",
              "      <td>1</td>\n",
              "      <td>apple</td>\n",
              "      <td>braeburn</td>\n",
              "      <td>172</td>\n",
              "      <td>7.4</td>\n",
              "      <td>7.0</td>\n",
              "      <td>0.89</td>\n",
              "    </tr>\n",
              "  </tbody>\n",
              "</table>\n",
              "</div>\n",
              "      <button class=\"colab-df-convert\" onclick=\"convertToInteractive('df-e17e22b3-2298-4f90-af56-08093a3b25eb')\"\n",
              "              title=\"Convert this dataframe to an interactive table.\"\n",
              "              style=\"display:none;\">\n",
              "\n",
              "  <svg xmlns=\"http://www.w3.org/2000/svg\" height=\"24px\"viewBox=\"0 0 24 24\"\n",
              "       width=\"24px\">\n",
              "    <path d=\"M0 0h24v24H0V0z\" fill=\"none\"/>\n",
              "    <path d=\"M18.56 5.44l.94 2.06.94-2.06 2.06-.94-2.06-.94-.94-2.06-.94 2.06-2.06.94zm-11 1L8.5 8.5l.94-2.06 2.06-.94-2.06-.94L8.5 2.5l-.94 2.06-2.06.94zm10 10l.94 2.06.94-2.06 2.06-.94-2.06-.94-.94-2.06-.94 2.06-2.06.94z\"/><path d=\"M17.41 7.96l-1.37-1.37c-.4-.4-.92-.59-1.43-.59-.52 0-1.04.2-1.43.59L10.3 9.45l-7.72 7.72c-.78.78-.78 2.05 0 2.83L4 21.41c.39.39.9.59 1.41.59.51 0 1.02-.2 1.41-.59l7.78-7.78 2.81-2.81c.8-.78.8-2.07 0-2.86zM5.41 20L4 18.59l7.72-7.72 1.47 1.35L5.41 20z\"/>\n",
              "  </svg>\n",
              "      </button>\n",
              "\n",
              "\n",
              "\n",
              "    <div id=\"df-80b7183d-0de4-4f9c-b9a6-8997eedeb1a3\">\n",
              "      <button class=\"colab-df-quickchart\" onclick=\"quickchart('df-80b7183d-0de4-4f9c-b9a6-8997eedeb1a3')\"\n",
              "              title=\"Suggest charts.\"\n",
              "              style=\"display:none;\">\n",
              "\n",
              "<svg xmlns=\"http://www.w3.org/2000/svg\" height=\"24px\"viewBox=\"0 0 24 24\"\n",
              "     width=\"24px\">\n",
              "    <g>\n",
              "        <path d=\"M19 3H5c-1.1 0-2 .9-2 2v14c0 1.1.9 2 2 2h14c1.1 0 2-.9 2-2V5c0-1.1-.9-2-2-2zM9 17H7v-7h2v7zm4 0h-2V7h2v10zm4 0h-2v-4h2v4z\"/>\n",
              "    </g>\n",
              "</svg>\n",
              "      </button>\n",
              "    </div>\n",
              "\n",
              "<style>\n",
              "  .colab-df-quickchart {\n",
              "    background-color: #E8F0FE;\n",
              "    border: none;\n",
              "    border-radius: 50%;\n",
              "    cursor: pointer;\n",
              "    display: none;\n",
              "    fill: #1967D2;\n",
              "    height: 32px;\n",
              "    padding: 0 0 0 0;\n",
              "    width: 32px;\n",
              "  }\n",
              "\n",
              "  .colab-df-quickchart:hover {\n",
              "    background-color: #E2EBFA;\n",
              "    box-shadow: 0px 1px 2px rgba(60, 64, 67, 0.3), 0px 1px 3px 1px rgba(60, 64, 67, 0.15);\n",
              "    fill: #174EA6;\n",
              "  }\n",
              "\n",
              "  [theme=dark] .colab-df-quickchart {\n",
              "    background-color: #3B4455;\n",
              "    fill: #D2E3FC;\n",
              "  }\n",
              "\n",
              "  [theme=dark] .colab-df-quickchart:hover {\n",
              "    background-color: #434B5C;\n",
              "    box-shadow: 0px 1px 3px 1px rgba(0, 0, 0, 0.15);\n",
              "    filter: drop-shadow(0px 1px 2px rgba(0, 0, 0, 0.3));\n",
              "    fill: #FFFFFF;\n",
              "  }\n",
              "</style>\n",
              "\n",
              "    <script>\n",
              "      async function quickchart(key) {\n",
              "        const containerElement = document.querySelector('#' + key);\n",
              "        const charts = await google.colab.kernel.invokeFunction(\n",
              "            'suggestCharts', [key], {});\n",
              "      }\n",
              "    </script>\n",
              "\n",
              "      <script>\n",
              "\n",
              "function displayQuickchartButton(domScope) {\n",
              "  let quickchartButtonEl =\n",
              "    domScope.querySelector('#df-80b7183d-0de4-4f9c-b9a6-8997eedeb1a3 button.colab-df-quickchart');\n",
              "  quickchartButtonEl.style.display =\n",
              "    google.colab.kernel.accessAllowed ? 'block' : 'none';\n",
              "}\n",
              "\n",
              "        displayQuickchartButton(document);\n",
              "      </script>\n",
              "      <style>\n",
              "    .colab-df-container {\n",
              "      display:flex;\n",
              "      flex-wrap:wrap;\n",
              "      gap: 12px;\n",
              "    }\n",
              "\n",
              "    .colab-df-convert {\n",
              "      background-color: #E8F0FE;\n",
              "      border: none;\n",
              "      border-radius: 50%;\n",
              "      cursor: pointer;\n",
              "      display: none;\n",
              "      fill: #1967D2;\n",
              "      height: 32px;\n",
              "      padding: 0 0 0 0;\n",
              "      width: 32px;\n",
              "    }\n",
              "\n",
              "    .colab-df-convert:hover {\n",
              "      background-color: #E2EBFA;\n",
              "      box-shadow: 0px 1px 2px rgba(60, 64, 67, 0.3), 0px 1px 3px 1px rgba(60, 64, 67, 0.15);\n",
              "      fill: #174EA6;\n",
              "    }\n",
              "\n",
              "    [theme=dark] .colab-df-convert {\n",
              "      background-color: #3B4455;\n",
              "      fill: #D2E3FC;\n",
              "    }\n",
              "\n",
              "    [theme=dark] .colab-df-convert:hover {\n",
              "      background-color: #434B5C;\n",
              "      box-shadow: 0px 1px 3px 1px rgba(0, 0, 0, 0.15);\n",
              "      filter: drop-shadow(0px 1px 2px rgba(0, 0, 0, 0.3));\n",
              "      fill: #FFFFFF;\n",
              "    }\n",
              "  </style>\n",
              "\n",
              "      <script>\n",
              "        const buttonEl =\n",
              "          document.querySelector('#df-e17e22b3-2298-4f90-af56-08093a3b25eb button.colab-df-convert');\n",
              "        buttonEl.style.display =\n",
              "          google.colab.kernel.accessAllowed ? 'block' : 'none';\n",
              "\n",
              "        async function convertToInteractive(key) {\n",
              "          const element = document.querySelector('#df-e17e22b3-2298-4f90-af56-08093a3b25eb');\n",
              "          const dataTable =\n",
              "            await google.colab.kernel.invokeFunction('convertToInteractive',\n",
              "                                                     [key], {});\n",
              "          if (!dataTable) return;\n",
              "\n",
              "          const docLinkHtml = 'Like what you see? Visit the ' +\n",
              "            '<a target=\"_blank\" href=https://colab.research.google.com/notebooks/data_table.ipynb>data table notebook</a>'\n",
              "            + ' to learn more about interactive tables.';\n",
              "          element.innerHTML = '';\n",
              "          dataTable['output_type'] = 'display_data';\n",
              "          await google.colab.output.renderOutput(dataTable, element);\n",
              "          const docLink = document.createElement('div');\n",
              "          docLink.innerHTML = docLinkHtml;\n",
              "          element.appendChild(docLink);\n",
              "        }\n",
              "      </script>\n",
              "    </div>\n",
              "  </div>\n"
            ]
          },
          "metadata": {},
          "execution_count": 7
        }
      ]
    },
    {
      "cell_type": "code",
      "metadata": {
        "id": "ZIuSgPPHOQ2K",
        "colab": {
          "base_uri": "https://localhost:8080/"
        },
        "outputId": "6d756458-d199-4165-b02d-c995b2c01d65"
      },
      "source": [
        "# Desplegar las dimensiones del nuevo dataframe\n",
        "ds.shape"
      ],
      "execution_count": null,
      "outputs": [
        {
          "output_type": "execute_result",
          "data": {
            "text/plain": [
              "(35, 7)"
            ]
          },
          "metadata": {},
          "execution_count": 8
        }
      ]
    },
    {
      "cell_type": "code",
      "metadata": {
        "id": "f6bVdML1OddG",
        "colab": {
          "base_uri": "https://localhost:8080/",
          "height": 451
        },
        "outputId": "bd379778-a906-4538-befe-53a4239c3e5c"
      },
      "source": [
        "#Visualizacion de los datos\n",
        "colors = {'apple':'red', 'mandarin':'gold', 'lemon':'green', 'orange':'orange'}\n",
        "plt.scatter(ds['height'], ds['width'], c=ds['fruit_name'].map(colors), label=ds['fruit_name'].map(colors))\n",
        "plt.xlabel('Heigth')\n",
        "plt.ylabel('Width')\n",
        "handlelist = [plt.plot([], marker=\"o\", ls=\"\", color=color)[0] for color in ['red','green']]\n",
        "plt.legend(handlelist,['Apples','Lemons'])\n",
        "plt.show()"
      ],
      "execution_count": null,
      "outputs": [
        {
          "output_type": "display_data",
          "data": {
            "text/plain": [
              "<Figure size 640x480 with 1 Axes>"
            ],
            "image/png": "[encoded data removed]"
          },
          "metadata": {}
        }
      ]
    },
    {
      "cell_type": "markdown",
      "metadata": {
        "id": "eL9CwOnpPeDH"
      },
      "source": [
        "La regresión logística busca la ecuación de la línea que mejor separe las clases (manzanas y limones) y revisamos la correspondiente asignación según el modelo:"
      ]
    },
    {
      "cell_type": "code",
      "metadata": {
        "id": "fpjg5mkbj8-w",
        "colab": {
          "base_uri": "https://localhost:8080/"
        },
        "outputId": "a82a0299-ff6e-44ee-8cb8-f38afb1601cf"
      },
      "source": [
        "from sklearn.linear_model import LogisticRegression\n",
        "logRegBin = LogisticRegression()\n",
        "\n",
        "x_bin = ds[['height','width']].values\n",
        "y_bin = ds[['fruit_name']].values\n",
        "logRegBin = logRegBin.fit(x_bin, np.ravel(y_bin))\n",
        "print(logRegBin.classes_)"
      ],
      "execution_count": null,
      "outputs": [
        {
          "output_type": "stream",
          "name": "stdout",
          "text": [
            "['apple' 'lemon']\n"
          ]
        }
      ]
    },
    {
      "cell_type": "markdown",
      "metadata": {
        "id": "P_JUXRs_u-sK"
      },
      "source": [
        "![](https://drive.google.com/uc?export=view&id=1rOScFGR1FKvEzBkC_UOgDtn7l5VZYBl9)\n",
        "\n",
        "\n"
      ]
    },
    {
      "cell_type": "markdown",
      "metadata": {
        "id": "ctIxkaQLDZ3n"
      },
      "source": [
        "Ahora, a modo de ejemplo, ¿qué ocurre si quisiéramos realizar una predicción de una nueva fruta con 9 cm de altura y 7 cm de ancho?"
      ]
    },
    {
      "cell_type": "code",
      "metadata": {
        "id": "_Vt3HIt1ETHm",
        "colab": {
          "base_uri": "https://localhost:8080/"
        },
        "outputId": "d00889bb-e5a7-4be3-d8ee-aa3caaae4e60"
      },
      "source": [
        "fruit_dims = [[9,7]] # ¿Se clasificaría como una manzana o un limón?\n",
        "print(logRegBin.predict(fruit_dims))"
      ],
      "execution_count": null,
      "outputs": [
        {
          "output_type": "stream",
          "name": "stdout",
          "text": [
            "['lemon']\n"
          ]
        }
      ]
    },
    {
      "cell_type": "markdown",
      "metadata": {
        "id": "maeGNm5cFwr7"
      },
      "source": [
        "De igual forma, si obtenemos una nueva fruta con 7 cm de altura y 8 cm de ancho, ¿cómo debería clasificarse?"
      ]
    },
    {
      "cell_type": "code",
      "metadata": {
        "id": "PmgmMIrgGDuK",
        "colab": {
          "base_uri": "https://localhost:8080/"
        },
        "outputId": "b26c7da0-7377-4f22-fad3-377d3e4795ad"
      },
      "source": [
        "fruit_dims = [[7,8]] # ¿Se clasificaría como una manzana o un limón?\n",
        "print(logRegBin.predict(fruit_dims))"
      ],
      "execution_count": null,
      "outputs": [
        {
          "output_type": "stream",
          "name": "stdout",
          "text": [
            "['apple']\n"
          ]
        }
      ]
    },
    {
      "cell_type": "markdown",
      "metadata": {
        "id": "-d-KbMmGGP86"
      },
      "source": [
        "No obstante, nótese que este segundo punto se encuentra más alejado del límite de decisión, así que comprobamos la probabilidad de pertenencia a su respectiva clase (**clase manzana, clase 0 o clase negativa**) es más alta que la del primer punto con respecto a su clase (**clase limón, clase 1 o clase positiva**)."
      ]
    },
    {
      "cell_type": "code",
      "metadata": {
        "id": "mHuA8vziG0vY",
        "colab": {
          "base_uri": "https://localhost:8080/"
        },
        "outputId": "42d7f9f5-798e-4bee-f754-2adbc1411c4c"
      },
      "source": [
        "print('Probabilidad de pertenencia del primer punto a clase limón:', logRegBin.predict_proba([[9,7]])[0][1])\n",
        "print('Probabilidad de pertenencia del segundo punto a clase manzana:', logRegBin.predict_proba([[7,8]])[0][0])"
      ],
      "execution_count": null,
      "outputs": [
        {
          "output_type": "stream",
          "name": "stdout",
          "text": [
            "Probabilidad de pertenencia del primer punto a clase limón: 0.8156289973900626\n",
            "Probabilidad de pertenencia del segundo punto a clase manzana: 0.9827032544525907\n"
          ]
        }
      ]
    },
    {
      "cell_type": "markdown",
      "source": [
        "### Regresión logística polinomial\n",
        "\n",
        "Al igual que con los modelos de regresión, podemos aumentar la complejidad del modelo de regresión logística para aumentar su desempeño en la clasificación. De esta forma, los límites de decisión a obtener pueden ser más flexibles que simples líneas."
      ],
      "metadata": {
        "id": "7fIEqMmxjqIY"
      }
    },
    {
      "cell_type": "code",
      "source": [
        "#Regresión polinomial\n",
        "from sklearn.linear_model import LogisticRegression\n",
        "from sklearn.preprocessing import PolynomialFeatures\n",
        "\n",
        "#Transformación de la entrada al grado del polinomio de interés\n",
        "degree = 4\n",
        "x_pol = PolynomialFeatures(degree=degree, include_bias=False).fit_transform(x_bin)\n",
        "\n",
        "#Ejecución del modelo de regresión logística polinomial\n",
        "logRegPol = LogisticRegression(max_iter=800) #max_iter=100\n",
        "logRegPol = logRegPol.fit(x_pol, np.ravel(y_bin))"
      ],
      "metadata": {
        "id": "WpQNZO-njpbs"
      },
      "execution_count": null,
      "outputs": []
    },
    {
      "cell_type": "markdown",
      "source": [
        "Ahora, comprobamos nuevamente la asignación de clases para el modelo de regresión logística polinomial."
      ],
      "metadata": {
        "id": "4G1negZ8nfUD"
      }
    },
    {
      "cell_type": "code",
      "source": [
        "print(logRegPol.classes_)"
      ],
      "metadata": {
        "id": "pRebkrRDnYuH",
        "colab": {
          "base_uri": "https://localhost:8080/"
        },
        "outputId": "88ca00a5-c473-41bb-d136-72870011a51c"
      },
      "execution_count": null,
      "outputs": [
        {
          "output_type": "stream",
          "name": "stdout",
          "text": [
            "['apple' 'lemon']\n"
          ]
        }
      ]
    },
    {
      "cell_type": "markdown",
      "source": [
        "Efectuamos la predicción de la nueva fruta con 9 cm de altura y 7 cm de ancho, pero esta vez utilizando el modelo de regresión logística polinomial, para ello hay que aplicar la transformación polinomial de los datos a estimar."
      ],
      "metadata": {
        "id": "XtIcILLfmvkO"
      }
    },
    {
      "cell_type": "code",
      "source": [
        "fruit_dims = [[9,7]]\n",
        "fruit_dims_pol = PolynomialFeatures(degree=degree, include_bias=False).fit_transform(fruit_dims)\n",
        "print(logRegPol.predict(fruit_dims_pol))"
      ],
      "metadata": {
        "id": "gByCp0_Rliou",
        "colab": {
          "base_uri": "https://localhost:8080/"
        },
        "outputId": "4d1773a9-f620-4858-b8be-0c658e9e2c77"
      },
      "execution_count": null,
      "outputs": [
        {
          "output_type": "stream",
          "name": "stdout",
          "text": [
            "['lemon']\n"
          ]
        }
      ]
    },
    {
      "cell_type": "markdown",
      "source": [
        "Luego, revisamos la probabilidad de pertenencia de esta nueva entrada con respecto a las dos clases en estudio."
      ],
      "metadata": {
        "id": "6ivnj2awrlZD"
      }
    },
    {
      "cell_type": "code",
      "source": [
        "print('Probabilidad de pertenencia del primer punto a clase manzana:', logRegPol.predict_proba(fruit_dims_pol)[0][0])\n",
        "print('Probabilidad de pertenencia del primer punto a clase limón:', logRegPol.predict_proba(fruit_dims_pol)[0][1])"
      ],
      "metadata": {
        "id": "z_N56OA1nsPU",
        "colab": {
          "base_uri": "https://localhost:8080/"
        },
        "outputId": "b404dd44-84ca-4df8-cd51-86d37b0b4da5"
      },
      "execution_count": null,
      "outputs": [
        {
          "output_type": "stream",
          "name": "stdout",
          "text": [
            "Probabilidad de pertenencia del primer punto a clase manzana: 3.552713678800501e-15\n",
            "Probabilidad de pertenencia del primer punto a clase limón: 0.9999999999999964\n"
          ]
        }
      ]
    },
    {
      "cell_type": "markdown",
      "source": [
        "Ahora, hacemos la estimación para una nueva fruta con 7 cm de altura y 8 cm de ancho."
      ],
      "metadata": {
        "id": "EQqPKr40nHJ5"
      }
    },
    {
      "cell_type": "code",
      "source": [
        "fruit_dims = [[7,8]]\n",
        "fruit_dims_pol = PolynomialFeatures(degree=degree, include_bias=False).fit_transform(fruit_dims)\n",
        "print(logRegPol.predict(fruit_dims_pol))"
      ],
      "metadata": {
        "id": "MuXSJtMDmquS",
        "colab": {
          "base_uri": "https://localhost:8080/"
        },
        "outputId": "c9b580e9-56d3-4aa6-f450-660aa8a3ce2a"
      },
      "execution_count": null,
      "outputs": [
        {
          "output_type": "stream",
          "name": "stdout",
          "text": [
            "['apple']\n"
          ]
        }
      ]
    },
    {
      "cell_type": "markdown",
      "source": [
        "Verificamos la probabilidad de pertenencia a ambas clases para la segunda entrada nueva."
      ],
      "metadata": {
        "id": "Hwvyx2XBr7Ji"
      }
    },
    {
      "cell_type": "code",
      "source": [
        "print('Probabilidad de pertenencia del segundo punto a clase manzana:', logRegPol.predict_proba(fruit_dims_pol)[0][0])\n",
        "print('Probabilidad de pertenencia del segundo punto a clase limón:', logRegPol.predict_proba(fruit_dims_pol)[0][1])"
      ],
      "metadata": {
        "id": "HqKjrK4ZnRqt",
        "colab": {
          "base_uri": "https://localhost:8080/"
        },
        "outputId": "9820c5a3-f70f-45b2-e065-9b350d2f7345"
      },
      "execution_count": null,
      "outputs": [
        {
          "output_type": "stream",
          "name": "stdout",
          "text": [
            "Probabilidad de pertenencia del segundo punto a clase manzana: 1.0\n",
            "Probabilidad de pertenencia del segundo punto a clase limón: 3.5065750691957774e-28\n"
          ]
        }
      ]
    },
    {
      "cell_type": "markdown",
      "source": [
        "### Regresión logística multiclase\n",
        "\n",
        "Suponiendo que quisiéramos **clasificar múltiples frutas** en lugar del caso binario; es decir, manzanas, limones, mandarinas y naranjas:"
      ],
      "metadata": {
        "id": "HfYREfWbt7Hq"
      }
    },
    {
      "cell_type": "code",
      "source": [
        "#Lectura del dataframe original\n",
        "ds = pd.read_csv(filepath, header=0)\n",
        "x_mult = ds[['height','width']].values #Nuevo arreglo de datos con todas las observaciones\n",
        "y_mult = ds[['fruit_name']].values #Obtenemos múltiples clases\n",
        "\n",
        "#Visualización de los datos\n",
        "plt.scatter(ds['height'], ds['width'], c=ds['fruit_name'].map(colors), label=ds['fruit_name'].map(colors))\n",
        "\n",
        "#Ejes y leyendas\n",
        "plt.xlabel('Heigth')\n",
        "plt.ylabel('Width')\n",
        "handlelist = [plt.plot([], marker=\"o\", ls=\"\", color=color)[0] for color in ['red','green','gold','orange']]\n",
        "plt.legend(handlelist,['Apples','Lemons','Mandarins','Oranges'])\n",
        "plt.show()"
      ],
      "metadata": {
        "id": "ihL0F6ETuJpx",
        "colab": {
          "base_uri": "https://localhost:8080/",
          "height": 449
        },
        "outputId": "56de11a5-012b-4177-acbe-b9f38f15fcc4"
      },
      "execution_count": null,
      "outputs": [
        {
          "output_type": "display_data",
          "data": {
            "text/plain": [
              "<Figure size 640x480 with 1 Axes>"
            ],
            "image/png": "[encoded data removed]"
          },
          "metadata": {}
        }
      ]
    },
    {
      "cell_type": "markdown",
      "source": [
        "Obsérvese que deberíamos obtener múltiples límites de decisión para separar las diferentes clases (frutas). Un enfoque común para realizar esta tarea se conoce como **regresión logística de uno contra el resto** (*one-vs-rest*) y consiste en aplicar una regresión logistica binaria a cada clase con respecto al resto de clases.\n",
        "\n",
        "![](https://drive.google.com/uc?export=view&id=1QVo0eZ2igPQXdIymxzpWqlXroSgCMh4l)"
      ],
      "metadata": {
        "id": "YoEeUAuBuZjm"
      }
    },
    {
      "cell_type": "markdown",
      "source": [
        "En la función `LogisticRegression()` podemos escoger el enfoque de uno contra el resto para hacer clasificación multiclase estableciendo el parámetro `multi_class='ovr'`, donde revisamos la asignación de clases hecha por el modelo."
      ],
      "metadata": {
        "id": "giOp3Pr7ujuc"
      }
    },
    {
      "cell_type": "code",
      "source": [
        "logRegOvr = LogisticRegression(multi_class='ovr', max_iter=200)\n",
        "logRegOvr = logRegOvr.fit(x_mult, np.ravel(y_mult))\n",
        "print(logRegOvr.classes_)"
      ],
      "metadata": {
        "id": "5SjWE8Xqu0aX",
        "colab": {
          "base_uri": "https://localhost:8080/"
        },
        "outputId": "53c94231-dd5b-4d11-9d3f-df92ed9358bb"
      },
      "execution_count": null,
      "outputs": [
        {
          "output_type": "stream",
          "name": "stdout",
          "text": [
            "['apple' 'lemon' 'mandarin' 'orange']\n"
          ]
        }
      ]
    },
    {
      "cell_type": "markdown",
      "source": [
        "![](https://drive.google.com/uc?export=view&id=10f7MP7FHplYOqzh_CbcPzdKDbXLY4bPK)\n",
        "\n"
      ],
      "metadata": {
        "id": "LSpbZu__uz_8"
      }
    },
    {
      "cell_type": "markdown",
      "source": [
        "También podemos seleccionar otro enfoque más avanzado llamado regresión multinomial estableciendo `multi_class='multinomial'`, donde de igual forma verificamos la asignación de las múltiples etiquetas a estimar."
      ],
      "metadata": {
        "id": "UAgLnSdP0Wtx"
      }
    },
    {
      "cell_type": "code",
      "source": [
        "logRegMultinom = LogisticRegression(multi_class='multinomial', max_iter=200)\n",
        "logRegMultinom = logRegMultinom.fit(x_mult, np.ravel(y_mult))\n",
        "print(logRegMultinom.classes_)"
      ],
      "metadata": {
        "id": "7LFzqVOIu7HF",
        "colab": {
          "base_uri": "https://localhost:8080/"
        },
        "outputId": "cd6f9fc5-b367-42ff-8309-5eb946b0cebc"
      },
      "execution_count": null,
      "outputs": [
        {
          "output_type": "stream",
          "name": "stdout",
          "text": [
            "['apple' 'lemon' 'mandarin' 'orange']\n"
          ]
        }
      ]
    },
    {
      "cell_type": "markdown",
      "source": [
        "![](https://drive.google.com/uc?export=view&id=1Ol1K0unhfDhC6KBa0n5KqCEWV71BtNCm)"
      ],
      "metadata": {
        "id": "XMNi1Ne-u6Uh"
      }
    },
    {
      "cell_type": "markdown",
      "source": [
        "Así mismo verificaremos la probabilidad de pertenencia de nuevos puntos con las distintas clases asociadas, tomemos el ejemplo de nueva fruta con 7 cm de altura y 8 cm de ancho."
      ],
      "metadata": {
        "id": "djA99kbGylw7"
      }
    },
    {
      "cell_type": "code",
      "source": [
        "print('Dimensiones de la nueva fruta para el modelo OvR:', fruit_dims)\n",
        "print('Probabilidad de pertenencia de la nueva fruta a la clase manzana:', logRegOvr.predict_proba(fruit_dims)[0][0])\n",
        "print('Probabilidad de pertenencia de la nueva fruta a la clase limón:', logRegOvr.predict_proba(fruit_dims)[0][1])\n",
        "print('Probabilidad de pertenencia de la nueva fruta a la clase mandarina:', logRegOvr.predict_proba(fruit_dims)[0][2])\n",
        "print('Probabilidad de pertenencia de la nueva fruta a la clase naranja:', logRegOvr.predict_proba(fruit_dims)[0][3])"
      ],
      "metadata": {
        "id": "4MxLephMzAad",
        "colab": {
          "base_uri": "https://localhost:8080/"
        },
        "outputId": "81847d92-9f63-49a0-c265-241c44b13112"
      },
      "execution_count": null,
      "outputs": [
        {
          "output_type": "stream",
          "name": "stdout",
          "text": [
            "Dimensiones de la nueva fruta para el modelo OvR: [[7, 8]]\n",
            "Probabilidad de pertenencia de la nueva fruta a la clase manzana: 0.5431378464980868\n",
            "Probabilidad de pertenencia de la nueva fruta a la clase limón: 0.004079043993384812\n",
            "Probabilidad de pertenencia de la nueva fruta a la clase mandarina: 0.015320723729328224\n",
            "Probabilidad de pertenencia de la nueva fruta a la clase naranja: 0.43746238577920005\n"
          ]
        }
      ]
    },
    {
      "cell_type": "markdown",
      "source": [
        "Ejecutamos las líneas de código de la celda anterior, pero esta vez utilizando el modelo de regresión logística multinomial."
      ],
      "metadata": {
        "id": "yDau0l4lzpk5"
      }
    },
    {
      "cell_type": "code",
      "source": [
        "print('Dimensiones de la nueva fruta para el modelo Multinomial:', fruit_dims)\n",
        "print('Probabilidad de pertenencia de la nueva fruta a la clase manzana:', logRegMultinom.predict_proba(fruit_dims)[0][0])\n",
        "print('Probabilidad de pertenencia de la nueva fruta a la clase limón:', logRegMultinom.predict_proba(fruit_dims)[0][1])\n",
        "print('Probabilidad de pertenencia de la nueva fruta a la clase mandarina:', logRegMultinom.predict_proba(fruit_dims)[0][2])\n",
        "print('Probabilidad de pertenencia de la nueva fruta a la clase naranja:', logRegMultinom.predict_proba(fruit_dims)[0][3])"
      ],
      "metadata": {
        "id": "2BWYugJqzz9Y",
        "colab": {
          "base_uri": "https://localhost:8080/"
        },
        "outputId": "84d754be-87c3-4ed5-85b4-198ceb6f2806"
      },
      "execution_count": null,
      "outputs": [
        {
          "output_type": "stream",
          "name": "stdout",
          "text": [
            "Dimensiones de la nueva fruta para el modelo Multinomial: [[7, 8]]\n",
            "Probabilidad de pertenencia de la nueva fruta a la clase manzana: 0.7304366506548509\n",
            "Probabilidad de pertenencia de la nueva fruta a la clase limón: 0.002158997864894743\n",
            "Probabilidad de pertenencia de la nueva fruta a la clase mandarina: 0.007246033805932\n",
            "Probabilidad de pertenencia de la nueva fruta a la clase naranja: 0.26015831767432224\n"
          ]
        }
      ]
    },
    {
      "cell_type": "markdown",
      "metadata": {
        "id": "tciwwCAu30WH"
      },
      "source": [
        "## Medición del desempeño de un modelo de clasificación\n",
        "\n",
        "Existen muchas métricas o formas de evaluar la bondad de un modelo predictivo de clasificación, pero tal vez la más común es la **exactitud** (*accuracy*). La exactitud de clasificación es el porcentaje de ejemplos correctamente clasificados del total de predicciones hechas. Matemáticamente, se puede definir a partir de:\n",
        "\n",
        "- **Verdaderos positivos (VP)**: observaciones clasificadas correctamente como pertenecientes a la clase positiva.\n",
        "- **Verdaderos negativos (VN)**: observaciones clasificadas correctamente como pertenecientes a la clase negativa\n",
        "- **Falsos positivos (FP)**: observaciones clasificadas erróneamente como pertenecientes a la clase positiva.\n",
        "- **Falsos negativos (FN)**: observaciones clasificadas erróneamente como pertenecientes a la clase negativa.\n",
        "\n",
        "como:\n",
        "\n",
        "$\\frac{VP + VN}{VP + VN + FP + FN}$\n",
        "\n",
        "En otras palabras, cantidad de predicciones correctas entre cantidad de predicciones realizadas."
      ]
    },
    {
      "cell_type": "markdown",
      "source": [
        "Ya sea en su versión lineal o polinomial, el modelo binario o multi-clase de regresión logística implementa esta métrica de la exactitud media en el set dato de datos y de etiquetas.\n",
        "\n"
      ],
      "metadata": {
        "id": "c_ZOG-5ns_FW"
      }
    },
    {
      "cell_type": "code",
      "metadata": {
        "id": "l-DY6_4wR5VR",
        "colab": {
          "base_uri": "https://localhost:8080/"
        },
        "outputId": "9a4c3bc6-238b-45ec-936f-0ba070c870c0"
      },
      "source": [
        "print('Exactitud media del modelo de regresión logística para dos frutas:',logRegBin.score(x_bin, y_bin))\n",
        "print('Exactitud media de la regresión logística polinomial para dos frutas:',logRegPol.score(x_pol, y_bin))"
      ],
      "execution_count": null,
      "outputs": [
        {
          "output_type": "stream",
          "name": "stdout",
          "text": [
            "Exactitud media del modelo de regresión logística para dos frutas: 1.0\n",
            "Exactitud media de la regresión logística polinomial para dos frutas: 1.0\n"
          ]
        }
      ]
    },
    {
      "cell_type": "code",
      "source": [
        "print('Exactitud media de la regresión logística multiclase uno contra el resto:', logRegOvr.score(x_mult, y_mult))\n",
        "print('Exactitud media de la regresión logística multiclase multinomial:', logRegMultinom.score(x_mult, y_mult))"
      ],
      "metadata": {
        "id": "cMBSFI3xvkEZ",
        "colab": {
          "base_uri": "https://localhost:8080/"
        },
        "outputId": "41192bd8-5dff-43ed-fcd2-7f55005405c8"
      },
      "execution_count": null,
      "outputs": [
        {
          "output_type": "stream",
          "name": "stdout",
          "text": [
            "Exactitud media de la regresión logística multiclase uno contra el resto: 0.7796610169491526\n",
            "Exactitud media de la regresión logística multiclase multinomial: 0.7966101694915254\n"
          ]
        }
      ]
    },
    {
      "cell_type": "markdown",
      "metadata": {
        "id": "WbtGiaxVF6uK"
      },
      "source": [
        "A manera de ejemplo, la siguiente visualización ilustra el desempeño de un modelo de regresión logística polinomial multiclase, utilizando distintos grados del polinomio."
      ]
    },
    {
      "cell_type": "markdown",
      "source": [
        "![](https://drive.google.com/uc?export=view&id=116c0aAQ5alGql4BO7YenAAWFk1sp65zo)\n",
        "\n",
        "\n",
        "![](https://drive.google.com/uc?export=view&id=1Z3po9dgzPpayyy_EiRwr5nJWy2zC1xz8)"
      ],
      "metadata": {
        "id": "1xRbs4_R1cyo"
      }
    },
    {
      "cell_type": "markdown",
      "source": [
        "Estos modelos de regresión logística realizan una clasificación igual o muy similar a simple vista, pero ¿cómo podemos compararlos más objetivamente, en especial cuando se tiene cantidades muy grandes de datos o cuando se usan mucho más de dos predictores?"
      ],
      "metadata": {
        "id": "pfu1FYKy1nd-"
      }
    },
    {
      "cell_type": "markdown",
      "metadata": {
        "id": "YVa9K7iNYw80"
      },
      "source": [
        "### Matriz de confusión\n",
        "\n",
        "La matriz de confusión $M$ nos permite entender con mayor detalle los errores de clasificación que se están cometiendo para cada clase $\\vec{c}_i$ perteneciente al vector de clases $\\vec{c}$. $M$ presenta $|\\vec{c}|$ filas y $|\\vec{c}|$ columnas donde $|\\vec{c}|$ es la cantidad de clases. La entrada $M_{i,j}$ indica la cantidad de observaciones de la clase $\\vec{c}_i$ que fueron clasificadas como clase $\\vec{c}_j$. De esta forma, si $i=j$, $M_{i,j}$ indica la cantidad de **verdaderos positivos** obtenidos para la clase $i$. Asimismo, si $i \\neq j$, $M_{i,j}$ indica la cantidad de observaciones de la clase $i$ que fueron erróneamente clasificadas como clase $j$.\n",
        "\n",
        "Por lo tanto, si sumamos todas las entradas $M_{i,j}$ de la fila $i$ en donde $i \\neq j$ obtenemos el total de **falsos negativos** para la clase $\\vec{c}_i$ y si sumamos todas las entradas $M_{i,j}$ de la columna $j$ en donde $i \\neq j$ obtenemos el total de **falsos positivos** para la clase $\\vec{c}_j$. Los **verdaderos negativos** para cualquier clase $\\vec{c}_k$ se pueden obtener sumando todas las entradas de la matriz $M_{i,j}$ tal que $i \\neq k$ y $j \\neq k$. En síntesis, las filas de una matriz de confusión hacen referencia a las verdaderas clases de cada observación y las columnas a las predicciones hechas por el clasificador."
      ]
    },
    {
      "cell_type": "code",
      "metadata": {
        "id": "VthdA0meaOJO",
        "colab": {
          "base_uri": "https://localhost:8080/"
        },
        "outputId": "b9cc45f3-ea6d-4a65-d083-e43e6698c065"
      },
      "source": [
        "#Obtención de la matriz de confusión usando el paquete metrics de la biblioteca sklearn\n",
        "from sklearn import metrics\n",
        "\n",
        "#Impresión básica en pantalla\n",
        "predOvr = logRegOvr.predict(x_mult)\n",
        "cmOvr = metrics.confusion_matrix(y_mult, predOvr)\n",
        "print(cmOvr)"
      ],
      "execution_count": null,
      "outputs": [
        {
          "output_type": "stream",
          "name": "stdout",
          "text": [
            "[[15  0  0  4]\n",
            " [ 0 16  0  0]\n",
            " [ 0  0  5  0]\n",
            " [ 8  1  0 10]]\n"
          ]
        }
      ]
    },
    {
      "cell_type": "code",
      "metadata": {
        "id": "0bUWe2sgU0SJ",
        "colab": {
          "base_uri": "https://localhost:8080/"
        },
        "outputId": "3b7994e9-b481-4337-ff9c-220d1dce0fbe"
      },
      "source": [
        "#Impresión CM con nombres de filas y columnas\n",
        "dfcmOvr = pd.DataFrame(cmOvr)\n",
        "dfcmOvr.columns = logRegOvr.classes_\n",
        "dfcmOvr.index = logRegOvr.classes_\n",
        "print(dfcmOvr)"
      ],
      "execution_count": null,
      "outputs": [
        {
          "output_type": "stream",
          "name": "stdout",
          "text": [
            "          apple  lemon  mandarin  orange\n",
            "apple        15      0         0       4\n",
            "lemon         0     16         0       0\n",
            "mandarin      0      0         5       0\n",
            "orange        8      1         0      10\n"
          ]
        }
      ]
    },
    {
      "cell_type": "code",
      "metadata": {
        "id": "JXh1P9WEVhJt",
        "colab": {
          "base_uri": "https://localhost:8080/"
        },
        "outputId": "27954ba1-ddcf-4127-9152-ebedf5edb2ed"
      },
      "source": [
        "#Impresión CM con nombres de filas y columnas\n",
        "predMultinom = logRegMultinom.predict(x_mult)\n",
        "cmMultinom = metrics.confusion_matrix(y_mult, predMultinom)\n",
        "dfcmMultinom = pd.DataFrame(cmMultinom)\n",
        "dfcmMultinom.columns =logRegMultinom.classes_\n",
        "dfcmMultinom.index =logRegMultinom.classes_\n",
        "print(dfcmMultinom)"
      ],
      "execution_count": null,
      "outputs": [
        {
          "output_type": "stream",
          "name": "stdout",
          "text": [
            "          apple  lemon  mandarin  orange\n",
            "apple        15      0         0       4\n",
            "lemon         0     16         0       0\n",
            "mandarin      0      0         5       0\n",
            "orange        8      0         0      11\n"
          ]
        }
      ]
    },
    {
      "cell_type": "markdown",
      "metadata": {
        "id": "wVgsH1NIPGOz"
      },
      "source": [
        "**QUIZ DESEMPEÑO DE MODELOS DE CLASIFICACIÓN**\n",
        "\n",
        "¿Si quisiera comparar el desempeño de dos clasificadores para la tarea de predecir $y$ usando los predictores $a$,$b$,$c$ y $d$ cuál sería la mejor o mejores opciones?\n",
        "1. Generar un gráfico con limites de decisión\n",
        "2. Generar una matriz de confusión\n",
        "3. Obtener la exactitud de ambos\n",
        "4. Obtener el $R^2$ de ambos\n",
        "5. La 2 y la 3\n",
        "6. La 1 y la 3\n",
        "\n",
        "\n"
      ]
    },
    {
      "cell_type": "markdown",
      "source": [
        "Supongamos que desarrollamos un modelo de clasificación para predecir si un tumor es benigno o maligno basándonos en cinco variables independientes con valores continuos. Tomando en cuenta que los falsos negativos (diagnosticar un tumor como benigno cuando en realidad es maligno) son mucho menos deseables que los falsos positivos ¿Cuál sería la mejor forma de medir el desempeño del modelo de acuerdo a lo que hemos estudiado hasta el momento?\n",
        "\n",
        "1. Generar una matriz de confusión\n",
        "2. Obtener la exactitud del modelo\n",
        "3. Generar un gráfico con los limites de decisión\n",
        "4. Obtener el $R^2$ del modelo"
      ],
      "metadata": {
        "id": "Fc0Ua9U-b_G1"
      }
    },
    {
      "cell_type": "markdown",
      "metadata": {
        "id": "QAP0D17FkYgA"
      },
      "source": [
        "## Modelos adicionales\n",
        "\n",
        "Existen otros modelos de clasificación más complejos como:\n",
        "1. Algoritmo del k-ésimo vecino más cercano (kNN)\n",
        "2. Máquinas de soporte vectorial (SVM)\n",
        "3. Árboles de decisión\n",
        "4. Bosques aleatorios (Random Forest)\n",
        "5. Redes neuronales profundas (DNN)"
      ]
    },
    {
      "cell_type": "markdown",
      "metadata": {
        "id": "-BMlbwLpczBt"
      },
      "source": [
        "### Los k-ésimo vecinos más cercanos\n",
        "\n",
        "El método busca el/los punto(s) más cercanos; es decir, el/los vecino(s) más cercano(s) a la hora de predecir o clasificar un nuevo dato.\n",
        "\n",
        "Se considera como caso elemental el cálculo a partir de 1 vecino cercano. Si es más de 1 vecino, se utiliza la regla del voto, que es un conteo de la cantidad de vecinos cercanos pertenecientes a una clase, o relativos a un valor dada una predicción.\n",
        "\n",
        "En clasificación binaria y multi-clase, es posible emplear igualmente un algoritmo del k-ésimo vecino más cercano.\n"
      ]
    },
    {
      "cell_type": "code",
      "metadata": {
        "id": "sTkGbDjbcdxw",
        "colab": {
          "base_uri": "https://localhost:8080/"
        },
        "outputId": "f8907b4e-3699-4d34-f985-54c3c1a9f7ed"
      },
      "source": [
        "# kNN para clasificación\n",
        "from sklearn.neighbors import KNeighborsClassifier\n",
        "\n",
        "# clasificador del k-ésimo vecino más cercano\n",
        "n_neighbors = 2\n",
        "neighBin = KNeighborsClassifier(n_neighbors=n_neighbors)\n",
        "\n",
        "#Seleccionar solo manzanas y limones\n",
        "ds = ds.loc[(ds['fruit_name'] == 'apple') | (ds['fruit_name'] == 'lemon')]\n",
        "x = ds[['height','width']].values\n",
        "y = ds[['fruit_name']].values\n",
        "\n",
        "#Ajustar el modelo al set de entrenamiento y a sus etiquetas\n",
        "neighBin = neighBin.fit(x, np.ravel(y))\n",
        "print(neighBin.predict([[9,7]]))\n",
        "print(neighBin.predict([[7,8]]))"
      ],
      "execution_count": null,
      "outputs": [
        {
          "output_type": "stream",
          "name": "stdout",
          "text": [
            "['lemon']\n",
            "['apple']\n"
          ]
        }
      ]
    },
    {
      "cell_type": "code",
      "metadata": {
        "id": "SGGoGjqoeCGL",
        "colab": {
          "base_uri": "https://localhost:8080/"
        },
        "outputId": "40f6db27-6a26-4745-9215-dba2087bac8e"
      },
      "source": [
        "print(neighBin.classes_) #Observar orden de asignación de clases\n",
        "print('Probabilidad de pertenencia del primer punto a clase limón:', neighBin.predict_proba([[9,7]])[0][1])\n",
        "print('Probabilidad de pertenencia del segundo punto a clase manzana:', neighBin.predict_proba([[7,8]])[0][0])"
      ],
      "execution_count": null,
      "outputs": [
        {
          "output_type": "stream",
          "name": "stdout",
          "text": [
            "['apple' 'lemon']\n",
            "Probabilidad de pertenencia del primer punto a clase limón: 1.0\n",
            "Probabilidad de pertenencia del segundo punto a clase manzana: 1.0\n"
          ]
        }
      ]
    },
    {
      "cell_type": "markdown",
      "metadata": {
        "id": "DdDD1iJFeNtT"
      },
      "source": [
        "Ahora, procedemos con el caso del clasificador multi-clase utilizando el método de kNNs:"
      ]
    },
    {
      "cell_type": "code",
      "metadata": {
        "id": "LaDE7JN3eTCR",
        "colab": {
          "base_uri": "https://localhost:8080/"
        },
        "outputId": "7e81a977-6150-40eb-f74d-db4d0be2fc0b"
      },
      "source": [
        "ds = pd.read_csv(filepath, header=0)\n",
        "x = ds[['height','width']].values\n",
        "y = ds[['fruit_name']].values\n",
        "\n",
        "# clasificador del k-ésimo vecino más cercano\n",
        "n_neighbors = 4\n",
        "neighMulti = KNeighborsClassifier(n_neighbors=n_neighbors)\n",
        "neighMulti = neighMulti.fit(x, np.ravel(y))\n",
        "print('Training Accuracy: {}'.format(neighMulti.score(x, np.ravel(y))))"
      ],
      "execution_count": null,
      "outputs": [
        {
          "output_type": "stream",
          "name": "stdout",
          "text": [
            "Training Accuracy: 0.8305084745762712\n"
          ]
        }
      ]
    },
    {
      "cell_type": "code",
      "metadata": {
        "id": "6FRMlgf9efUb",
        "colab": {
          "base_uri": "https://localhost:8080/"
        },
        "outputId": "f89299f4-27f9-4b77-e529-2883fd0b1168"
      },
      "source": [
        "print(neighMulti.classes_)\n",
        "print('Probabilidad de pertenencia del primer punto a clase manzana:', neighMulti.predict_proba([[9,7]])[0][0])\n",
        "print('Probabilidad de pertenencia del primer punto a clase limón:', neighMulti.predict_proba([[9,7]])[0][1])\n",
        "print('Probabilidad de pertenencia del primer punto a clase mandarina:', neighMulti.predict_proba([[9,7]])[0][2])\n",
        "print('Probabilidad de pertenencia del primer punto a clase naranja:', neighMulti.predict_proba([[9,7]])[0][3])"
      ],
      "execution_count": null,
      "outputs": [
        {
          "output_type": "stream",
          "name": "stdout",
          "text": [
            "['apple' 'lemon' 'mandarin' 'orange']\n",
            "Probabilidad de pertenencia del primer punto a clase manzana: 0.0\n",
            "Probabilidad de pertenencia del primer punto a clase limón: 0.75\n",
            "Probabilidad de pertenencia del primer punto a clase mandarina: 0.0\n",
            "Probabilidad de pertenencia del primer punto a clase naranja: 0.25\n"
          ]
        }
      ]
    },
    {
      "cell_type": "code",
      "metadata": {
        "id": "hU-_-y2VfQNH",
        "colab": {
          "base_uri": "https://localhost:8080/"
        },
        "outputId": "76fc0b00-efca-45e5-f088-e5770ab0f66a"
      },
      "source": [
        "print('Probabilidad de pertenencia del segundo punto a clase manzana:', neighMulti.predict_proba([[7,8]])[0][0])\n",
        "print('Probabilidad de pertenencia del segundo punto a clase limón:', neighMulti.predict_proba([[7,8]])[0][1])\n",
        "print('Probabilidad de pertenencia del segundo punto a clase mandarina:', neighMulti.predict_proba([[7,8]])[0][2])\n",
        "print('Probabilidad de pertenencia del segundo punto a clase naranja:', neighMulti.predict_proba([[7,8]])[0][3])"
      ],
      "execution_count": null,
      "outputs": [
        {
          "output_type": "stream",
          "name": "stdout",
          "text": [
            "Probabilidad de pertenencia del segundo punto a clase manzana: 1.0\n",
            "Probabilidad de pertenencia del segundo punto a clase limón: 0.0\n",
            "Probabilidad de pertenencia del segundo punto a clase mandarina: 0.0\n",
            "Probabilidad de pertenencia del segundo punto a clase naranja: 0.0\n"
          ]
        }
      ]
    },
    {
      "cell_type": "code",
      "metadata": {
        "id": "S2wj8PLEf4-Y",
        "colab": {
          "base_uri": "https://localhost:8080/"
        },
        "outputId": "d054292c-9e29-42a7-9a0e-5e313970ffae"
      },
      "source": [
        "#Impresión kNN con nombres de filas y columnas\n",
        "from sklearn import metrics\n",
        "\n",
        "predNN = neighMulti.predict(x)\n",
        "cm = metrics.confusion_matrix(y, predNN)\n",
        "dfcm = pd.DataFrame(cm)\n",
        "dfcm.columns = neighMulti.classes_\n",
        "dfcm.index = neighMulti.classes_\n",
        "print(dfcm)"
      ],
      "execution_count": null,
      "outputs": [
        {
          "output_type": "stream",
          "name": "stdout",
          "text": [
            "          apple  lemon  mandarin  orange\n",
            "apple        17      0         0       2\n",
            "lemon         0     16         0       0\n",
            "mandarin      0      0         5       0\n",
            "orange        7      1         0      11\n"
          ]
        }
      ]
    },
    {
      "cell_type": "markdown",
      "metadata": {
        "id": "-MRRsjQbHyGJ"
      },
      "source": [
        "La idea es encontrar una cantidad de vecinos donde el conjunto de pruebas entregue el mejor puntaje de precisión de la mano de una precisión del conjunto de entrenamiento buena."
      ]
    },
    {
      "cell_type": "code",
      "metadata": {
        "id": "1vtbsIJAgx0m",
        "colab": {
          "base_uri": "https://localhost:8080/",
          "height": 564
        },
        "outputId": "a5883197-01a1-4d87-d128-53709ffba123"
      },
      "source": [
        "#entrenamiento de kNN\n",
        "accs = []\n",
        "\n",
        "#Calcular la precisión del modelo usando entre 1 y 15 vecinos\n",
        "for k in range(1,15):\n",
        "  neigh = KNeighborsClassifier(n_neighbors=k).fit(x, np.ravel(y))\n",
        "\n",
        "  #para cada valor de vecinos se calcula la suma del cuadrado dentro del clúster\n",
        "  acc = neigh.score(x, np.ravel(y))\n",
        "  accs.append(acc)\n",
        "\n",
        "#trazamos la curva de precision vs la cantidad de vecinos\n",
        "plt.figure(figsize=[10,6])\n",
        "plt.title('Evaluación de k-vecinos')\n",
        "plt.xlabel('Num de vecinos')\n",
        "plt.ylabel('Precisión')\n",
        "plt.plot(list(range(1,15)), accs, marker=\"o\")\n",
        "plt.show()"
      ],
      "execution_count": null,
      "outputs": [
        {
          "output_type": "display_data",
          "data": {
            "text/plain": [
              "<Figure size 1000x600 with 1 Axes>"
            ],
            "image/png": "[encoded data removed]"
          },
          "metadata": {}
        }
      ]
    },
    {
      "cell_type": "markdown",
      "metadata": {
        "id": "ZpWbf3_iH2f8"
      },
      "source": [
        "Un k bajo representa un modelo de alta complejidad, y un k alto, modelo de baja complejidad. Requiere ajuste de dicho valor y de la forma de medir la distancia entre la predicción y los vecinos más cercanos (euclidiana)."
      ]
    },
    {
      "cell_type": "markdown",
      "metadata": {
        "id": "Jjj-lQkuH3ic"
      },
      "source": [
        "Ventajas:\n",
        "*   Fácil de entender.\n",
        "*   Generalmente, entrega buenos resultados sin excesivo ajuste.\n",
        "\n",
        "Desventajas:\n",
        "*   Se puede volver lento si el conjunto de entrenamiento es muy grande.\n",
        "*   No brinda buenos resultados cuando la dimensionalidad de los atributos es alta o cuando estos sean cero."
      ]
    },
    {
      "cell_type": "markdown",
      "metadata": {
        "id": "X5qhWatah1XV"
      },
      "source": [
        "### Clasificador de vector de soporte\n",
        "\n",
        "Conocido en inglés como el *Support Vector Classifier*, SVC.\n",
        "\n",
        "Ventajas:\n",
        "\n",
        "*   Buena precisión.\n",
        "*   Opera bien con datos pequeños/limpios.\n",
        "\n",
        "Desventajas:\n",
        "*   Puede resultar lento con set de datos grandes.\n",
        "*   No brinda buenos resultados con datos ruidosos."
      ]
    },
    {
      "cell_type": "code",
      "metadata": {
        "id": "U53Qh_1oh4m6",
        "colab": {
          "base_uri": "https://localhost:8080/"
        },
        "outputId": "5851f2a2-2530-4b87-c87b-f6c48b6ba8e1"
      },
      "source": [
        "#Ejemplo: SVC\n",
        "from sklearn import svm\n",
        "\n",
        "#Crear el clasificador de vector de soporte\n",
        "svcMulti = svm.SVC(degree=2, C=5) #controla el grado de reguralizacion\n",
        "svcMulti = svcMulti.fit(x, np.ravel(y))\n",
        "\n",
        "#Determinar el puntaje de accuracy (precision o exactitud)\n",
        "acc = svcMulti.score(x, np.ravel(y))\n",
        "print('Acc SVM as multi-class classfier: {}'.format(acc))"
      ],
      "execution_count": null,
      "outputs": [
        {
          "output_type": "stream",
          "name": "stdout",
          "text": [
            "Acc SVM as multi-class classfier: 0.8135593220338984\n"
          ]
        }
      ]
    },
    {
      "cell_type": "code",
      "metadata": {
        "id": "5pM0SzD0jMjQ",
        "colab": {
          "base_uri": "https://localhost:8080/",
          "height": 565
        },
        "outputId": "a99f8dee-4154-43d0-8031-17f9c3e15d2c"
      },
      "source": [
        "#entrenamiento de SVC\n",
        "accs = []\n",
        "\n",
        "#Calcular la precisión del modelo usando un grado de reg entre 1 y 15\n",
        "for C in range(1,15):\n",
        "  svc = svm.SVC(degree=2, C=C).fit(x, np.ravel(y))\n",
        "  #para cada valor de regularizacion, se calcula la exactitud del modelo\n",
        "  acc = svc.score(x, np.ravel(y))\n",
        "  accs.append(acc)\n",
        "\n",
        "#trazamos la curva de precision vs el valor del parametro C\n",
        "plt.figure(figsize=[10,6])\n",
        "plt.title('Evaluación de parametro C')\n",
        "plt.xlabel('C')\n",
        "plt.ylabel('Precisión')\n",
        "plt.plot(list(range(1,15)), accs, marker=\"o\")\n",
        "plt.show()"
      ],
      "execution_count": null,
      "outputs": [
        {
          "output_type": "display_data",
          "data": {
            "text/plain": [
              "<Figure size 1000x600 with 1 Axes>"
            ],
            "image/png": "[encoded data removed]"
          },
          "metadata": {}
        }
      ]
    },
    {
      "cell_type": "markdown",
      "metadata": {
        "id": "xvkAuTDvRQmt"
      },
      "source": [
        "## Consideraciones sobre los modelos de clasificación\n",
        "\n",
        "1. Es importante destacar que en un problema de clasificación las entradas pueden ser continuas, discretas o categóricas pero la variable de respuesta es **categórica**.\n",
        "2. Dependiendo de la cantidad de categorías (clases) un problema de clasificación se puede considerar binario (2 clases) o multiclase (más de 2 clases). Si varias clases pueden ocurrir simultáneamente para una misma observación se dice que es un problema de clasificación multi-etiqueta\n",
        "3. La regresión logística es un algoritmo de clasificación y no de regresión a pesar de que contiene la palabra \"regresión\" en su nombre.\n",
        "4. Los coeficientes de la regresión logística se pueden obtener a través del algoritmo de optimización de **gradientes descendientes** u otras técnicas de optimización más avanzadas como **gradientes conjugados**, **BFGS** y **L-BFGS**.\n",
        "5. Para medir el desempeño de un algoritmo de clasificación podemos usar la **exactitud** que nos brinda el porcentaje de observaciones que fueron correctamente clasificadas. Para obtener información más detallada sobre el desempeño del clasificador (especialmente cuando se tienen múltiples clases) se puede obtener la **matriz de confusión** que indica en cuáles clases se cometieron los errores y que tipos de errores fueron (falsos negativos o falsos positivos)\n",
        "6. Al igual que los modelos de regresión los modelos de clasificación pueden sufrir del problema de **sobreajuste** cuando se aumenta mucho la complejidad de los mismo y/o se entrenan por demasiadas iteraciones."
      ]
    },
    {
      "cell_type": "markdown",
      "metadata": {
        "id": "fABeojaAkMTv"
      },
      "source": [
        "## Práctica 3\n",
        "\n",
        "Usando el dataset *obesity_train.csv* y guiándose con la descripción de sus variables en el archivo *obesity_description.txt*:\n",
        "1. Obtenga un modelo de clasificación que estime el grado de obesidad de una persona (*NObeyesdad*) basado únicamente en atributos de sus hábitos de alimentación. Luego, imprima en pantalla la exactitud del modelo.\n",
        "2. Obtenga un segundo modelo que estime el grado de obesidad de una persona basado únicamente en atributos relacionados con su condición física. Luego, imprima en pantalla la exactitud del modelo.\n",
        "3. ¿Cual de los dos modelos logra predecir con mayor exactitud el grado de obesidad de una persona?\n",
        "4. Imprima en pantalla la matriz de confusión para ambos modelos y responda: ¿Cúal es la categoría de obesidad que presentó más falsos negativos para cada modelo? ¿Cúal es la categoría de obesidad que presentó más falsos positivos para cada modelo?\n",
        "5. **Opcional:** ¿Cuál fue la categoría que obtuvo una mayor exactitud para cada modelo?"
      ]
    },
    {
      "cell_type": "code",
      "source": [
        "#Puede realizar su práctica aquí\n",
        "#/content/drive/MyDrive/MachineLearning/datasets/obesity_train.csv"
      ],
      "metadata": {
        "id": "uzZFeASRi3sO"
      },
      "execution_count": null,
      "outputs": []
    },
    {
      "cell_type": "code",
      "source": [
        "from google.colab import drive\n",
        "drive.mount('/content/drive')"
      ],
      "metadata": {
        "colab": {
          "base_uri": "https://localhost:8080/"
        },
        "id": "0TKwlzP_4cek",
        "outputId": "e3c12aa8-50f3-4bea-a360-7c6a45ea46de"
      },
      "execution_count": 1,
      "outputs": [
        {
          "output_type": "stream",
          "name": "stdout",
          "text": [
            "Mounted at /content/drive\n"
          ]
        }
      ]
    },
    {
      "cell_type": "code",
      "source": [
        "import pandas as pd\n",
        "import numpy as np\n",
        "import matplotlib.pyplot as plt\n",
        "# Random forest\n",
        "from sklearn.ensemble import RandomForestClassifier\n",
        "from sklearn.model_selection import train_test_split\n",
        "from sklearn import metrics\n",
        "#from sklearn.metrics import accuracy_score"
      ],
      "metadata": {
        "id": "wourwMu6Umq-"
      },
      "execution_count": 23,
      "outputs": []
    },
    {
      "cell_type": "code",
      "source": [
        "df = pd.read_csv(\"/content/drive/MyDrive/datasets/obesity_train.csv\", header=0)\n",
        "df.head()"
      ],
      "metadata": {
        "id": "6QU1MtsbUx9q",
        "outputId": "420c9938-f7ca-457f-b5cb-1fdbcfa5c322",
        "colab": {
          "base_uri": "https://localhost:8080/",
          "height": 270
        }
      },
      "execution_count": 3,
      "outputs": [
        {
          "output_type": "execute_result",
          "data": {
            "text/plain": [
              "   Gender        Age    Height      Weight family_history_with_overweight  \\\n",
              "0  Female  20.254534  1.569480   41.324558                             no   \n",
              "1    Male  36.542885  1.750000  119.434645                            yes   \n",
              "2  Female  26.000000  1.624134  111.531208                            yes   \n",
              "3    Male  22.200779  1.769328  105.000576                            yes   \n",
              "4    Male  17.120699  1.809251   58.968994                            yes   \n",
              "\n",
              "  FAVC      FCVC  NCP        CAEC SMOKE      CH2O SCC       FAF       TUE  \\\n",
              "0  yes  2.392665  1.0  Frequently    no  1.000000  no  0.000000  0.738269   \n",
              "1  yes  2.729890  3.0   Sometimes    no  2.030084  no  0.592607  0.754417   \n",
              "2  yes  3.000000  3.0   Sometimes    no  2.609188  no  0.000000  0.174030   \n",
              "3  yes  2.685484  3.0   Sometimes    no  2.649459  no  1.000000  0.000000   \n",
              "4  yes  2.524428  4.0   Sometimes    no  2.000000  no  2.000000  0.038380   \n",
              "\n",
              "        CALC                 MTRANS           NObeyesdad  \n",
              "0  Sometimes  Public_Transportation  Insufficient_Weight  \n",
              "1  Sometimes             Automobile      Obesity_Type_II  \n",
              "2  Sometimes  Public_Transportation     Obesity_Type_III  \n",
              "3  Sometimes  Public_Transportation       Obesity_Type_I  \n",
              "4         no             Automobile  Insufficient_Weight  "
            ],
            "text/html": [
              "\n",
              "\n",
              "  <div id=\"df-ba87e217-7eda-454b-9db0-33aefae78aa2\">\n",
              "    <div class=\"colab-df-container\">\n",
              "      <div>\n",
              "<style scoped>\n",
              "    .dataframe tbody tr th:only-of-type {\n",
              "        vertical-align: middle;\n",
              "    }\n",
              "\n",
              "    .dataframe tbody tr th {\n",
              "        vertical-align: top;\n",
              "    }\n",
              "\n",
              "    .dataframe thead th {\n",
              "        text-align: right;\n",
              "    }\n",
              "</style>\n",
              "<table border=\"1\" class=\"dataframe\">\n",
              "  <thead>\n",
              "    <tr style=\"text-align: right;\">\n",
              "      <th></th>\n",
              "      <th>Gender</th>\n",
              "      <th>Age</th>\n",
              "      <th>Height</th>\n",
              "      <th>Weight</th>\n",
              "      <th>family_history_with_overweight</th>\n",
              "      <th>FAVC</th>\n",
              "      <th>FCVC</th>\n",
              "      <th>NCP</th>\n",
              "      <th>CAEC</th>\n",
              "      <th>SMOKE</th>\n",
              "      <th>CH2O</th>\n",
              "      <th>SCC</th>\n",
              "      <th>FAF</th>\n",
              "      <th>TUE</th>\n",
              "      <th>CALC</th>\n",
              "      <th>MTRANS</th>\n",
              "      <th>NObeyesdad</th>\n",
              "    </tr>\n",
              "  </thead>\n",
              "  <tbody>\n",
              "    <tr>\n",
              "      <th>0</th>\n",
              "      <td>Female</td>\n",
              "      <td>20.254534</td>\n",
              "      <td>1.569480</td>\n",
              "      <td>41.324558</td>\n",
              "      <td>no</td>\n",
              "      <td>yes</td>\n",
              "      <td>2.392665</td>\n",
              "      <td>1.0</td>\n",
              "      <td>Frequently</td>\n",
              "      <td>no</td>\n",
              "      <td>1.000000</td>\n",
              "      <td>no</td>\n",
              "      <td>0.000000</td>\n",
              "      <td>0.738269</td>\n",
              "      <td>Sometimes</td>\n",
              "      <td>Public_Transportation</td>\n",
              "      <td>Insufficient_Weight</td>\n",
              "    </tr>\n",
              "    <tr>\n",
              "      <th>1</th>\n",
              "      <td>Male</td>\n",
              "      <td>36.542885</td>\n",
              "      <td>1.750000</td>\n",
              "      <td>119.434645</td>\n",
              "      <td>yes</td>\n",
              "      <td>yes</td>\n",
              "      <td>2.729890</td>\n",
              "      <td>3.0</td>\n",
              "      <td>Sometimes</td>\n",
              "      <td>no</td>\n",
              "      <td>2.030084</td>\n",
              "      <td>no</td>\n",
              "      <td>0.592607</td>\n",
              "      <td>0.754417</td>\n",
              "      <td>Sometimes</td>\n",
              "      <td>Automobile</td>\n",
              "      <td>Obesity_Type_II</td>\n",
              "    </tr>\n",
              "    <tr>\n",
              "      <th>2</th>\n",
              "      <td>Female</td>\n",
              "      <td>26.000000</td>\n",
              "      <td>1.624134</td>\n",
              "      <td>111.531208</td>\n",
              "      <td>yes</td>\n",
              "      <td>yes</td>\n",
              "      <td>3.000000</td>\n",
              "      <td>3.0</td>\n",
              "      <td>Sometimes</td>\n",
              "      <td>no</td>\n",
              "      <td>2.609188</td>\n",
              "      <td>no</td>\n",
              "      <td>0.000000</td>\n",
              "      <td>0.174030</td>\n",
              "      <td>Sometimes</td>\n",
              "      <td>Public_Transportation</td>\n",
              "      <td>Obesity_Type_III</td>\n",
              "    </tr>\n",
              "    <tr>\n",
              "      <th>3</th>\n",
              "      <td>Male</td>\n",
              "      <td>22.200779</td>\n",
              "      <td>1.769328</td>\n",
              "      <td>105.000576</td>\n",
              "      <td>yes</td>\n",
              "      <td>yes</td>\n",
              "      <td>2.685484</td>\n",
              "      <td>3.0</td>\n",
              "      <td>Sometimes</td>\n",
              "      <td>no</td>\n",
              "      <td>2.649459</td>\n",
              "      <td>no</td>\n",
              "      <td>1.000000</td>\n",
              "      <td>0.000000</td>\n",
              "      <td>Sometimes</td>\n",
              "      <td>Public_Transportation</td>\n",
              "      <td>Obesity_Type_I</td>\n",
              "    </tr>\n",
              "    <tr>\n",
              "      <th>4</th>\n",
              "      <td>Male</td>\n",
              "      <td>17.120699</td>\n",
              "      <td>1.809251</td>\n",
              "      <td>58.968994</td>\n",
              "      <td>yes</td>\n",
              "      <td>yes</td>\n",
              "      <td>2.524428</td>\n",
              "      <td>4.0</td>\n",
              "      <td>Sometimes</td>\n",
              "      <td>no</td>\n",
              "      <td>2.000000</td>\n",
              "      <td>no</td>\n",
              "      <td>2.000000</td>\n",
              "      <td>0.038380</td>\n",
              "      <td>no</td>\n",
              "      <td>Automobile</td>\n",
              "      <td>Insufficient_Weight</td>\n",
              "    </tr>\n",
              "  </tbody>\n",
              "</table>\n",
              "</div>\n",
              "      <button class=\"colab-df-convert\" onclick=\"convertToInteractive('df-ba87e217-7eda-454b-9db0-33aefae78aa2')\"\n",
              "              title=\"Convert this dataframe to an interactive table.\"\n",
              "              style=\"display:none;\">\n",
              "\n",
              "  <svg xmlns=\"http://www.w3.org/2000/svg\" height=\"24px\"viewBox=\"0 0 24 24\"\n",
              "       width=\"24px\">\n",
              "    <path d=\"M0 0h24v24H0V0z\" fill=\"none\"/>\n",
              "    <path d=\"M18.56 5.44l.94 2.06.94-2.06 2.06-.94-2.06-.94-.94-2.06-.94 2.06-2.06.94zm-11 1L8.5 8.5l.94-2.06 2.06-.94-2.06-.94L8.5 2.5l-.94 2.06-2.06.94zm10 10l.94 2.06.94-2.06 2.06-.94-2.06-.94-.94-2.06-.94 2.06-2.06.94z\"/><path d=\"M17.41 7.96l-1.37-1.37c-.4-.4-.92-.59-1.43-.59-.52 0-1.04.2-1.43.59L10.3 9.45l-7.72 7.72c-.78.78-.78 2.05 0 2.83L4 21.41c.39.39.9.59 1.41.59.51 0 1.02-.2 1.41-.59l7.78-7.78 2.81-2.81c.8-.78.8-2.07 0-2.86zM5.41 20L4 18.59l7.72-7.72 1.47 1.35L5.41 20z\"/>\n",
              "  </svg>\n",
              "      </button>\n",
              "\n",
              "\n",
              "\n",
              "    <div id=\"df-8b231552-827b-449f-8b84-3dbc48bf4408\">\n",
              "      <button class=\"colab-df-quickchart\" onclick=\"quickchart('df-8b231552-827b-449f-8b84-3dbc48bf4408')\"\n",
              "              title=\"Suggest charts.\"\n",
              "              style=\"display:none;\">\n",
              "\n",
              "<svg xmlns=\"http://www.w3.org/2000/svg\" height=\"24px\"viewBox=\"0 0 24 24\"\n",
              "     width=\"24px\">\n",
              "    <g>\n",
              "        <path d=\"M19 3H5c-1.1 0-2 .9-2 2v14c0 1.1.9 2 2 2h14c1.1 0 2-.9 2-2V5c0-1.1-.9-2-2-2zM9 17H7v-7h2v7zm4 0h-2V7h2v10zm4 0h-2v-4h2v4z\"/>\n",
              "    </g>\n",
              "</svg>\n",
              "      </button>\n",
              "    </div>\n",
              "\n",
              "<style>\n",
              "  .colab-df-quickchart {\n",
              "    background-color: #E8F0FE;\n",
              "    border: none;\n",
              "    border-radius: 50%;\n",
              "    cursor: pointer;\n",
              "    display: none;\n",
              "    fill: #1967D2;\n",
              "    height: 32px;\n",
              "    padding: 0 0 0 0;\n",
              "    width: 32px;\n",
              "  }\n",
              "\n",
              "  .colab-df-quickchart:hover {\n",
              "    background-color: #E2EBFA;\n",
              "    box-shadow: 0px 1px 2px rgba(60, 64, 67, 0.3), 0px 1px 3px 1px rgba(60, 64, 67, 0.15);\n",
              "    fill: #174EA6;\n",
              "  }\n",
              "\n",
              "  [theme=dark] .colab-df-quickchart {\n",
              "    background-color: #3B4455;\n",
              "    fill: #D2E3FC;\n",
              "  }\n",
              "\n",
              "  [theme=dark] .colab-df-quickchart:hover {\n",
              "    background-color: #434B5C;\n",
              "    box-shadow: 0px 1px 3px 1px rgba(0, 0, 0, 0.15);\n",
              "    filter: drop-shadow(0px 1px 2px rgba(0, 0, 0, 0.3));\n",
              "    fill: #FFFFFF;\n",
              "  }\n",
              "</style>\n",
              "\n",
              "    <script>\n",
              "      async function quickchart(key) {\n",
              "        const containerElement = document.querySelector('#' + key);\n",
              "        const charts = await google.colab.kernel.invokeFunction(\n",
              "            'suggestCharts', [key], {});\n",
              "      }\n",
              "    </script>\n",
              "\n",
              "      <script>\n",
              "\n",
              "function displayQuickchartButton(domScope) {\n",
              "  let quickchartButtonEl =\n",
              "    domScope.querySelector('#df-8b231552-827b-449f-8b84-3dbc48bf4408 button.colab-df-quickchart');\n",
              "  quickchartButtonEl.style.display =\n",
              "    google.colab.kernel.accessAllowed ? 'block' : 'none';\n",
              "}\n",
              "\n",
              "        displayQuickchartButton(document);\n",
              "      </script>\n",
              "      <style>\n",
              "    .colab-df-container {\n",
              "      display:flex;\n",
              "      flex-wrap:wrap;\n",
              "      gap: 12px;\n",
              "    }\n",
              "\n",
              "    .colab-df-convert {\n",
              "      background-color: #E8F0FE;\n",
              "      border: none;\n",
              "      border-radius: 50%;\n",
              "      cursor: pointer;\n",
              "      display: none;\n",
              "      fill: #1967D2;\n",
              "      height: 32px;\n",
              "      padding: 0 0 0 0;\n",
              "      width: 32px;\n",
              "    }\n",
              "\n",
              "    .colab-df-convert:hover {\n",
              "      background-color: #E2EBFA;\n",
              "      box-shadow: 0px 1px 2px rgba(60, 64, 67, 0.3), 0px 1px 3px 1px rgba(60, 64, 67, 0.15);\n",
              "      fill: #174EA6;\n",
              "    }\n",
              "\n",
              "    [theme=dark] .colab-df-convert {\n",
              "      background-color: #3B4455;\n",
              "      fill: #D2E3FC;\n",
              "    }\n",
              "\n",
              "    [theme=dark] .colab-df-convert:hover {\n",
              "      background-color: #434B5C;\n",
              "      box-shadow: 0px 1px 3px 1px rgba(0, 0, 0, 0.15);\n",
              "      filter: drop-shadow(0px 1px 2px rgba(0, 0, 0, 0.3));\n",
              "      fill: #FFFFFF;\n",
              "    }\n",
              "  </style>\n",
              "\n",
              "      <script>\n",
              "        const buttonEl =\n",
              "          document.querySelector('#df-ba87e217-7eda-454b-9db0-33aefae78aa2 button.colab-df-convert');\n",
              "        buttonEl.style.display =\n",
              "          google.colab.kernel.accessAllowed ? 'block' : 'none';\n",
              "\n",
              "        async function convertToInteractive(key) {\n",
              "          const element = document.querySelector('#df-ba87e217-7eda-454b-9db0-33aefae78aa2');\n",
              "          const dataTable =\n",
              "            await google.colab.kernel.invokeFunction('convertToInteractive',\n",
              "                                                     [key], {});\n",
              "          if (!dataTable) return;\n",
              "\n",
              "          const docLinkHtml = 'Like what you see? Visit the ' +\n",
              "            '<a target=\"_blank\" href=https://colab.research.google.com/notebooks/data_table.ipynb>data table notebook</a>'\n",
              "            + ' to learn more about interactive tables.';\n",
              "          element.innerHTML = '';\n",
              "          dataTable['output_type'] = 'display_data';\n",
              "          await google.colab.output.renderOutput(dataTable, element);\n",
              "          const docLink = document.createElement('div');\n",
              "          docLink.innerHTML = docLinkHtml;\n",
              "          element.appendChild(docLink);\n",
              "        }\n",
              "      </script>\n",
              "    </div>\n",
              "  </div>\n"
            ]
          },
          "metadata": {},
          "execution_count": 3
        }
      ]
    },
    {
      "cell_type": "code",
      "source": [
        "# 1) Hábitos alimenticios\n",
        "\n",
        "# Comentarios tomados de la clase\n",
        "#Frequent consumption of high caloric food (FAVC),\n",
        "#Frequency of consumption of vegetables (FCVC), Number of main meals (NCP),\n",
        "#Consumption of food between meals (CAEC), Consumption of water daily (CH20),\n",
        "#and Consumption of alcohol (CALC)\n",
        "\n",
        "x_cat = pd.get_dummies(df[['FAVC', 'CAEC', 'CALC']])\n",
        "x_num = df[['FCVC', 'NCP', 'CH2O']]\n",
        "\n",
        "x_eat = pd.concat([x_cat.reset_index(drop=True), x_num], axis=1).values\n",
        "Y = df[['NObeyesdad']].values\n",
        "\n",
        "#print(x,Y)\n",
        "# Note: ravel changes the shape of Y from column to 1d array.\n",
        "X_train, X_test, y_train, y_test = train_test_split(x_eat, Y.ravel(), test_size=0.2)"
      ],
      "metadata": {
        "id": "iQP8mW6hVVpV"
      },
      "execution_count": 56,
      "outputs": []
    },
    {
      "cell_type": "code",
      "source": [
        "rf1 = RandomForestClassifier()\n",
        "rf1.fit(X_train, y_train)"
      ],
      "metadata": {
        "id": "_tAN_wH6XEql",
        "outputId": "3060e812-367e-4cb1-92e3-cda9cf357ca9",
        "colab": {
          "base_uri": "https://localhost:8080/",
          "height": 74
        }
      },
      "execution_count": 57,
      "outputs": [
        {
          "output_type": "execute_result",
          "data": {
            "text/plain": [
              "RandomForestClassifier()"
            ],
            "text/html": [
              "<style>#sk-container-id-9 {color: black;background-color: white;}#sk-container-id-9 pre{padding: 0;}#sk-container-id-9 div.sk-toggleable {background-color: white;}#sk-container-id-9 label.sk-toggleable__label {cursor: pointer;display: block;width: 100%;margin-bottom: 0;padding: 0.3em;box-sizing: border-box;text-align: center;}#sk-container-id-9 label.sk-toggleable__label-arrow:before {content: \"▸\";float: left;margin-right: 0.25em;color: #696969;}#sk-container-id-9 label.sk-toggleable__label-arrow:hover:before {color: black;}#sk-container-id-9 div.sk-estimator:hover label.sk-toggleable__label-arrow:before {color: black;}#sk-container-id-9 div.sk-toggleable__content {max-height: 0;max-width: 0;overflow: hidden;text-align: left;background-color: #f0f8ff;}#sk-container-id-9 div.sk-toggleable__content pre {margin: 0.2em;color: black;border-radius: 0.25em;background-color: #f0f8ff;}#sk-container-id-9 input.sk-toggleable__control:checked~div.sk-toggleable__content {max-height: 200px;max-width: 100%;overflow: auto;}#sk-container-id-9 input.sk-toggleable__control:checked~label.sk-toggleable__label-arrow:before {content: \"▾\";}#sk-container-id-9 div.sk-estimator input.sk-toggleable__control:checked~label.sk-toggleable__label {background-color: #d4ebff;}#sk-container-id-9 div.sk-label input.sk-toggleable__control:checked~label.sk-toggleable__label {background-color: #d4ebff;}#sk-container-id-9 input.sk-hidden--visually {border: 0;clip: rect(1px 1px 1px 1px);clip: rect(1px, 1px, 1px, 1px);height: 1px;margin: -1px;overflow: hidden;padding: 0;position: absolute;width: 1px;}#sk-container-id-9 div.sk-estimator {font-family: monospace;background-color: #f0f8ff;border: 1px dotted black;border-radius: 0.25em;box-sizing: border-box;margin-bottom: 0.5em;}#sk-container-id-9 div.sk-estimator:hover {background-color: #d4ebff;}#sk-container-id-9 div.sk-parallel-item::after {content: \"\";width: 100%;border-bottom: 1px solid gray;flex-grow: 1;}#sk-container-id-9 div.sk-label:hover label.sk-toggleable__label {background-color: #d4ebff;}#sk-container-id-9 div.sk-serial::before {content: \"\";position: absolute;border-left: 1px solid gray;box-sizing: border-box;top: 0;bottom: 0;left: 50%;z-index: 0;}#sk-container-id-9 div.sk-serial {display: flex;flex-direction: column;align-items: center;background-color: white;padding-right: 0.2em;padding-left: 0.2em;position: relative;}#sk-container-id-9 div.sk-item {position: relative;z-index: 1;}#sk-container-id-9 div.sk-parallel {display: flex;align-items: stretch;justify-content: center;background-color: white;position: relative;}#sk-container-id-9 div.sk-item::before, #sk-container-id-9 div.sk-parallel-item::before {content: \"\";position: absolute;border-left: 1px solid gray;box-sizing: border-box;top: 0;bottom: 0;left: 50%;z-index: -1;}#sk-container-id-9 div.sk-parallel-item {display: flex;flex-direction: column;z-index: 1;position: relative;background-color: white;}#sk-container-id-9 div.sk-parallel-item:first-child::after {align-self: flex-end;width: 50%;}#sk-container-id-9 div.sk-parallel-item:last-child::after {align-self: flex-start;width: 50%;}#sk-container-id-9 div.sk-parallel-item:only-child::after {width: 0;}#sk-container-id-9 div.sk-dashed-wrapped {border: 1px dashed gray;margin: 0 0.4em 0.5em 0.4em;box-sizing: border-box;padding-bottom: 0.4em;background-color: white;}#sk-container-id-9 div.sk-label label {font-family: monospace;font-weight: bold;display: inline-block;line-height: 1.2em;}#sk-container-id-9 div.sk-label-container {text-align: center;}#sk-container-id-9 div.sk-container {/* jupyter's `normalize.less` sets `[hidden] { display: none; }` but bootstrap.min.css set `[hidden] { display: none !important; }` so we also need the `!important` here to be able to override the default hidden behavior on the sphinx rendered scikit-learn.org. See: https://github.com/scikit-learn/scikit-learn/issues/21755 */display: inline-block !important;position: relative;}#sk-container-id-9 div.sk-text-repr-fallback {display: none;}</style><div id=\"sk-container-id-9\" class=\"sk-top-container\"><div class=\"sk-text-repr-fallback\"><pre>RandomForestClassifier()</pre><b>In a Jupyter environment, please rerun this cell to show the HTML representation or trust the notebook. <br />On GitHub, the HTML representation is unable to render, please try loading this page with nbviewer.org.</b></div><div class=\"sk-container\" hidden><div class=\"sk-item\"><div class=\"sk-estimator sk-toggleable\"><input class=\"sk-toggleable__control sk-hidden--visually\" id=\"sk-estimator-id-9\" type=\"checkbox\" checked><label for=\"sk-estimator-id-9\" class=\"sk-toggleable__label sk-toggleable__label-arrow\">RandomForestClassifier</label><div class=\"sk-toggleable__content\"><pre>RandomForestClassifier()</pre></div></div></div></div></div>"
            ]
          },
          "metadata": {},
          "execution_count": 57
        }
      ]
    },
    {
      "cell_type": "code",
      "source": [
        "y_pred = rf1.predict(X_test)\n",
        "accuracy = accuracy_score(y_test, y_pred)\n",
        "print(\"Accuracy:\", accuracy)"
      ],
      "metadata": {
        "id": "2-7CWTrUXYJ0",
        "outputId": "49fe4320-55b8-4125-c6b7-f0b64652af75",
        "colab": {
          "base_uri": "https://localhost:8080/"
        }
      },
      "execution_count": 58,
      "outputs": [
        {
          "output_type": "stream",
          "name": "stdout",
          "text": [
            "Accuracy: 0.6242603550295858\n"
          ]
        }
      ]
    },
    {
      "cell_type": "code",
      "source": [
        "# 2) Condición física\n",
        "# Calories consumption monitoring (SCC), Physical activity frequency (FAF),\n",
        "# Time using technology devices (TUE), Transportation used (MTRANS)\n",
        "\n",
        "x_cat = pd.get_dummies(df[['SCC', 'MTRANS']])\n",
        "x_num = df[['FAF', 'TUE']]\n",
        "x_phy = pd.concat([x_cat.reset_index(drop=True), x_num], axis=1).values\n",
        "Y = df[['NObeyesdad']].values\n",
        "\n",
        "X_train, X_test, y_train, y_test = train_test_split(x_phy, Y.ravel(), test_size=0.2)"
      ],
      "metadata": {
        "id": "IFd98FUFYJgb"
      },
      "execution_count": 59,
      "outputs": []
    },
    {
      "cell_type": "code",
      "source": [
        "rf2 = RandomForestClassifier()\n",
        "rf2.fit(X_train, y_train)\n",
        "y_pred = rf2.predict(X_test)\n",
        "accuracy = accuracy_score(y_test, y_pred)\n",
        "print(\"Accuracy:\", accuracy)"
      ],
      "metadata": {
        "id": "ocfr9FL2YvGD",
        "outputId": "d0a87a96-0bd6-4d96-e990-cbe7c4357891",
        "colab": {
          "base_uri": "https://localhost:8080/"
        }
      },
      "execution_count": 60,
      "outputs": [
        {
          "output_type": "stream",
          "name": "stdout",
          "text": [
            "Accuracy: 0.4289940828402367\n"
          ]
        }
      ]
    },
    {
      "cell_type": "markdown",
      "source": [
        "3) Utilizando un clasificador Random Forest, sin ajustar hyperparámetros, el primer modelo, que se enfoca en hábitos alimenticios, alcanza una exactitud de 0.63, la cuál es superior a la obtenida por el segundo modelo enfocado en condición física, que obtuvo 0.42"
      ],
      "metadata": {
        "id": "2JiKr1Y5Y6NW"
      }
    },
    {
      "cell_type": "code",
      "source": [
        "# 4) Confussion Matrix\n",
        "print('Hábitos alimenticios')\n",
        "y_pred_eat = rf1.predict(x_eat)\n",
        "cm_eat = metrics.confusion_matrix(Y, y_pred_eat)\n",
        "dfcm_eat = pd.DataFrame(cm_eat)\n",
        "dfcm_eat.columns = rf1.classes_\n",
        "dfcm_eat.index = rf1.classes_\n",
        "print(dfcm_eat)\n",
        "print('Condición física')\n",
        "y_pred_phy = rf2.predict(x_phy)\n",
        "cm_phy = metrics.confusion_matrix(Y, y_pred_phy)\n",
        "dfcm_phy = pd.DataFrame(cm_phy)\n",
        "dfcm_phy.columns = rf1.classes_\n",
        "dfcm_phy.index = rf1.classes_\n",
        "print(dfcm_phy)"
      ],
      "metadata": {
        "id": "3cgQOweKbn6F",
        "outputId": "e5c48429-b899-414b-95ef-eb1a4332a94e",
        "colab": {
          "base_uri": "https://localhost:8080/"
        }
      },
      "execution_count": 65,
      "outputs": [
        {
          "output_type": "stream",
          "name": "stdout",
          "text": [
            "Hábitos alimenticios\n",
            "                     Insufficient_Weight  Normal_Weight  Obesity_Type_I  \\\n",
            "Insufficient_Weight                  193             18               2   \n",
            "Normal_Weight                          3            195               7   \n",
            "Obesity_Type_I                         2             16             245   \n",
            "Obesity_Type_II                        4              9               2   \n",
            "Obesity_Type_III                       0              0               7   \n",
            "Overweight_Level_I                     0             31              14   \n",
            "Overweight_Level_II                    1             20              16   \n",
            "\n",
            "                     Obesity_Type_II  Obesity_Type_III  Overweight_Level_I  \\\n",
            "Insufficient_Weight                0                 0                   5   \n",
            "Normal_Weight                      0                 0                   5   \n",
            "Obesity_Type_I                     2                 0                   8   \n",
            "Obesity_Type_II                  210                 0                   4   \n",
            "Obesity_Type_III                   0               252                   0   \n",
            "Overweight_Level_I                 4                 1                 182   \n",
            "Overweight_Level_II                3                 0                   5   \n",
            "\n",
            "                     Overweight_Level_II  \n",
            "Insufficient_Weight                    3  \n",
            "Normal_Weight                         16  \n",
            "Obesity_Type_I                        12  \n",
            "Obesity_Type_II                        1  \n",
            "Obesity_Type_III                       0  \n",
            "Overweight_Level_I                     3  \n",
            "Overweight_Level_II                  187  \n",
            "Condición física\n",
            "                     Insufficient_Weight  Normal_Weight  Obesity_Type_I  \\\n",
            "Insufficient_Weight                  174             20               8   \n",
            "Normal_Weight                         17            169              11   \n",
            "Obesity_Type_I                         7             23             212   \n",
            "Obesity_Type_II                        1              5               5   \n",
            "Obesity_Type_III                       2              1               2   \n",
            "Overweight_Level_I                     7             19               8   \n",
            "Overweight_Level_II                    9             29              19   \n",
            "\n",
            "                     Obesity_Type_II  Obesity_Type_III  Overweight_Level_I  \\\n",
            "Insufficient_Weight                3                 4                   9   \n",
            "Normal_Weight                      0                 0                  22   \n",
            "Obesity_Type_I                    10                 2                  20   \n",
            "Obesity_Type_II                  197                 9                   5   \n",
            "Obesity_Type_III                   2               251                   1   \n",
            "Overweight_Level_I                 8                 2                 186   \n",
            "Overweight_Level_II                7                 4                   8   \n",
            "\n",
            "                     Overweight_Level_II  \n",
            "Insufficient_Weight                    3  \n",
            "Normal_Weight                          7  \n",
            "Obesity_Type_I                        11  \n",
            "Obesity_Type_II                        8  \n",
            "Obesity_Type_III                       0  \n",
            "Overweight_Level_I                     5  \n",
            "Overweight_Level_II                  156  \n"
          ]
        }
      ]
    },
    {
      "cell_type": "code",
      "source": [
        "# código del prof\n",
        "FP = cm_eat.sum(axis=0) - np.diag(cm_eat)\n",
        "print(\"Falsos Positivos por clase: \",FP, \" total: \", FP.sum())\n",
        "FN = cm_eat.sum(axis=1) - np.diag(cm_eat)\n",
        "print(\"Falsos Negativos por clase: \",FN, \" total: \", FN.sum())\n",
        "TP = np.diag(cm_eat)\n",
        "print(\"Verdaderos Positivos por clase: \",TP, \" total: \", TP.sum())"
      ],
      "metadata": {
        "id": "cyu8EfXTdO9R",
        "outputId": "9c5589f5-bd07-4116-eb73-6b01cfea9a8f",
        "colab": {
          "base_uri": "https://localhost:8080/"
        }
      },
      "execution_count": 66,
      "outputs": [
        {
          "output_type": "stream",
          "name": "stdout",
          "text": [
            "Falsos Positivos por clase:  [10 94 48  9  1 27 35]  total:  224\n",
            "Falsos Negativos por clase:  [28 31 40 20  7 53 45]  total:  224\n",
            "Verdaderos Positivos por clase:  [193 195 245 210 252 182 187]  total:  1464\n"
          ]
        }
      ]
    },
    {
      "cell_type": "markdown",
      "source": [
        "5) En el modelo de hábitos alimenticios, se obtuvieron 252/253 verdaderos positivos para la obesidad de tipo 3.\n",
        "\n",
        "En el modelo de condición física, se obtuvieron 251/272 verdaderos positivos para la misma categoría."
      ],
      "metadata": {
        "id": "1MAM6eEAdS6u"
      }
    }
  ]
}