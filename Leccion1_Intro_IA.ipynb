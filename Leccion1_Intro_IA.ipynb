{
  "nbformat": 4,
  "nbformat_minor": 0,
  "metadata": {
    "colab": {
      "provenance": [],
      "machine_shape": "hm",
      "gpuType": "T4"
    },
    "kernelspec": {
      "display_name": "Python 3",
      "name": "python3"
    },
    "language_info": {
      "codemirror_mode": {
        "name": "ipython",
        "version": 3
      },
      "file_extension": ".py",
      "mimetype": "text/x-python",
      "name": "python",
      "nbconvert_exporter": "python",
      "pygments_lexer": "ipython3",
      "version": "3.6.0"
    },
    "accelerator": "GPU"
  },
  "cells": [
    {
      "cell_type": "markdown",
      "source": [
        "# Lección 1.0: Preliminares del taller de Aprendizaje Automático con Python\n",
        "\n",
        "Autor: Fabricio Quirós Corella"
      ],
      "metadata": {
        "id": "llayErIGYhhg"
      }
    },
    {
      "cell_type": "markdown",
      "source": [
        "## Ambiente de trabajo: Jupyter notebook <a name=\"1\"></a>\n",
        "\n",
        "El documento que estamos observando corresponde a un [Jupyter notebook](https://jupyter.org/). Este sitio no es una página estática, pero sí consiste en un ambiente interactiva que nos permite escrbir y ejecutar código en Python y en otros lenguajes de programación. Existen dos tipos de celdas en un cuaderno de Jupyter:\n",
        "\n",
        "* **Celda de código:** maneja líneas de código a ser ejecutadas por el kernel, donde su resulto es desplegado a continuación.\n",
        "* **Celda de texto:** contiene texto en formato Markdown y despliega su salida en el mismo lugar de ejecución."
      ],
      "metadata": {
        "id": "lZQiumrSYuDr"
      }
    },
    {
      "cell_type": "markdown",
      "source": [
        "### Celdas de código\n",
        "\n",
        "Para ejecutar el código en la celda de abajo, selecciónela y ejecute su contenido de las siguientes formas:\n",
        "\n",
        "* Haga click en el ícono de **Play** en el lado izquierdo de la celda\n",
        "* Ingresar **Cmd/Ctrl+Enter** para correr la celda en su sitio\n",
        "* Ingresar **Shift+Enter** para ejecutar la celda y mover el enfoque a la siguiente celda (se añade una si no existe ninguna).\n",
        "* Ingresar **Alt+Enter** para correr la celda e insertar una nueva celda de código inmediatamente abajo.\n",
        "\n",
        "Existen opciones adicionales para la ejecución de algunas o todas las celdas en el menú de **Entorno de ejecución**."
      ],
      "metadata": {
        "id": "8Ik8qQ62ZBYA"
      }
    },
    {
      "cell_type": "markdown",
      "source": [
        "Por ejemplo, corramos un pequeño script en Python que ejecuta una operación, almacena su resultado en una variable y luego la imprime:"
      ],
      "metadata": {
        "id": "k-lWAMXbbiHy"
      }
    },
    {
      "cell_type": "code",
      "source": [
        "workshop_duration = 2 * 60 * 60 #hours*minutes*seconds\n",
        "print (\"Duración de la primer sesión del taller de ML con Python:\", workshop_duration, \"segundos\")"
      ],
      "metadata": {
        "id": "xjMNmgfOY_H6",
        "outputId": "f3c6048b-173a-4f84-a377-8a4ccc2137b3",
        "colab": {
          "base_uri": "https://localhost:8080/"
        }
      },
      "execution_count": 4,
      "outputs": [
        {
          "output_type": "stream",
          "name": "stdout",
          "text": [
            "Duración de la primer sesión del taller de ML con Python: 7200 segundos\n"
          ]
        }
      ]
    },
    {
      "cell_type": "markdown",
      "source": [
        "Cabe resaltar que todas las celdas modifican el mismo estado **global**, por ende las variables definidas al momento de ejecutar una celda puede ser utilizadas en otras celdas:"
      ],
      "metadata": {
        "id": "LGUSz1crZJ_U"
      }
    },
    {
      "cell_type": "code",
      "source": [
        "workshop_duration = workshop_duration * 6\n",
        "print (\"Duración total del taller de Aprendizaje Automático con Python:\", workshop_duration, \"segundos\")"
      ],
      "metadata": {
        "id": "GhNdXNWrZJmK",
        "outputId": "c332f818-ecc8-4045-f7d1-e0bf713bd7fe",
        "colab": {
          "base_uri": "https://localhost:8080/"
        }
      },
      "execution_count": 5,
      "outputs": [
        {
          "output_type": "stream",
          "name": "stdout",
          "text": [
            "Duración total del taller de Aprendizaje Automático con Python: 43200 segundos\n"
          ]
        }
      ]
    },
    {
      "cell_type": "markdown",
      "source": [
        "Es posible correr llamadas al sistema mediante **comandos de bash** al agregar un signo de exclamación **\\!** al inicio de la línea de código:"
      ],
      "metadata": {
        "id": "T1ZHdSdLZPLu"
      }
    },
    {
      "cell_type": "code",
      "source": [
        "!echo Hello World"
      ],
      "metadata": {
        "id": "XIPBo4cOZVPZ",
        "outputId": "1e4b95ea-3aae-43a4-aa77-7c84bf094a93",
        "colab": {
          "base_uri": "https://localhost:8080/"
        }
      },
      "execution_count": 6,
      "outputs": [
        {
          "output_type": "stream",
          "name": "stdout",
          "text": [
            "Hello World\n"
          ]
        }
      ]
    },
    {
      "cell_type": "markdown",
      "source": [
        "Otro ejemplo clásico es el de localizar el directorio donde estamos navegando en nuestro sistema:"
      ],
      "metadata": {
        "id": "F5LaHalgb9FJ"
      }
    },
    {
      "cell_type": "code",
      "source": [
        "!pwd"
      ],
      "metadata": {
        "id": "KXel7EKPcJ6_",
        "outputId": "0cfc4197-763d-420a-b0ab-01213485354e",
        "colab": {
          "base_uri": "https://localhost:8080/"
        }
      },
      "execution_count": 7,
      "outputs": [
        {
          "output_type": "stream",
          "name": "stdout",
          "text": [
            "/content\n"
          ]
        }
      ]
    },
    {
      "cell_type": "code",
      "source": [
        "%%time\n",
        "for i in range(100):\n",
        "  pass # Do nothing\n",
        "print('Loop over')"
      ],
      "metadata": {
        "id": "t2pYq_XCD68n",
        "outputId": "19cdc171-f7e9-4780-9a24-af26231cc4a2",
        "colab": {
          "base_uri": "https://localhost:8080/"
        }
      },
      "execution_count": 8,
      "outputs": [
        {
          "output_type": "stream",
          "name": "stdout",
          "text": [
            "Loop over\n",
            "CPU times: user 83 µs, sys: 0 ns, total: 83 µs\n",
            "Wall time: 88 µs\n"
          ]
        }
      ]
    },
    {
      "cell_type": "markdown",
      "source": [
        "### Celdas de texto\n",
        "\n",
        "Esto es una **celda markdown**. Haga doble click para editar esta celda. Las celdas de texto emplean sintáxis en formato markdown. Para aprender más al respecto, revisar la [guía markdown](/notebooks/markdown_guide.ipynb).\n"
      ],
      "metadata": {
        "id": "2htsE7QzZiAd"
      }
    },
    {
      "cell_type": "markdown",
      "source": [
        "Es posible de igual form incluir matemáticas a las celdas de texto utilizando [LaTeX](http://www.latex-project.org/). Solamente es cuestión de colocar la declaración entre un par de símbolos de **\\$**.\n",
        "\n",
        "Por ejemplo, `$\\sqrt{3x-1}+(1+x)^2$` resulta en $\\sqrt{3x-1}+(1+x)^2.$"
      ],
      "metadata": {
        "id": "Jn-gIUe-ZpIF"
      }
    },
    {
      "cell_type": "markdown",
      "source": [
        "## Plataforma de trabajo: Google Colaboratory <a name=\"2\"></a>\n",
        "\n",
        "Google Colab es un archivo interactivo que nos permite escribir, ejecutar y compartir código en Python o en algún otro lenguaje de programación. Esta plataforma hace uso de **cuadernos de Jupyter** alojados en la **nube** y permite la conexión con repositorios alojados como Google Drive. Google Colab conecta el cuaderno a un ambiente de ejecución remoto y emplea una interfaz llamada IPython para la ejecución de código sin comprometer los recursos de las máquinas locales del usuario."
      ],
      "metadata": {
        "id": "982tK33YaCRL"
      }
    },
    {
      "cell_type": "markdown",
      "source": [
        "Es posible ejecutar funciones predeterminadas de IPython en Google Colab mediante comandos mágicos.\n"
      ],
      "metadata": {
        "id": "bCWnZnI8dHEd"
      }
    },
    {
      "cell_type": "code",
      "source": [
        "%lsmagic"
      ],
      "metadata": {
        "id": "9vdhQaW7C8Io",
        "outputId": "1419a471-4dd5-4e33-b934-6af8ec084a0f",
        "colab": {
          "base_uri": "https://localhost:8080/",
          "height": 364
        }
      },
      "execution_count": 1,
      "outputs": [
        {
          "output_type": "execute_result",
          "data": {
            "text/plain": [
              "Available line magics:\n",
              "%alias  %alias_magic  %autoawait  %autocall  %automagic  %autosave  %bookmark  %cat  %cd  %clear  %colors  %conda  %config  %connect_info  %cp  %debug  %dhist  %dirs  %doctest_mode  %ed  %edit  %env  %gui  %hist  %history  %killbgscripts  %ldir  %less  %lf  %lk  %ll  %load  %load_ext  %loadpy  %logoff  %logon  %logstart  %logstate  %logstop  %ls  %lsmagic  %lx  %macro  %magic  %man  %matplotlib  %mkdir  %more  %mv  %notebook  %page  %pastebin  %pdb  %pdef  %pdoc  %pfile  %pinfo  %pinfo2  %pip  %popd  %pprint  %precision  %prun  %psearch  %psource  %pushd  %pwd  %pycat  %pylab  %qtconsole  %quickref  %recall  %rehashx  %reload_ext  %rep  %rerun  %reset  %reset_selective  %rm  %rmdir  %run  %save  %sc  %set_env  %shell  %store  %sx  %system  %tb  %tensorflow_version  %time  %timeit  %unalias  %unload_ext  %who  %who_ls  %whos  %xdel  %xmode\n",
              "\n",
              "Available cell magics:\n",
              "%%!  %%HTML  %%SVG  %%bash  %%bigquery  %%capture  %%debug  %%file  %%html  %%javascript  %%js  %%latex  %%markdown  %%perl  %%prun  %%pypy  %%python  %%python2  %%python3  %%ruby  %%script  %%sh  %%shell  %%svg  %%sx  %%system  %%time  %%timeit  %%writefile\n",
              "\n",
              "Automagic is ON, % prefix IS NOT needed for line magics."
            ],
            "application/json": {
              "line": {
                "automagic": "AutoMagics",
                "autocall": "AutoMagics",
                "alias_magic": "BasicMagics",
                "lsmagic": "BasicMagics",
                "magic": "BasicMagics",
                "page": "BasicMagics",
                "pprint": "BasicMagics",
                "colors": "BasicMagics",
                "xmode": "BasicMagics",
                "quickref": "BasicMagics",
                "doctest_mode": "BasicMagics",
                "gui": "BasicMagics",
                "precision": "BasicMagics",
                "notebook": "BasicMagics",
                "save": "CodeMagics",
                "pastebin": "CodeMagics",
                "loadpy": "CodeMagics",
                "load": "CodeMagics",
                "edit": "KernelMagics",
                "config": "ConfigMagics",
                "prun": "ExecutionMagics",
                "pdb": "ExecutionMagics",
                "debug": "ExecutionMagics",
                "tb": "ExecutionMagics",
                "run": "ExecutionMagics",
                "timeit": "ExecutionMagics",
                "time": "ExecutionMagics",
                "macro": "ExecutionMagics",
                "load_ext": "ExtensionMagics",
                "unload_ext": "ExtensionMagics",
                "reload_ext": "ExtensionMagics",
                "history": "HistoryMagics",
                "recall": "HistoryMagics",
                "rerun": "HistoryMagics",
                "logstart": "LoggingMagics",
                "logstop": "LoggingMagics",
                "logoff": "LoggingMagics",
                "logon": "LoggingMagics",
                "logstate": "LoggingMagics",
                "pinfo": "NamespaceMagics",
                "pinfo2": "NamespaceMagics",
                "pdef": "NamespaceMagics",
                "pdoc": "NamespaceMagics",
                "psource": "NamespaceMagics",
                "pfile": "NamespaceMagics",
                "psearch": "NamespaceMagics",
                "who_ls": "NamespaceMagics",
                "who": "NamespaceMagics",
                "whos": "NamespaceMagics",
                "reset": "NamespaceMagics",
                "reset_selective": "NamespaceMagics",
                "xdel": "NamespaceMagics",
                "alias": "OSMagics",
                "unalias": "OSMagics",
                "rehashx": "OSMagics",
                "pwd": "OSMagics",
                "cd": "OSMagics",
                "env": "OSMagics",
                "set_env": "OSMagics",
                "pushd": "OSMagics",
                "popd": "OSMagics",
                "dirs": "OSMagics",
                "dhist": "OSMagics",
                "sc": "OSMagics",
                "sx": "OSMagics",
                "system": "OSMagics",
                "bookmark": "OSMagics",
                "pycat": "OSMagics",
                "pip": "Other",
                "conda": "PackagingMagics",
                "matplotlib": "PylabMagics",
                "pylab": "PylabMagics",
                "killbgscripts": "ScriptMagics",
                "autoawait": "AsyncMagics",
                "ed": "Other",
                "hist": "Other",
                "rep": "Other",
                "clear": "KernelMagics",
                "less": "KernelMagics",
                "more": "KernelMagics",
                "man": "KernelMagics",
                "connect_info": "KernelMagics",
                "qtconsole": "KernelMagics",
                "autosave": "KernelMagics",
                "mkdir": "Other",
                "rmdir": "Other",
                "mv": "Other",
                "rm": "Other",
                "cp": "Other",
                "cat": "Other",
                "ls": "Other",
                "ll": "Other",
                "lf": "Other",
                "lk": "Other",
                "ldir": "Other",
                "lx": "Other",
                "store": "StoreMagics",
                "shell": "Other",
                "tensorflow_version": "Other"
              },
              "cell": {
                "js": "DisplayMagics",
                "javascript": "DisplayMagics",
                "latex": "DisplayMagics",
                "svg": "DisplayMagics",
                "html": "DisplayMagics",
                "markdown": "DisplayMagics",
                "prun": "ExecutionMagics",
                "debug": "ExecutionMagics",
                "timeit": "ExecutionMagics",
                "time": "ExecutionMagics",
                "capture": "ExecutionMagics",
                "sx": "OSMagics",
                "system": "OSMagics",
                "!": "OSMagics",
                "writefile": "OSMagics",
                "script": "ScriptMagics",
                "sh": "Other",
                "bash": "Other",
                "perl": "Other",
                "ruby": "Other",
                "python": "Other",
                "python2": "Other",
                "python3": "Other",
                "pypy": "Other",
                "SVG": "Other",
                "HTML": "Other",
                "file": "Other",
                "bigquery": "Other",
                "shell": "Other"
              }
            }
          },
          "metadata": {},
          "execution_count": 1
        }
      ]
    },
    {
      "cell_type": "markdown",
      "source": [
        "Nótese que estos comandos se pueden ejecutar en líneas y en celdas de código, utilizando `%` y `%%`, respectivamente."
      ],
      "metadata": {
        "id": "CuWGkEwhEw82"
      }
    },
    {
      "cell_type": "code",
      "source": [
        "# List files in current directory\n",
        "%ls"
      ],
      "metadata": {
        "id": "Ir-Yi06-Det0",
        "outputId": "86948e9b-d075-476c-c089-6f2062e4584a",
        "colab": {
          "base_uri": "https://localhost:8080/"
        }
      },
      "execution_count": 2,
      "outputs": [
        {
          "output_type": "stream",
          "name": "stdout",
          "text": [
            "\u001b[0m\u001b[01;34msample_data\u001b[0m/\n"
          ]
        }
      ]
    },
    {
      "cell_type": "markdown",
      "source": [
        "En el siguiente ejemplo, ejecutamos la medición de tiempo de una visualización en Python de un set de datos de ejemplo.\n"
      ],
      "metadata": {
        "id": "F5NupSSFF4Td"
      }
    },
    {
      "cell_type": "code",
      "source": [
        "%%time\n",
        "from vega_datasets import data\n",
        "cars = data.cars()\n",
        "\n",
        "import altair as alt\n",
        "interval = alt.selection_interval()\n",
        "\n",
        "alt.Chart(cars).mark_point().encode(\n",
        "  x='Horsepower',\n",
        "  y='Miles_per_Gallon',\n",
        "  color=alt.condition(interval, 'Origin', alt.value('lightgray'))\n",
        ").properties(\n",
        "  selection=interval\n",
        ")"
      ],
      "metadata": {
        "id": "IVkkRWrDaG-s",
        "outputId": "46afef06-69fc-4073-df73-f54e43df1bf6",
        "colab": {
          "base_uri": "https://localhost:8080/",
          "height": 403
        }
      },
      "execution_count": 3,
      "outputs": [
        {
          "output_type": "stream",
          "name": "stdout",
          "text": [
            "CPU times: user 493 ms, sys: 52.6 ms, total: 545 ms\n",
            "Wall time: 596 ms\n"
          ]
        },
        {
          "output_type": "execute_result",
          "data": {
            "text/html": [
              "\n",
              "<div id=\"altair-viz-e03d2d91e96c4ae0bbfbc5e8af82b683\"></div>\n",
              "<script type=\"text/javascript\">\n",
              "  var VEGA_DEBUG = (typeof VEGA_DEBUG == \"undefined\") ? {} : VEGA_DEBUG;\n",
              "  (function(spec, embedOpt){\n",
              "    let outputDiv = document.currentScript.previousElementSibling;\n",
              "    if (outputDiv.id !== \"altair-viz-e03d2d91e96c4ae0bbfbc5e8af82b683\") {\n",
              "      outputDiv = document.getElementById(\"altair-viz-e03d2d91e96c4ae0bbfbc5e8af82b683\");\n",
              "    }\n",
              "    const paths = {\n",
              "      \"vega\": \"https://cdn.jsdelivr.net/npm//vega@5?noext\",\n",
              "      \"vega-lib\": \"https://cdn.jsdelivr.net/npm//vega-lib?noext\",\n",
              "      \"vega-lite\": \"https://cdn.jsdelivr.net/npm//vega-lite@4.17.0?noext\",\n",
              "      \"vega-embed\": \"https://cdn.jsdelivr.net/npm//vega-embed@6?noext\",\n",
              "    };\n",
              "\n",
              "    function maybeLoadScript(lib, version) {\n",
              "      var key = `${lib.replace(\"-\", \"\")}_version`;\n",
              "      return (VEGA_DEBUG[key] == version) ?\n",
              "        Promise.resolve(paths[lib]) :\n",
              "        new Promise(function(resolve, reject) {\n",
              "          var s = document.createElement('script');\n",
              "          document.getElementsByTagName(\"head\")[0].appendChild(s);\n",
              "          s.async = true;\n",
              "          s.onload = () => {\n",
              "            VEGA_DEBUG[key] = version;\n",
              "            return resolve(paths[lib]);\n",
              "          };\n",
              "          s.onerror = () => reject(`Error loading script: ${paths[lib]}`);\n",
              "          s.src = paths[lib];\n",
              "        });\n",
              "    }\n",
              "\n",
              "    function showError(err) {\n",
              "      outputDiv.innerHTML = `<div class=\"error\" style=\"color:red;\">${err}</div>`;\n",
              "      throw err;\n",
              "    }\n",
              "\n",
              "    function displayChart(vegaEmbed) {\n",
              "      vegaEmbed(outputDiv, spec, embedOpt)\n",
              "        .catch(err => showError(`Javascript Error: ${err.message}<br>This usually means there's a typo in your chart specification. See the javascript console for the full traceback.`));\n",
              "    }\n",
              "\n",
              "    if(typeof define === \"function\" && define.amd) {\n",
              "      requirejs.config({paths});\n",
              "      require([\"vega-embed\"], displayChart, err => showError(`Error loading script: ${err.message}`));\n",
              "    } else {\n",
              "      maybeLoadScript(\"vega\", \"5\")\n",
              "        .then(() => maybeLoadScript(\"vega-lite\", \"4.17.0\"))\n",
              "        .then(() => maybeLoadScript(\"vega-embed\", \"6\"))\n",
              "        .catch(showError)\n",
              "        .then(() => displayChart(vegaEmbed));\n",
              "    }\n",
              "  })({\"config\": {\"view\": {\"continuousWidth\": 400, \"continuousHeight\": 300}}, \"data\": {\"name\": \"data-f02450ab61490a1363517a0190416235\"}, \"mark\": \"point\", \"encoding\": {\"color\": {\"condition\": {\"field\": \"Origin\", \"type\": \"nominal\", \"selection\": \"selector001\"}, \"value\": \"lightgray\"}, \"x\": {\"field\": \"Horsepower\", \"type\": \"quantitative\"}, \"y\": {\"field\": \"Miles_per_Gallon\", \"type\": \"quantitative\"}}, \"selection\": {\"selector001\": {\"type\": \"interval\"}}, \"$schema\": \"https://vega.github.io/schema/vega-lite/v4.17.0.json\", \"datasets\": {\"data-f02450ab61490a1363517a0190416235\": [{\"Name\": \"chevrolet chevelle malibu\", \"Miles_per_Gallon\": 18.0, \"Cylinders\": 8, \"Displacement\": 307.0, \"Horsepower\": 130.0, \"Weight_in_lbs\": 3504, \"Acceleration\": 12.0, \"Year\": \"1970-01-01T00:00:00\", \"Origin\": \"USA\"}, {\"Name\": \"buick skylark 320\", \"Miles_per_Gallon\": 15.0, \"Cylinders\": 8, \"Displacement\": 350.0, \"Horsepower\": 165.0, \"Weight_in_lbs\": 3693, \"Acceleration\": 11.5, \"Year\": \"1970-01-01T00:00:00\", \"Origin\": \"USA\"}, {\"Name\": \"plymouth satellite\", \"Miles_per_Gallon\": 18.0, \"Cylinders\": 8, \"Displacement\": 318.0, \"Horsepower\": 150.0, \"Weight_in_lbs\": 3436, \"Acceleration\": 11.0, \"Year\": \"1970-01-01T00:00:00\", \"Origin\": \"USA\"}, {\"Name\": \"amc rebel sst\", \"Miles_per_Gallon\": 16.0, \"Cylinders\": 8, \"Displacement\": 304.0, \"Horsepower\": 150.0, \"Weight_in_lbs\": 3433, \"Acceleration\": 12.0, \"Year\": \"1970-01-01T00:00:00\", \"Origin\": \"USA\"}, {\"Name\": \"ford torino\", \"Miles_per_Gallon\": 17.0, \"Cylinders\": 8, \"Displacement\": 302.0, \"Horsepower\": 140.0, \"Weight_in_lbs\": 3449, \"Acceleration\": 10.5, \"Year\": \"1970-01-01T00:00:00\", \"Origin\": \"USA\"}, {\"Name\": \"ford galaxie 500\", \"Miles_per_Gallon\": 15.0, \"Cylinders\": 8, \"Displacement\": 429.0, \"Horsepower\": 198.0, \"Weight_in_lbs\": 4341, \"Acceleration\": 10.0, \"Year\": \"1970-01-01T00:00:00\", \"Origin\": \"USA\"}, {\"Name\": \"chevrolet impala\", \"Miles_per_Gallon\": 14.0, \"Cylinders\": 8, \"Displacement\": 454.0, \"Horsepower\": 220.0, \"Weight_in_lbs\": 4354, \"Acceleration\": 9.0, \"Year\": \"1970-01-01T00:00:00\", \"Origin\": \"USA\"}, {\"Name\": \"plymouth fury iii\", \"Miles_per_Gallon\": 14.0, \"Cylinders\": 8, \"Displacement\": 440.0, \"Horsepower\": 215.0, \"Weight_in_lbs\": 4312, \"Acceleration\": 8.5, \"Year\": \"1970-01-01T00:00:00\", \"Origin\": \"USA\"}, {\"Name\": \"pontiac catalina\", \"Miles_per_Gallon\": 14.0, \"Cylinders\": 8, \"Displacement\": 455.0, \"Horsepower\": 225.0, \"Weight_in_lbs\": 4425, \"Acceleration\": 10.0, \"Year\": \"1970-01-01T00:00:00\", \"Origin\": \"USA\"}, {\"Name\": \"amc ambassador dpl\", \"Miles_per_Gallon\": 15.0, \"Cylinders\": 8, \"Displacement\": 390.0, \"Horsepower\": 190.0, \"Weight_in_lbs\": 3850, \"Acceleration\": 8.5, \"Year\": \"1970-01-01T00:00:00\", \"Origin\": \"USA\"}, {\"Name\": \"citroen ds-21 pallas\", \"Miles_per_Gallon\": null, \"Cylinders\": 4, \"Displacement\": 133.0, \"Horsepower\": 115.0, \"Weight_in_lbs\": 3090, \"Acceleration\": 17.5, \"Year\": \"1970-01-01T00:00:00\", \"Origin\": \"Europe\"}, {\"Name\": \"chevrolet chevelle concours (sw)\", \"Miles_per_Gallon\": null, \"Cylinders\": 8, \"Displacement\": 350.0, \"Horsepower\": 165.0, \"Weight_in_lbs\": 4142, \"Acceleration\": 11.5, \"Year\": \"1970-01-01T00:00:00\", \"Origin\": \"USA\"}, {\"Name\": \"ford torino (sw)\", \"Miles_per_Gallon\": null, \"Cylinders\": 8, \"Displacement\": 351.0, \"Horsepower\": 153.0, \"Weight_in_lbs\": 4034, \"Acceleration\": 11.0, \"Year\": \"1970-01-01T00:00:00\", \"Origin\": \"USA\"}, {\"Name\": \"plymouth satellite (sw)\", \"Miles_per_Gallon\": null, \"Cylinders\": 8, \"Displacement\": 383.0, \"Horsepower\": 175.0, \"Weight_in_lbs\": 4166, \"Acceleration\": 10.5, \"Year\": \"1970-01-01T00:00:00\", \"Origin\": \"USA\"}, {\"Name\": \"amc rebel sst (sw)\", \"Miles_per_Gallon\": null, \"Cylinders\": 8, \"Displacement\": 360.0, \"Horsepower\": 175.0, \"Weight_in_lbs\": 3850, \"Acceleration\": 11.0, \"Year\": \"1970-01-01T00:00:00\", \"Origin\": \"USA\"}, {\"Name\": \"dodge challenger se\", \"Miles_per_Gallon\": 15.0, \"Cylinders\": 8, \"Displacement\": 383.0, \"Horsepower\": 170.0, \"Weight_in_lbs\": 3563, \"Acceleration\": 10.0, \"Year\": \"1970-01-01T00:00:00\", \"Origin\": \"USA\"}, {\"Name\": \"plymouth 'cuda 340\", \"Miles_per_Gallon\": 14.0, \"Cylinders\": 8, \"Displacement\": 340.0, \"Horsepower\": 160.0, \"Weight_in_lbs\": 3609, \"Acceleration\": 8.0, \"Year\": \"1970-01-01T00:00:00\", \"Origin\": \"USA\"}, {\"Name\": \"ford mustang boss 302\", \"Miles_per_Gallon\": null, \"Cylinders\": 8, \"Displacement\": 302.0, \"Horsepower\": 140.0, \"Weight_in_lbs\": 3353, \"Acceleration\": 8.0, \"Year\": \"1970-01-01T00:00:00\", \"Origin\": \"USA\"}, {\"Name\": \"chevrolet monte carlo\", \"Miles_per_Gallon\": 15.0, \"Cylinders\": 8, \"Displacement\": 400.0, \"Horsepower\": 150.0, \"Weight_in_lbs\": 3761, \"Acceleration\": 9.5, \"Year\": \"1970-01-01T00:00:00\", \"Origin\": \"USA\"}, {\"Name\": \"buick estate wagon (sw)\", \"Miles_per_Gallon\": 14.0, \"Cylinders\": 8, \"Displacement\": 455.0, \"Horsepower\": 225.0, \"Weight_in_lbs\": 3086, \"Acceleration\": 10.0, \"Year\": \"1970-01-01T00:00:00\", \"Origin\": \"USA\"}, {\"Name\": \"toyota corona mark ii\", \"Miles_per_Gallon\": 24.0, \"Cylinders\": 4, \"Displacement\": 113.0, \"Horsepower\": 95.0, \"Weight_in_lbs\": 2372, \"Acceleration\": 15.0, \"Year\": \"1970-01-01T00:00:00\", \"Origin\": \"Japan\"}, {\"Name\": \"plymouth duster\", \"Miles_per_Gallon\": 22.0, \"Cylinders\": 6, \"Displacement\": 198.0, \"Horsepower\": 95.0, \"Weight_in_lbs\": 2833, \"Acceleration\": 15.5, \"Year\": \"1970-01-01T00:00:00\", \"Origin\": \"USA\"}, {\"Name\": \"amc hornet\", \"Miles_per_Gallon\": 18.0, \"Cylinders\": 6, \"Displacement\": 199.0, \"Horsepower\": 97.0, \"Weight_in_lbs\": 2774, \"Acceleration\": 15.5, \"Year\": \"1970-01-01T00:00:00\", \"Origin\": \"USA\"}, {\"Name\": \"ford maverick\", \"Miles_per_Gallon\": 21.0, \"Cylinders\": 6, \"Displacement\": 200.0, \"Horsepower\": 85.0, \"Weight_in_lbs\": 2587, \"Acceleration\": 16.0, \"Year\": \"1970-01-01T00:00:00\", \"Origin\": \"USA\"}, {\"Name\": \"datsun pl510\", \"Miles_per_Gallon\": 27.0, \"Cylinders\": 4, \"Displacement\": 97.0, \"Horsepower\": 88.0, \"Weight_in_lbs\": 2130, \"Acceleration\": 14.5, \"Year\": \"1970-01-01T00:00:00\", \"Origin\": \"Japan\"}, {\"Name\": \"volkswagen 1131 deluxe sedan\", \"Miles_per_Gallon\": 26.0, \"Cylinders\": 4, \"Displacement\": 97.0, \"Horsepower\": 46.0, \"Weight_in_lbs\": 1835, \"Acceleration\": 20.5, \"Year\": \"1970-01-01T00:00:00\", \"Origin\": \"Europe\"}, {\"Name\": \"peugeot 504\", \"Miles_per_Gallon\": 25.0, \"Cylinders\": 4, \"Displacement\": 110.0, \"Horsepower\": 87.0, \"Weight_in_lbs\": 2672, \"Acceleration\": 17.5, \"Year\": \"1970-01-01T00:00:00\", \"Origin\": \"Europe\"}, {\"Name\": \"audi 100 ls\", \"Miles_per_Gallon\": 24.0, \"Cylinders\": 4, \"Displacement\": 107.0, \"Horsepower\": 90.0, \"Weight_in_lbs\": 2430, \"Acceleration\": 14.5, \"Year\": \"1970-01-01T00:00:00\", \"Origin\": \"Europe\"}, {\"Name\": \"saab 99e\", \"Miles_per_Gallon\": 25.0, \"Cylinders\": 4, \"Displacement\": 104.0, \"Horsepower\": 95.0, \"Weight_in_lbs\": 2375, \"Acceleration\": 17.5, \"Year\": \"1970-01-01T00:00:00\", \"Origin\": \"Europe\"}, {\"Name\": \"bmw 2002\", \"Miles_per_Gallon\": 26.0, \"Cylinders\": 4, \"Displacement\": 121.0, \"Horsepower\": 113.0, \"Weight_in_lbs\": 2234, \"Acceleration\": 12.5, \"Year\": \"1970-01-01T00:00:00\", \"Origin\": \"Europe\"}, {\"Name\": \"amc gremlin\", \"Miles_per_Gallon\": 21.0, \"Cylinders\": 6, \"Displacement\": 199.0, \"Horsepower\": 90.0, \"Weight_in_lbs\": 2648, \"Acceleration\": 15.0, \"Year\": \"1970-01-01T00:00:00\", \"Origin\": \"USA\"}, {\"Name\": \"ford f250\", \"Miles_per_Gallon\": 10.0, \"Cylinders\": 8, \"Displacement\": 360.0, \"Horsepower\": 215.0, \"Weight_in_lbs\": 4615, \"Acceleration\": 14.0, \"Year\": \"1970-01-01T00:00:00\", \"Origin\": \"USA\"}, {\"Name\": \"chevy c20\", \"Miles_per_Gallon\": 10.0, \"Cylinders\": 8, \"Displacement\": 307.0, \"Horsepower\": 200.0, \"Weight_in_lbs\": 4376, \"Acceleration\": 15.0, \"Year\": \"1970-01-01T00:00:00\", \"Origin\": \"USA\"}, {\"Name\": \"dodge d200\", \"Miles_per_Gallon\": 11.0, \"Cylinders\": 8, \"Displacement\": 318.0, \"Horsepower\": 210.0, \"Weight_in_lbs\": 4382, \"Acceleration\": 13.5, \"Year\": \"1970-01-01T00:00:00\", \"Origin\": \"USA\"}, {\"Name\": \"hi 1200d\", \"Miles_per_Gallon\": 9.0, \"Cylinders\": 8, \"Displacement\": 304.0, \"Horsepower\": 193.0, \"Weight_in_lbs\": 4732, \"Acceleration\": 18.5, \"Year\": \"1970-01-01T00:00:00\", \"Origin\": \"USA\"}, {\"Name\": \"datsun pl510\", \"Miles_per_Gallon\": 27.0, \"Cylinders\": 4, \"Displacement\": 97.0, \"Horsepower\": 88.0, \"Weight_in_lbs\": 2130, \"Acceleration\": 14.5, \"Year\": \"1971-01-01T00:00:00\", \"Origin\": \"Japan\"}, {\"Name\": \"chevrolet vega 2300\", \"Miles_per_Gallon\": 28.0, \"Cylinders\": 4, \"Displacement\": 140.0, \"Horsepower\": 90.0, \"Weight_in_lbs\": 2264, \"Acceleration\": 15.5, \"Year\": \"1971-01-01T00:00:00\", \"Origin\": \"USA\"}, {\"Name\": \"toyota corona\", \"Miles_per_Gallon\": 25.0, \"Cylinders\": 4, \"Displacement\": 113.0, \"Horsepower\": 95.0, \"Weight_in_lbs\": 2228, \"Acceleration\": 14.0, \"Year\": \"1971-01-01T00:00:00\", \"Origin\": \"Japan\"}, {\"Name\": \"ford pinto\", \"Miles_per_Gallon\": 25.0, \"Cylinders\": 4, \"Displacement\": 98.0, \"Horsepower\": null, \"Weight_in_lbs\": 2046, \"Acceleration\": 19.0, \"Year\": \"1971-01-01T00:00:00\", \"Origin\": \"USA\"}, {\"Name\": \"volkswagen super beetle 117\", \"Miles_per_Gallon\": null, \"Cylinders\": 4, \"Displacement\": 97.0, \"Horsepower\": 48.0, \"Weight_in_lbs\": 1978, \"Acceleration\": 20.0, \"Year\": \"1971-01-01T00:00:00\", \"Origin\": \"Europe\"}, {\"Name\": \"amc gremlin\", \"Miles_per_Gallon\": 19.0, \"Cylinders\": 6, \"Displacement\": 232.0, \"Horsepower\": 100.0, \"Weight_in_lbs\": 2634, \"Acceleration\": 13.0, \"Year\": \"1971-01-01T00:00:00\", \"Origin\": \"USA\"}, {\"Name\": \"plymouth satellite custom\", \"Miles_per_Gallon\": 16.0, \"Cylinders\": 6, \"Displacement\": 225.0, \"Horsepower\": 105.0, \"Weight_in_lbs\": 3439, \"Acceleration\": 15.5, \"Year\": \"1971-01-01T00:00:00\", \"Origin\": \"USA\"}, {\"Name\": \"chevrolet chevelle malibu\", \"Miles_per_Gallon\": 17.0, \"Cylinders\": 6, \"Displacement\": 250.0, \"Horsepower\": 100.0, \"Weight_in_lbs\": 3329, \"Acceleration\": 15.5, \"Year\": \"1971-01-01T00:00:00\", \"Origin\": \"USA\"}, {\"Name\": \"ford torino 500\", \"Miles_per_Gallon\": 19.0, \"Cylinders\": 6, \"Displacement\": 250.0, \"Horsepower\": 88.0, \"Weight_in_lbs\": 3302, \"Acceleration\": 15.5, \"Year\": \"1971-01-01T00:00:00\", \"Origin\": \"USA\"}, {\"Name\": \"amc matador\", \"Miles_per_Gallon\": 18.0, \"Cylinders\": 6, \"Displacement\": 232.0, \"Horsepower\": 100.0, \"Weight_in_lbs\": 3288, \"Acceleration\": 15.5, \"Year\": \"1971-01-01T00:00:00\", \"Origin\": \"USA\"}, {\"Name\": \"chevrolet impala\", \"Miles_per_Gallon\": 14.0, \"Cylinders\": 8, \"Displacement\": 350.0, \"Horsepower\": 165.0, \"Weight_in_lbs\": 4209, \"Acceleration\": 12.0, \"Year\": \"1971-01-01T00:00:00\", \"Origin\": \"USA\"}, {\"Name\": \"pontiac catalina brougham\", \"Miles_per_Gallon\": 14.0, \"Cylinders\": 8, \"Displacement\": 400.0, \"Horsepower\": 175.0, \"Weight_in_lbs\": 4464, \"Acceleration\": 11.5, \"Year\": \"1971-01-01T00:00:00\", \"Origin\": \"USA\"}, {\"Name\": \"ford galaxie 500\", \"Miles_per_Gallon\": 14.0, \"Cylinders\": 8, \"Displacement\": 351.0, \"Horsepower\": 153.0, \"Weight_in_lbs\": 4154, \"Acceleration\": 13.5, \"Year\": \"1971-01-01T00:00:00\", \"Origin\": \"USA\"}, {\"Name\": \"plymouth fury iii\", \"Miles_per_Gallon\": 14.0, \"Cylinders\": 8, \"Displacement\": 318.0, \"Horsepower\": 150.0, \"Weight_in_lbs\": 4096, \"Acceleration\": 13.0, \"Year\": \"1971-01-01T00:00:00\", \"Origin\": \"USA\"}, {\"Name\": \"dodge monaco (sw)\", \"Miles_per_Gallon\": 12.0, \"Cylinders\": 8, \"Displacement\": 383.0, \"Horsepower\": 180.0, \"Weight_in_lbs\": 4955, \"Acceleration\": 11.5, \"Year\": \"1971-01-01T00:00:00\", \"Origin\": \"USA\"}, {\"Name\": \"ford country squire (sw)\", \"Miles_per_Gallon\": 13.0, \"Cylinders\": 8, \"Displacement\": 400.0, \"Horsepower\": 170.0, \"Weight_in_lbs\": 4746, \"Acceleration\": 12.0, \"Year\": \"1971-01-01T00:00:00\", \"Origin\": \"USA\"}, {\"Name\": \"pontiac safari (sw)\", \"Miles_per_Gallon\": 13.0, \"Cylinders\": 8, \"Displacement\": 400.0, \"Horsepower\": 175.0, \"Weight_in_lbs\": 5140, \"Acceleration\": 12.0, \"Year\": \"1971-01-01T00:00:00\", \"Origin\": \"USA\"}, {\"Name\": \"amc hornet sportabout (sw)\", \"Miles_per_Gallon\": 18.0, \"Cylinders\": 6, \"Displacement\": 258.0, \"Horsepower\": 110.0, \"Weight_in_lbs\": 2962, \"Acceleration\": 13.5, \"Year\": \"1971-01-01T00:00:00\", \"Origin\": \"USA\"}, {\"Name\": \"chevrolet vega (sw)\", \"Miles_per_Gallon\": 22.0, \"Cylinders\": 4, \"Displacement\": 140.0, \"Horsepower\": 72.0, \"Weight_in_lbs\": 2408, \"Acceleration\": 19.0, \"Year\": \"1971-01-01T00:00:00\", \"Origin\": \"USA\"}, {\"Name\": \"pontiac firebird\", \"Miles_per_Gallon\": 19.0, \"Cylinders\": 6, \"Displacement\": 250.0, \"Horsepower\": 100.0, \"Weight_in_lbs\": 3282, \"Acceleration\": 15.0, \"Year\": \"1971-01-01T00:00:00\", \"Origin\": \"USA\"}, {\"Name\": \"ford mustang\", \"Miles_per_Gallon\": 18.0, \"Cylinders\": 6, \"Displacement\": 250.0, \"Horsepower\": 88.0, \"Weight_in_lbs\": 3139, \"Acceleration\": 14.5, \"Year\": \"1971-01-01T00:00:00\", \"Origin\": \"USA\"}, {\"Name\": \"mercury capri 2000\", \"Miles_per_Gallon\": 23.0, \"Cylinders\": 4, \"Displacement\": 122.0, \"Horsepower\": 86.0, \"Weight_in_lbs\": 2220, \"Acceleration\": 14.0, \"Year\": \"1971-01-01T00:00:00\", \"Origin\": \"USA\"}, {\"Name\": \"opel 1900\", \"Miles_per_Gallon\": 28.0, \"Cylinders\": 4, \"Displacement\": 116.0, \"Horsepower\": 90.0, \"Weight_in_lbs\": 2123, \"Acceleration\": 14.0, \"Year\": \"1971-01-01T00:00:00\", \"Origin\": \"Europe\"}, {\"Name\": \"peugeot 304\", \"Miles_per_Gallon\": 30.0, \"Cylinders\": 4, \"Displacement\": 79.0, \"Horsepower\": 70.0, \"Weight_in_lbs\": 2074, \"Acceleration\": 19.5, \"Year\": \"1971-01-01T00:00:00\", \"Origin\": \"Europe\"}, {\"Name\": \"fiat 124b\", \"Miles_per_Gallon\": 30.0, \"Cylinders\": 4, \"Displacement\": 88.0, \"Horsepower\": 76.0, \"Weight_in_lbs\": 2065, \"Acceleration\": 14.5, \"Year\": \"1971-01-01T00:00:00\", \"Origin\": \"Europe\"}, {\"Name\": \"toyota corolla 1200\", \"Miles_per_Gallon\": 31.0, \"Cylinders\": 4, \"Displacement\": 71.0, \"Horsepower\": 65.0, \"Weight_in_lbs\": 1773, \"Acceleration\": 19.0, \"Year\": \"1971-01-01T00:00:00\", \"Origin\": \"Japan\"}, {\"Name\": \"datsun 1200\", \"Miles_per_Gallon\": 35.0, \"Cylinders\": 4, \"Displacement\": 72.0, \"Horsepower\": 69.0, \"Weight_in_lbs\": 1613, \"Acceleration\": 18.0, \"Year\": \"1971-01-01T00:00:00\", \"Origin\": \"Japan\"}, {\"Name\": \"volkswagen model 111\", \"Miles_per_Gallon\": 27.0, \"Cylinders\": 4, \"Displacement\": 97.0, \"Horsepower\": 60.0, \"Weight_in_lbs\": 1834, \"Acceleration\": 19.0, \"Year\": \"1971-01-01T00:00:00\", \"Origin\": \"Europe\"}, {\"Name\": \"plymouth cricket\", \"Miles_per_Gallon\": 26.0, \"Cylinders\": 4, \"Displacement\": 91.0, \"Horsepower\": 70.0, \"Weight_in_lbs\": 1955, \"Acceleration\": 20.5, \"Year\": \"1971-01-01T00:00:00\", \"Origin\": \"USA\"}, {\"Name\": \"toyota corona hardtop\", \"Miles_per_Gallon\": 24.0, \"Cylinders\": 4, \"Displacement\": 113.0, \"Horsepower\": 95.0, \"Weight_in_lbs\": 2278, \"Acceleration\": 15.5, \"Year\": \"1972-01-01T00:00:00\", \"Origin\": \"Japan\"}, {\"Name\": \"dodge colt hardtop\", \"Miles_per_Gallon\": 25.0, \"Cylinders\": 4, \"Displacement\": 97.5, \"Horsepower\": 80.0, \"Weight_in_lbs\": 2126, \"Acceleration\": 17.0, \"Year\": \"1972-01-01T00:00:00\", \"Origin\": \"USA\"}, {\"Name\": \"volkswagen type 3\", \"Miles_per_Gallon\": 23.0, \"Cylinders\": 4, \"Displacement\": 97.0, \"Horsepower\": 54.0, \"Weight_in_lbs\": 2254, \"Acceleration\": 23.5, \"Year\": \"1972-01-01T00:00:00\", \"Origin\": \"Europe\"}, {\"Name\": \"chevrolet vega\", \"Miles_per_Gallon\": 20.0, \"Cylinders\": 4, \"Displacement\": 140.0, \"Horsepower\": 90.0, \"Weight_in_lbs\": 2408, \"Acceleration\": 19.5, \"Year\": \"1972-01-01T00:00:00\", \"Origin\": \"USA\"}, {\"Name\": \"ford pinto runabout\", \"Miles_per_Gallon\": 21.0, \"Cylinders\": 4, \"Displacement\": 122.0, \"Horsepower\": 86.0, \"Weight_in_lbs\": 2226, \"Acceleration\": 16.5, \"Year\": \"1972-01-01T00:00:00\", \"Origin\": \"USA\"}, {\"Name\": \"chevrolet impala\", \"Miles_per_Gallon\": 13.0, \"Cylinders\": 8, \"Displacement\": 350.0, \"Horsepower\": 165.0, \"Weight_in_lbs\": 4274, \"Acceleration\": 12.0, \"Year\": \"1972-01-01T00:00:00\", \"Origin\": \"USA\"}, {\"Name\": \"pontiac catalina\", \"Miles_per_Gallon\": 14.0, \"Cylinders\": 8, \"Displacement\": 400.0, \"Horsepower\": 175.0, \"Weight_in_lbs\": 4385, \"Acceleration\": 12.0, \"Year\": \"1972-01-01T00:00:00\", \"Origin\": \"USA\"}, {\"Name\": \"plymouth fury iii\", \"Miles_per_Gallon\": 15.0, \"Cylinders\": 8, \"Displacement\": 318.0, \"Horsepower\": 150.0, \"Weight_in_lbs\": 4135, \"Acceleration\": 13.5, \"Year\": \"1972-01-01T00:00:00\", \"Origin\": \"USA\"}, {\"Name\": \"ford galaxie 500\", \"Miles_per_Gallon\": 14.0, \"Cylinders\": 8, \"Displacement\": 351.0, \"Horsepower\": 153.0, \"Weight_in_lbs\": 4129, \"Acceleration\": 13.0, \"Year\": \"1972-01-01T00:00:00\", \"Origin\": \"USA\"}, {\"Name\": \"amc ambassador sst\", \"Miles_per_Gallon\": 17.0, \"Cylinders\": 8, \"Displacement\": 304.0, \"Horsepower\": 150.0, \"Weight_in_lbs\": 3672, \"Acceleration\": 11.5, \"Year\": \"1972-01-01T00:00:00\", \"Origin\": \"USA\"}, {\"Name\": \"mercury marquis\", \"Miles_per_Gallon\": 11.0, \"Cylinders\": 8, \"Displacement\": 429.0, \"Horsepower\": 208.0, \"Weight_in_lbs\": 4633, \"Acceleration\": 11.0, \"Year\": \"1972-01-01T00:00:00\", \"Origin\": \"USA\"}, {\"Name\": \"buick lesabre custom\", \"Miles_per_Gallon\": 13.0, \"Cylinders\": 8, \"Displacement\": 350.0, \"Horsepower\": 155.0, \"Weight_in_lbs\": 4502, \"Acceleration\": 13.5, \"Year\": \"1972-01-01T00:00:00\", \"Origin\": \"USA\"}, {\"Name\": \"oldsmobile delta 88 royale\", \"Miles_per_Gallon\": 12.0, \"Cylinders\": 8, \"Displacement\": 350.0, \"Horsepower\": 160.0, \"Weight_in_lbs\": 4456, \"Acceleration\": 13.5, \"Year\": \"1972-01-01T00:00:00\", \"Origin\": \"USA\"}, {\"Name\": \"chrysler newport royal\", \"Miles_per_Gallon\": 13.0, \"Cylinders\": 8, \"Displacement\": 400.0, \"Horsepower\": 190.0, \"Weight_in_lbs\": 4422, \"Acceleration\": 12.5, \"Year\": \"1972-01-01T00:00:00\", \"Origin\": \"USA\"}, {\"Name\": \"mazda rx2 coupe\", \"Miles_per_Gallon\": 19.0, \"Cylinders\": 3, \"Displacement\": 70.0, \"Horsepower\": 97.0, \"Weight_in_lbs\": 2330, \"Acceleration\": 13.5, \"Year\": \"1972-01-01T00:00:00\", \"Origin\": \"Japan\"}, {\"Name\": \"amc matador (sw)\", \"Miles_per_Gallon\": 15.0, \"Cylinders\": 8, \"Displacement\": 304.0, \"Horsepower\": 150.0, \"Weight_in_lbs\": 3892, \"Acceleration\": 12.5, \"Year\": \"1972-01-01T00:00:00\", \"Origin\": \"USA\"}, {\"Name\": \"chevrolet chevelle concours (sw)\", \"Miles_per_Gallon\": 13.0, \"Cylinders\": 8, \"Displacement\": 307.0, \"Horsepower\": 130.0, \"Weight_in_lbs\": 4098, \"Acceleration\": 14.0, \"Year\": \"1972-01-01T00:00:00\", \"Origin\": \"USA\"}, {\"Name\": \"ford gran torino (sw)\", \"Miles_per_Gallon\": 13.0, \"Cylinders\": 8, \"Displacement\": 302.0, \"Horsepower\": 140.0, \"Weight_in_lbs\": 4294, \"Acceleration\": 16.0, \"Year\": \"1972-01-01T00:00:00\", \"Origin\": \"USA\"}, {\"Name\": \"plymouth satellite custom (sw)\", \"Miles_per_Gallon\": 14.0, \"Cylinders\": 8, \"Displacement\": 318.0, \"Horsepower\": 150.0, \"Weight_in_lbs\": 4077, \"Acceleration\": 14.0, \"Year\": \"1972-01-01T00:00:00\", \"Origin\": \"USA\"}, {\"Name\": \"volvo 145e (sw)\", \"Miles_per_Gallon\": 18.0, \"Cylinders\": 4, \"Displacement\": 121.0, \"Horsepower\": 112.0, \"Weight_in_lbs\": 2933, \"Acceleration\": 14.5, \"Year\": \"1972-01-01T00:00:00\", \"Origin\": \"Europe\"}, {\"Name\": \"volkswagen 411 (sw)\", \"Miles_per_Gallon\": 22.0, \"Cylinders\": 4, \"Displacement\": 121.0, \"Horsepower\": 76.0, \"Weight_in_lbs\": 2511, \"Acceleration\": 18.0, \"Year\": \"1972-01-01T00:00:00\", \"Origin\": \"Europe\"}, {\"Name\": \"peugeot 504 (sw)\", \"Miles_per_Gallon\": 21.0, \"Cylinders\": 4, \"Displacement\": 120.0, \"Horsepower\": 87.0, \"Weight_in_lbs\": 2979, \"Acceleration\": 19.5, \"Year\": \"1972-01-01T00:00:00\", \"Origin\": \"Europe\"}, {\"Name\": \"renault 12 (sw)\", \"Miles_per_Gallon\": 26.0, \"Cylinders\": 4, \"Displacement\": 96.0, \"Horsepower\": 69.0, \"Weight_in_lbs\": 2189, \"Acceleration\": 18.0, \"Year\": \"1972-01-01T00:00:00\", \"Origin\": \"Europe\"}, {\"Name\": \"ford pinto (sw)\", \"Miles_per_Gallon\": 22.0, \"Cylinders\": 4, \"Displacement\": 122.0, \"Horsepower\": 86.0, \"Weight_in_lbs\": 2395, \"Acceleration\": 16.0, \"Year\": \"1972-01-01T00:00:00\", \"Origin\": \"USA\"}, {\"Name\": \"datsun 510 (sw)\", \"Miles_per_Gallon\": 28.0, \"Cylinders\": 4, \"Displacement\": 97.0, \"Horsepower\": 92.0, \"Weight_in_lbs\": 2288, \"Acceleration\": 17.0, \"Year\": \"1972-01-01T00:00:00\", \"Origin\": \"Japan\"}, {\"Name\": \"toyouta corona mark ii (sw)\", \"Miles_per_Gallon\": 23.0, \"Cylinders\": 4, \"Displacement\": 120.0, \"Horsepower\": 97.0, \"Weight_in_lbs\": 2506, \"Acceleration\": 14.5, \"Year\": \"1972-01-01T00:00:00\", \"Origin\": \"Japan\"}, {\"Name\": \"dodge colt (sw)\", \"Miles_per_Gallon\": 28.0, \"Cylinders\": 4, \"Displacement\": 98.0, \"Horsepower\": 80.0, \"Weight_in_lbs\": 2164, \"Acceleration\": 15.0, \"Year\": \"1972-01-01T00:00:00\", \"Origin\": \"USA\"}, {\"Name\": \"toyota corolla 1600 (sw)\", \"Miles_per_Gallon\": 27.0, \"Cylinders\": 4, \"Displacement\": 97.0, \"Horsepower\": 88.0, \"Weight_in_lbs\": 2100, \"Acceleration\": 16.5, \"Year\": \"1972-01-01T00:00:00\", \"Origin\": \"Japan\"}, {\"Name\": \"buick century 350\", \"Miles_per_Gallon\": 13.0, \"Cylinders\": 8, \"Displacement\": 350.0, \"Horsepower\": 175.0, \"Weight_in_lbs\": 4100, \"Acceleration\": 13.0, \"Year\": \"1973-01-01T00:00:00\", \"Origin\": \"USA\"}, {\"Name\": \"amc matador\", \"Miles_per_Gallon\": 14.0, \"Cylinders\": 8, \"Displacement\": 304.0, \"Horsepower\": 150.0, \"Weight_in_lbs\": 3672, \"Acceleration\": 11.5, \"Year\": \"1973-01-01T00:00:00\", \"Origin\": \"USA\"}, {\"Name\": \"chevrolet malibu\", \"Miles_per_Gallon\": 13.0, \"Cylinders\": 8, \"Displacement\": 350.0, \"Horsepower\": 145.0, \"Weight_in_lbs\": 3988, \"Acceleration\": 13.0, \"Year\": \"1973-01-01T00:00:00\", \"Origin\": \"USA\"}, {\"Name\": \"ford gran torino\", \"Miles_per_Gallon\": 14.0, \"Cylinders\": 8, \"Displacement\": 302.0, \"Horsepower\": 137.0, \"Weight_in_lbs\": 4042, \"Acceleration\": 14.5, \"Year\": \"1973-01-01T00:00:00\", \"Origin\": \"USA\"}, {\"Name\": \"dodge coronet custom\", \"Miles_per_Gallon\": 15.0, \"Cylinders\": 8, \"Displacement\": 318.0, \"Horsepower\": 150.0, \"Weight_in_lbs\": 3777, \"Acceleration\": 12.5, \"Year\": \"1973-01-01T00:00:00\", \"Origin\": \"USA\"}, {\"Name\": \"mercury marquis brougham\", \"Miles_per_Gallon\": 12.0, \"Cylinders\": 8, \"Displacement\": 429.0, \"Horsepower\": 198.0, \"Weight_in_lbs\": 4952, \"Acceleration\": 11.5, \"Year\": \"1973-01-01T00:00:00\", \"Origin\": \"USA\"}, {\"Name\": \"chevrolet caprice classic\", \"Miles_per_Gallon\": 13.0, \"Cylinders\": 8, \"Displacement\": 400.0, \"Horsepower\": 150.0, \"Weight_in_lbs\": 4464, \"Acceleration\": 12.0, \"Year\": \"1973-01-01T00:00:00\", \"Origin\": \"USA\"}, {\"Name\": \"ford ltd\", \"Miles_per_Gallon\": 13.0, \"Cylinders\": 8, \"Displacement\": 351.0, \"Horsepower\": 158.0, \"Weight_in_lbs\": 4363, \"Acceleration\": 13.0, \"Year\": \"1973-01-01T00:00:00\", \"Origin\": \"USA\"}, {\"Name\": \"plymouth fury gran sedan\", \"Miles_per_Gallon\": 14.0, \"Cylinders\": 8, \"Displacement\": 318.0, \"Horsepower\": 150.0, \"Weight_in_lbs\": 4237, \"Acceleration\": 14.5, \"Year\": \"1973-01-01T00:00:00\", \"Origin\": \"USA\"}, {\"Name\": \"chrysler new yorker brougham\", \"Miles_per_Gallon\": 13.0, \"Cylinders\": 8, \"Displacement\": 440.0, \"Horsepower\": 215.0, \"Weight_in_lbs\": 4735, \"Acceleration\": 11.0, \"Year\": \"1973-01-01T00:00:00\", \"Origin\": \"USA\"}, {\"Name\": \"buick electra 225 custom\", \"Miles_per_Gallon\": 12.0, \"Cylinders\": 8, \"Displacement\": 455.0, \"Horsepower\": 225.0, \"Weight_in_lbs\": 4951, \"Acceleration\": 11.0, \"Year\": \"1973-01-01T00:00:00\", \"Origin\": \"USA\"}, {\"Name\": \"amc ambassador brougham\", \"Miles_per_Gallon\": 13.0, \"Cylinders\": 8, \"Displacement\": 360.0, \"Horsepower\": 175.0, \"Weight_in_lbs\": 3821, \"Acceleration\": 11.0, \"Year\": \"1973-01-01T00:00:00\", \"Origin\": \"USA\"}, {\"Name\": \"plymouth valiant\", \"Miles_per_Gallon\": 18.0, \"Cylinders\": 6, \"Displacement\": 225.0, \"Horsepower\": 105.0, \"Weight_in_lbs\": 3121, \"Acceleration\": 16.5, \"Year\": \"1973-01-01T00:00:00\", \"Origin\": \"USA\"}, {\"Name\": \"chevrolet nova custom\", \"Miles_per_Gallon\": 16.0, \"Cylinders\": 6, \"Displacement\": 250.0, \"Horsepower\": 100.0, \"Weight_in_lbs\": 3278, \"Acceleration\": 18.0, \"Year\": \"1973-01-01T00:00:00\", \"Origin\": \"USA\"}, {\"Name\": \"amc hornet\", \"Miles_per_Gallon\": 18.0, \"Cylinders\": 6, \"Displacement\": 232.0, \"Horsepower\": 100.0, \"Weight_in_lbs\": 2945, \"Acceleration\": 16.0, \"Year\": \"1973-01-01T00:00:00\", \"Origin\": \"USA\"}, {\"Name\": \"ford maverick\", \"Miles_per_Gallon\": 18.0, \"Cylinders\": 6, \"Displacement\": 250.0, \"Horsepower\": 88.0, \"Weight_in_lbs\": 3021, \"Acceleration\": 16.5, \"Year\": \"1973-01-01T00:00:00\", \"Origin\": \"USA\"}, {\"Name\": \"plymouth duster\", \"Miles_per_Gallon\": 23.0, \"Cylinders\": 6, \"Displacement\": 198.0, \"Horsepower\": 95.0, \"Weight_in_lbs\": 2904, \"Acceleration\": 16.0, \"Year\": \"1973-01-01T00:00:00\", \"Origin\": \"USA\"}, {\"Name\": \"volkswagen super beetle\", \"Miles_per_Gallon\": 26.0, \"Cylinders\": 4, \"Displacement\": 97.0, \"Horsepower\": 46.0, \"Weight_in_lbs\": 1950, \"Acceleration\": 21.0, \"Year\": \"1973-01-01T00:00:00\", \"Origin\": \"Europe\"}, {\"Name\": \"chevrolet impala\", \"Miles_per_Gallon\": 11.0, \"Cylinders\": 8, \"Displacement\": 400.0, \"Horsepower\": 150.0, \"Weight_in_lbs\": 4997, \"Acceleration\": 14.0, \"Year\": \"1973-01-01T00:00:00\", \"Origin\": \"USA\"}, {\"Name\": \"ford country\", \"Miles_per_Gallon\": 12.0, \"Cylinders\": 8, \"Displacement\": 400.0, \"Horsepower\": 167.0, \"Weight_in_lbs\": 4906, \"Acceleration\": 12.5, \"Year\": \"1973-01-01T00:00:00\", \"Origin\": \"USA\"}, {\"Name\": \"plymouth custom suburb\", \"Miles_per_Gallon\": 13.0, \"Cylinders\": 8, \"Displacement\": 360.0, \"Horsepower\": 170.0, \"Weight_in_lbs\": 4654, \"Acceleration\": 13.0, \"Year\": \"1973-01-01T00:00:00\", \"Origin\": \"USA\"}, {\"Name\": \"oldsmobile vista cruiser\", \"Miles_per_Gallon\": 12.0, \"Cylinders\": 8, \"Displacement\": 350.0, \"Horsepower\": 180.0, \"Weight_in_lbs\": 4499, \"Acceleration\": 12.5, \"Year\": \"1973-01-01T00:00:00\", \"Origin\": \"USA\"}, {\"Name\": \"amc gremlin\", \"Miles_per_Gallon\": 18.0, \"Cylinders\": 6, \"Displacement\": 232.0, \"Horsepower\": 100.0, \"Weight_in_lbs\": 2789, \"Acceleration\": 15.0, \"Year\": \"1973-01-01T00:00:00\", \"Origin\": \"USA\"}, {\"Name\": \"toyota carina\", \"Miles_per_Gallon\": 20.0, \"Cylinders\": 4, \"Displacement\": 97.0, \"Horsepower\": 88.0, \"Weight_in_lbs\": 2279, \"Acceleration\": 19.0, \"Year\": \"1973-01-01T00:00:00\", \"Origin\": \"Japan\"}, {\"Name\": \"chevrolet vega\", \"Miles_per_Gallon\": 21.0, \"Cylinders\": 4, \"Displacement\": 140.0, \"Horsepower\": 72.0, \"Weight_in_lbs\": 2401, \"Acceleration\": 19.5, \"Year\": \"1973-01-01T00:00:00\", \"Origin\": \"USA\"}, {\"Name\": \"datsun 610\", \"Miles_per_Gallon\": 22.0, \"Cylinders\": 4, \"Displacement\": 108.0, \"Horsepower\": 94.0, \"Weight_in_lbs\": 2379, \"Acceleration\": 16.5, \"Year\": \"1973-01-01T00:00:00\", \"Origin\": \"Japan\"}, {\"Name\": \"maxda rx3\", \"Miles_per_Gallon\": 18.0, \"Cylinders\": 3, \"Displacement\": 70.0, \"Horsepower\": 90.0, \"Weight_in_lbs\": 2124, \"Acceleration\": 13.5, \"Year\": \"1973-01-01T00:00:00\", \"Origin\": \"Japan\"}, {\"Name\": \"ford pinto\", \"Miles_per_Gallon\": 19.0, \"Cylinders\": 4, \"Displacement\": 122.0, \"Horsepower\": 85.0, \"Weight_in_lbs\": 2310, \"Acceleration\": 18.5, \"Year\": \"1973-01-01T00:00:00\", \"Origin\": \"USA\"}, {\"Name\": \"mercury capri v6\", \"Miles_per_Gallon\": 21.0, \"Cylinders\": 6, \"Displacement\": 155.0, \"Horsepower\": 107.0, \"Weight_in_lbs\": 2472, \"Acceleration\": 14.0, \"Year\": \"1973-01-01T00:00:00\", \"Origin\": \"USA\"}, {\"Name\": \"fiat 124 sport coupe\", \"Miles_per_Gallon\": 26.0, \"Cylinders\": 4, \"Displacement\": 98.0, \"Horsepower\": 90.0, \"Weight_in_lbs\": 2265, \"Acceleration\": 15.5, \"Year\": \"1973-01-01T00:00:00\", \"Origin\": \"Europe\"}, {\"Name\": \"chevrolet monte carlo s\", \"Miles_per_Gallon\": 15.0, \"Cylinders\": 8, \"Displacement\": 350.0, \"Horsepower\": 145.0, \"Weight_in_lbs\": 4082, \"Acceleration\": 13.0, \"Year\": \"1973-01-01T00:00:00\", \"Origin\": \"USA\"}, {\"Name\": \"pontiac grand prix\", \"Miles_per_Gallon\": 16.0, \"Cylinders\": 8, \"Displacement\": 400.0, \"Horsepower\": 230.0, \"Weight_in_lbs\": 4278, \"Acceleration\": 9.5, \"Year\": \"1973-01-01T00:00:00\", \"Origin\": \"USA\"}, {\"Name\": \"fiat 128\", \"Miles_per_Gallon\": 29.0, \"Cylinders\": 4, \"Displacement\": 68.0, \"Horsepower\": 49.0, \"Weight_in_lbs\": 1867, \"Acceleration\": 19.5, \"Year\": \"1973-01-01T00:00:00\", \"Origin\": \"Europe\"}, {\"Name\": \"opel manta\", \"Miles_per_Gallon\": 24.0, \"Cylinders\": 4, \"Displacement\": 116.0, \"Horsepower\": 75.0, \"Weight_in_lbs\": 2158, \"Acceleration\": 15.5, \"Year\": \"1973-01-01T00:00:00\", \"Origin\": \"Europe\"}, {\"Name\": \"audi 100ls\", \"Miles_per_Gallon\": 20.0, \"Cylinders\": 4, \"Displacement\": 114.0, \"Horsepower\": 91.0, \"Weight_in_lbs\": 2582, \"Acceleration\": 14.0, \"Year\": \"1973-01-01T00:00:00\", \"Origin\": \"Europe\"}, {\"Name\": \"volvo 144ea\", \"Miles_per_Gallon\": 19.0, \"Cylinders\": 4, \"Displacement\": 121.0, \"Horsepower\": 112.0, \"Weight_in_lbs\": 2868, \"Acceleration\": 15.5, \"Year\": \"1973-01-01T00:00:00\", \"Origin\": \"Europe\"}, {\"Name\": \"dodge dart custom\", \"Miles_per_Gallon\": 15.0, \"Cylinders\": 8, \"Displacement\": 318.0, \"Horsepower\": 150.0, \"Weight_in_lbs\": 3399, \"Acceleration\": 11.0, \"Year\": \"1973-01-01T00:00:00\", \"Origin\": \"USA\"}, {\"Name\": \"saab 99le\", \"Miles_per_Gallon\": 24.0, \"Cylinders\": 4, \"Displacement\": 121.0, \"Horsepower\": 110.0, \"Weight_in_lbs\": 2660, \"Acceleration\": 14.0, \"Year\": \"1973-01-01T00:00:00\", \"Origin\": \"Europe\"}, {\"Name\": \"toyota mark ii\", \"Miles_per_Gallon\": 20.0, \"Cylinders\": 6, \"Displacement\": 156.0, \"Horsepower\": 122.0, \"Weight_in_lbs\": 2807, \"Acceleration\": 13.5, \"Year\": \"1973-01-01T00:00:00\", \"Origin\": \"Japan\"}, {\"Name\": \"oldsmobile omega\", \"Miles_per_Gallon\": 11.0, \"Cylinders\": 8, \"Displacement\": 350.0, \"Horsepower\": 180.0, \"Weight_in_lbs\": 3664, \"Acceleration\": 11.0, \"Year\": \"1973-01-01T00:00:00\", \"Origin\": \"USA\"}, {\"Name\": \"plymouth duster\", \"Miles_per_Gallon\": 20.0, \"Cylinders\": 6, \"Displacement\": 198.0, \"Horsepower\": 95.0, \"Weight_in_lbs\": 3102, \"Acceleration\": 16.5, \"Year\": \"1974-01-01T00:00:00\", \"Origin\": \"USA\"}, {\"Name\": \"ford maverick\", \"Miles_per_Gallon\": 21.0, \"Cylinders\": 6, \"Displacement\": 200.0, \"Horsepower\": null, \"Weight_in_lbs\": 2875, \"Acceleration\": 17.0, \"Year\": \"1974-01-01T00:00:00\", \"Origin\": \"USA\"}, {\"Name\": \"amc hornet\", \"Miles_per_Gallon\": 19.0, \"Cylinders\": 6, \"Displacement\": 232.0, \"Horsepower\": 100.0, \"Weight_in_lbs\": 2901, \"Acceleration\": 16.0, \"Year\": \"1974-01-01T00:00:00\", \"Origin\": \"USA\"}, {\"Name\": \"chevrolet nova\", \"Miles_per_Gallon\": 15.0, \"Cylinders\": 6, \"Displacement\": 250.0, \"Horsepower\": 100.0, \"Weight_in_lbs\": 3336, \"Acceleration\": 17.0, \"Year\": \"1974-01-01T00:00:00\", \"Origin\": \"USA\"}, {\"Name\": \"datsun b210\", \"Miles_per_Gallon\": 31.0, \"Cylinders\": 4, \"Displacement\": 79.0, \"Horsepower\": 67.0, \"Weight_in_lbs\": 1950, \"Acceleration\": 19.0, \"Year\": \"1974-01-01T00:00:00\", \"Origin\": \"Japan\"}, {\"Name\": \"ford pinto\", \"Miles_per_Gallon\": 26.0, \"Cylinders\": 4, \"Displacement\": 122.0, \"Horsepower\": 80.0, \"Weight_in_lbs\": 2451, \"Acceleration\": 16.5, \"Year\": \"1974-01-01T00:00:00\", \"Origin\": \"USA\"}, {\"Name\": \"toyota corolla 1200\", \"Miles_per_Gallon\": 32.0, \"Cylinders\": 4, \"Displacement\": 71.0, \"Horsepower\": 65.0, \"Weight_in_lbs\": 1836, \"Acceleration\": 21.0, \"Year\": \"1974-01-01T00:00:00\", \"Origin\": \"Japan\"}, {\"Name\": \"chevrolet vega\", \"Miles_per_Gallon\": 25.0, \"Cylinders\": 4, \"Displacement\": 140.0, \"Horsepower\": 75.0, \"Weight_in_lbs\": 2542, \"Acceleration\": 17.0, \"Year\": \"1974-01-01T00:00:00\", \"Origin\": \"USA\"}, {\"Name\": \"chevrolet chevelle malibu classic\", \"Miles_per_Gallon\": 16.0, \"Cylinders\": 6, \"Displacement\": 250.0, \"Horsepower\": 100.0, \"Weight_in_lbs\": 3781, \"Acceleration\": 17.0, \"Year\": \"1974-01-01T00:00:00\", \"Origin\": \"USA\"}, {\"Name\": \"amc matador\", \"Miles_per_Gallon\": 16.0, \"Cylinders\": 6, \"Displacement\": 258.0, \"Horsepower\": 110.0, \"Weight_in_lbs\": 3632, \"Acceleration\": 18.0, \"Year\": \"1974-01-01T00:00:00\", \"Origin\": \"USA\"}, {\"Name\": \"plymouth satellite sebring\", \"Miles_per_Gallon\": 18.0, \"Cylinders\": 6, \"Displacement\": 225.0, \"Horsepower\": 105.0, \"Weight_in_lbs\": 3613, \"Acceleration\": 16.5, \"Year\": \"1974-01-01T00:00:00\", \"Origin\": \"USA\"}, {\"Name\": \"ford gran torino\", \"Miles_per_Gallon\": 16.0, \"Cylinders\": 8, \"Displacement\": 302.0, \"Horsepower\": 140.0, \"Weight_in_lbs\": 4141, \"Acceleration\": 14.0, \"Year\": \"1974-01-01T00:00:00\", \"Origin\": \"USA\"}, {\"Name\": \"buick century luxus (sw)\", \"Miles_per_Gallon\": 13.0, \"Cylinders\": 8, \"Displacement\": 350.0, \"Horsepower\": 150.0, \"Weight_in_lbs\": 4699, \"Acceleration\": 14.5, \"Year\": \"1974-01-01T00:00:00\", \"Origin\": \"USA\"}, {\"Name\": \"dodge coronet custom (sw)\", \"Miles_per_Gallon\": 14.0, \"Cylinders\": 8, \"Displacement\": 318.0, \"Horsepower\": 150.0, \"Weight_in_lbs\": 4457, \"Acceleration\": 13.5, \"Year\": \"1974-01-01T00:00:00\", \"Origin\": \"USA\"}, {\"Name\": \"ford gran torino (sw)\", \"Miles_per_Gallon\": 14.0, \"Cylinders\": 8, \"Displacement\": 302.0, \"Horsepower\": 140.0, \"Weight_in_lbs\": 4638, \"Acceleration\": 16.0, \"Year\": \"1974-01-01T00:00:00\", \"Origin\": \"USA\"}, {\"Name\": \"amc matador (sw)\", \"Miles_per_Gallon\": 14.0, \"Cylinders\": 8, \"Displacement\": 304.0, \"Horsepower\": 150.0, \"Weight_in_lbs\": 4257, \"Acceleration\": 15.5, \"Year\": \"1974-01-01T00:00:00\", \"Origin\": \"USA\"}, {\"Name\": \"audi fox\", \"Miles_per_Gallon\": 29.0, \"Cylinders\": 4, \"Displacement\": 98.0, \"Horsepower\": 83.0, \"Weight_in_lbs\": 2219, \"Acceleration\": 16.5, \"Year\": \"1974-01-01T00:00:00\", \"Origin\": \"Europe\"}, {\"Name\": \"volkswagen dasher\", \"Miles_per_Gallon\": 26.0, \"Cylinders\": 4, \"Displacement\": 79.0, \"Horsepower\": 67.0, \"Weight_in_lbs\": 1963, \"Acceleration\": 15.5, \"Year\": \"1974-01-01T00:00:00\", \"Origin\": \"Europe\"}, {\"Name\": \"opel manta\", \"Miles_per_Gallon\": 26.0, \"Cylinders\": 4, \"Displacement\": 97.0, \"Horsepower\": 78.0, \"Weight_in_lbs\": 2300, \"Acceleration\": 14.5, \"Year\": \"1974-01-01T00:00:00\", \"Origin\": \"Europe\"}, {\"Name\": \"toyota corona\", \"Miles_per_Gallon\": 31.0, \"Cylinders\": 4, \"Displacement\": 76.0, \"Horsepower\": 52.0, \"Weight_in_lbs\": 1649, \"Acceleration\": 16.5, \"Year\": \"1974-01-01T00:00:00\", \"Origin\": \"Japan\"}, {\"Name\": \"datsun 710\", \"Miles_per_Gallon\": 32.0, \"Cylinders\": 4, \"Displacement\": 83.0, \"Horsepower\": 61.0, \"Weight_in_lbs\": 2003, \"Acceleration\": 19.0, \"Year\": \"1974-01-01T00:00:00\", \"Origin\": \"Japan\"}, {\"Name\": \"dodge colt\", \"Miles_per_Gallon\": 28.0, \"Cylinders\": 4, \"Displacement\": 90.0, \"Horsepower\": 75.0, \"Weight_in_lbs\": 2125, \"Acceleration\": 14.5, \"Year\": \"1974-01-01T00:00:00\", \"Origin\": \"USA\"}, {\"Name\": \"fiat 128\", \"Miles_per_Gallon\": 24.0, \"Cylinders\": 4, \"Displacement\": 90.0, \"Horsepower\": 75.0, \"Weight_in_lbs\": 2108, \"Acceleration\": 15.5, \"Year\": \"1974-01-01T00:00:00\", \"Origin\": \"Europe\"}, {\"Name\": \"fiat 124 tc\", \"Miles_per_Gallon\": 26.0, \"Cylinders\": 4, \"Displacement\": 116.0, \"Horsepower\": 75.0, \"Weight_in_lbs\": 2246, \"Acceleration\": 14.0, \"Year\": \"1974-01-01T00:00:00\", \"Origin\": \"Europe\"}, {\"Name\": \"honda civic\", \"Miles_per_Gallon\": 24.0, \"Cylinders\": 4, \"Displacement\": 120.0, \"Horsepower\": 97.0, \"Weight_in_lbs\": 2489, \"Acceleration\": 15.0, \"Year\": \"1974-01-01T00:00:00\", \"Origin\": \"Japan\"}, {\"Name\": \"subaru\", \"Miles_per_Gallon\": 26.0, \"Cylinders\": 4, \"Displacement\": 108.0, \"Horsepower\": 93.0, \"Weight_in_lbs\": 2391, \"Acceleration\": 15.5, \"Year\": \"1974-01-01T00:00:00\", \"Origin\": \"Japan\"}, {\"Name\": \"fiat x1.9\", \"Miles_per_Gallon\": 31.0, \"Cylinders\": 4, \"Displacement\": 79.0, \"Horsepower\": 67.0, \"Weight_in_lbs\": 2000, \"Acceleration\": 16.0, \"Year\": \"1974-01-01T00:00:00\", \"Origin\": \"Europe\"}, {\"Name\": \"plymouth valiant custom\", \"Miles_per_Gallon\": 19.0, \"Cylinders\": 6, \"Displacement\": 225.0, \"Horsepower\": 95.0, \"Weight_in_lbs\": 3264, \"Acceleration\": 16.0, \"Year\": \"1975-01-01T00:00:00\", \"Origin\": \"USA\"}, {\"Name\": \"chevrolet nova\", \"Miles_per_Gallon\": 18.0, \"Cylinders\": 6, \"Displacement\": 250.0, \"Horsepower\": 105.0, \"Weight_in_lbs\": 3459, \"Acceleration\": 16.0, \"Year\": \"1975-01-01T00:00:00\", \"Origin\": \"USA\"}, {\"Name\": \"mercury monarch\", \"Miles_per_Gallon\": 15.0, \"Cylinders\": 6, \"Displacement\": 250.0, \"Horsepower\": 72.0, \"Weight_in_lbs\": 3432, \"Acceleration\": 21.0, \"Year\": \"1975-01-01T00:00:00\", \"Origin\": \"USA\"}, {\"Name\": \"ford maverick\", \"Miles_per_Gallon\": 15.0, \"Cylinders\": 6, \"Displacement\": 250.0, \"Horsepower\": 72.0, \"Weight_in_lbs\": 3158, \"Acceleration\": 19.5, \"Year\": \"1975-01-01T00:00:00\", \"Origin\": \"USA\"}, {\"Name\": \"pontiac catalina\", \"Miles_per_Gallon\": 16.0, \"Cylinders\": 8, \"Displacement\": 400.0, \"Horsepower\": 170.0, \"Weight_in_lbs\": 4668, \"Acceleration\": 11.5, \"Year\": \"1975-01-01T00:00:00\", \"Origin\": \"USA\"}, {\"Name\": \"chevrolet bel air\", \"Miles_per_Gallon\": 15.0, \"Cylinders\": 8, \"Displacement\": 350.0, \"Horsepower\": 145.0, \"Weight_in_lbs\": 4440, \"Acceleration\": 14.0, \"Year\": \"1975-01-01T00:00:00\", \"Origin\": \"USA\"}, {\"Name\": \"plymouth grand fury\", \"Miles_per_Gallon\": 16.0, \"Cylinders\": 8, \"Displacement\": 318.0, \"Horsepower\": 150.0, \"Weight_in_lbs\": 4498, \"Acceleration\": 14.5, \"Year\": \"1975-01-01T00:00:00\", \"Origin\": \"USA\"}, {\"Name\": \"ford ltd\", \"Miles_per_Gallon\": 14.0, \"Cylinders\": 8, \"Displacement\": 351.0, \"Horsepower\": 148.0, \"Weight_in_lbs\": 4657, \"Acceleration\": 13.5, \"Year\": \"1975-01-01T00:00:00\", \"Origin\": \"USA\"}, {\"Name\": \"buick century\", \"Miles_per_Gallon\": 17.0, \"Cylinders\": 6, \"Displacement\": 231.0, \"Horsepower\": 110.0, \"Weight_in_lbs\": 3907, \"Acceleration\": 21.0, \"Year\": \"1975-01-01T00:00:00\", \"Origin\": \"USA\"}, {\"Name\": \"chevroelt chevelle malibu\", \"Miles_per_Gallon\": 16.0, \"Cylinders\": 6, \"Displacement\": 250.0, \"Horsepower\": 105.0, \"Weight_in_lbs\": 3897, \"Acceleration\": 18.5, \"Year\": \"1975-01-01T00:00:00\", \"Origin\": \"USA\"}, {\"Name\": \"amc matador\", \"Miles_per_Gallon\": 15.0, \"Cylinders\": 6, \"Displacement\": 258.0, \"Horsepower\": 110.0, \"Weight_in_lbs\": 3730, \"Acceleration\": 19.0, \"Year\": \"1975-01-01T00:00:00\", \"Origin\": \"USA\"}, {\"Name\": \"plymouth fury\", \"Miles_per_Gallon\": 18.0, \"Cylinders\": 6, \"Displacement\": 225.0, \"Horsepower\": 95.0, \"Weight_in_lbs\": 3785, \"Acceleration\": 19.0, \"Year\": \"1975-01-01T00:00:00\", \"Origin\": \"USA\"}, {\"Name\": \"buick skyhawk\", \"Miles_per_Gallon\": 21.0, \"Cylinders\": 6, \"Displacement\": 231.0, \"Horsepower\": 110.0, \"Weight_in_lbs\": 3039, \"Acceleration\": 15.0, \"Year\": \"1975-01-01T00:00:00\", \"Origin\": \"USA\"}, {\"Name\": \"chevrolet monza 2+2\", \"Miles_per_Gallon\": 20.0, \"Cylinders\": 8, \"Displacement\": 262.0, \"Horsepower\": 110.0, \"Weight_in_lbs\": 3221, \"Acceleration\": 13.5, \"Year\": \"1975-01-01T00:00:00\", \"Origin\": \"USA\"}, {\"Name\": \"ford mustang ii\", \"Miles_per_Gallon\": 13.0, \"Cylinders\": 8, \"Displacement\": 302.0, \"Horsepower\": 129.0, \"Weight_in_lbs\": 3169, \"Acceleration\": 12.0, \"Year\": \"1975-01-01T00:00:00\", \"Origin\": \"USA\"}, {\"Name\": \"toyota corolla\", \"Miles_per_Gallon\": 29.0, \"Cylinders\": 4, \"Displacement\": 97.0, \"Horsepower\": 75.0, \"Weight_in_lbs\": 2171, \"Acceleration\": 16.0, \"Year\": \"1975-01-01T00:00:00\", \"Origin\": \"Japan\"}, {\"Name\": \"ford pinto\", \"Miles_per_Gallon\": 23.0, \"Cylinders\": 4, \"Displacement\": 140.0, \"Horsepower\": 83.0, \"Weight_in_lbs\": 2639, \"Acceleration\": 17.0, \"Year\": \"1975-01-01T00:00:00\", \"Origin\": \"USA\"}, {\"Name\": \"amc gremlin\", \"Miles_per_Gallon\": 20.0, \"Cylinders\": 6, \"Displacement\": 232.0, \"Horsepower\": 100.0, \"Weight_in_lbs\": 2914, \"Acceleration\": 16.0, \"Year\": \"1975-01-01T00:00:00\", \"Origin\": \"USA\"}, {\"Name\": \"pontiac astro\", \"Miles_per_Gallon\": 23.0, \"Cylinders\": 4, \"Displacement\": 140.0, \"Horsepower\": 78.0, \"Weight_in_lbs\": 2592, \"Acceleration\": 18.5, \"Year\": \"1975-01-01T00:00:00\", \"Origin\": \"USA\"}, {\"Name\": \"toyota corona\", \"Miles_per_Gallon\": 24.0, \"Cylinders\": 4, \"Displacement\": 134.0, \"Horsepower\": 96.0, \"Weight_in_lbs\": 2702, \"Acceleration\": 13.5, \"Year\": \"1975-01-01T00:00:00\", \"Origin\": \"Japan\"}, {\"Name\": \"volkswagen dasher\", \"Miles_per_Gallon\": 25.0, \"Cylinders\": 4, \"Displacement\": 90.0, \"Horsepower\": 71.0, \"Weight_in_lbs\": 2223, \"Acceleration\": 16.5, \"Year\": \"1975-01-01T00:00:00\", \"Origin\": \"Europe\"}, {\"Name\": \"datsun 710\", \"Miles_per_Gallon\": 24.0, \"Cylinders\": 4, \"Displacement\": 119.0, \"Horsepower\": 97.0, \"Weight_in_lbs\": 2545, \"Acceleration\": 17.0, \"Year\": \"1975-01-01T00:00:00\", \"Origin\": \"Japan\"}, {\"Name\": \"ford pinto\", \"Miles_per_Gallon\": 18.0, \"Cylinders\": 6, \"Displacement\": 171.0, \"Horsepower\": 97.0, \"Weight_in_lbs\": 2984, \"Acceleration\": 14.5, \"Year\": \"1975-01-01T00:00:00\", \"Origin\": \"USA\"}, {\"Name\": \"volkswagen rabbit\", \"Miles_per_Gallon\": 29.0, \"Cylinders\": 4, \"Displacement\": 90.0, \"Horsepower\": 70.0, \"Weight_in_lbs\": 1937, \"Acceleration\": 14.0, \"Year\": \"1975-01-01T00:00:00\", \"Origin\": \"Europe\"}, {\"Name\": \"amc pacer\", \"Miles_per_Gallon\": 19.0, \"Cylinders\": 6, \"Displacement\": 232.0, \"Horsepower\": 90.0, \"Weight_in_lbs\": 3211, \"Acceleration\": 17.0, \"Year\": \"1975-01-01T00:00:00\", \"Origin\": \"USA\"}, {\"Name\": \"audi 100ls\", \"Miles_per_Gallon\": 23.0, \"Cylinders\": 4, \"Displacement\": 115.0, \"Horsepower\": 95.0, \"Weight_in_lbs\": 2694, \"Acceleration\": 15.0, \"Year\": \"1975-01-01T00:00:00\", \"Origin\": \"Europe\"}, {\"Name\": \"peugeot 504\", \"Miles_per_Gallon\": 23.0, \"Cylinders\": 4, \"Displacement\": 120.0, \"Horsepower\": 88.0, \"Weight_in_lbs\": 2957, \"Acceleration\": 17.0, \"Year\": \"1975-01-01T00:00:00\", \"Origin\": \"Europe\"}, {\"Name\": \"volvo 244dl\", \"Miles_per_Gallon\": 22.0, \"Cylinders\": 4, \"Displacement\": 121.0, \"Horsepower\": 98.0, \"Weight_in_lbs\": 2945, \"Acceleration\": 14.5, \"Year\": \"1975-01-01T00:00:00\", \"Origin\": \"Europe\"}, {\"Name\": \"saab 99le\", \"Miles_per_Gallon\": 25.0, \"Cylinders\": 4, \"Displacement\": 121.0, \"Horsepower\": 115.0, \"Weight_in_lbs\": 2671, \"Acceleration\": 13.5, \"Year\": \"1975-01-01T00:00:00\", \"Origin\": \"Europe\"}, {\"Name\": \"honda civic cvcc\", \"Miles_per_Gallon\": 33.0, \"Cylinders\": 4, \"Displacement\": 91.0, \"Horsepower\": 53.0, \"Weight_in_lbs\": 1795, \"Acceleration\": 17.5, \"Year\": \"1975-01-01T00:00:00\", \"Origin\": \"Japan\"}, {\"Name\": \"fiat 131\", \"Miles_per_Gallon\": 28.0, \"Cylinders\": 4, \"Displacement\": 107.0, \"Horsepower\": 86.0, \"Weight_in_lbs\": 2464, \"Acceleration\": 15.5, \"Year\": \"1976-01-01T00:00:00\", \"Origin\": \"Europe\"}, {\"Name\": \"opel 1900\", \"Miles_per_Gallon\": 25.0, \"Cylinders\": 4, \"Displacement\": 116.0, \"Horsepower\": 81.0, \"Weight_in_lbs\": 2220, \"Acceleration\": 16.9, \"Year\": \"1976-01-01T00:00:00\", \"Origin\": \"Europe\"}, {\"Name\": \"capri ii\", \"Miles_per_Gallon\": 25.0, \"Cylinders\": 4, \"Displacement\": 140.0, \"Horsepower\": 92.0, \"Weight_in_lbs\": 2572, \"Acceleration\": 14.9, \"Year\": \"1976-01-01T00:00:00\", \"Origin\": \"USA\"}, {\"Name\": \"dodge colt\", \"Miles_per_Gallon\": 26.0, \"Cylinders\": 4, \"Displacement\": 98.0, \"Horsepower\": 79.0, \"Weight_in_lbs\": 2255, \"Acceleration\": 17.7, \"Year\": \"1976-01-01T00:00:00\", \"Origin\": \"USA\"}, {\"Name\": \"renault 12tl\", \"Miles_per_Gallon\": 27.0, \"Cylinders\": 4, \"Displacement\": 101.0, \"Horsepower\": 83.0, \"Weight_in_lbs\": 2202, \"Acceleration\": 15.3, \"Year\": \"1976-01-01T00:00:00\", \"Origin\": \"Europe\"}, {\"Name\": \"chevrolet chevelle malibu classic\", \"Miles_per_Gallon\": 17.5, \"Cylinders\": 8, \"Displacement\": 305.0, \"Horsepower\": 140.0, \"Weight_in_lbs\": 4215, \"Acceleration\": 13.0, \"Year\": \"1976-01-01T00:00:00\", \"Origin\": \"USA\"}, {\"Name\": \"dodge coronet brougham\", \"Miles_per_Gallon\": 16.0, \"Cylinders\": 8, \"Displacement\": 318.0, \"Horsepower\": 150.0, \"Weight_in_lbs\": 4190, \"Acceleration\": 13.0, \"Year\": \"1976-01-01T00:00:00\", \"Origin\": \"USA\"}, {\"Name\": \"amc matador\", \"Miles_per_Gallon\": 15.5, \"Cylinders\": 8, \"Displacement\": 304.0, \"Horsepower\": 120.0, \"Weight_in_lbs\": 3962, \"Acceleration\": 13.9, \"Year\": \"1976-01-01T00:00:00\", \"Origin\": \"USA\"}, {\"Name\": \"ford gran torino\", \"Miles_per_Gallon\": 14.5, \"Cylinders\": 8, \"Displacement\": 351.0, \"Horsepower\": 152.0, \"Weight_in_lbs\": 4215, \"Acceleration\": 12.8, \"Year\": \"1976-01-01T00:00:00\", \"Origin\": \"USA\"}, {\"Name\": \"plymouth valiant\", \"Miles_per_Gallon\": 22.0, \"Cylinders\": 6, \"Displacement\": 225.0, \"Horsepower\": 100.0, \"Weight_in_lbs\": 3233, \"Acceleration\": 15.4, \"Year\": \"1976-01-01T00:00:00\", \"Origin\": \"USA\"}, {\"Name\": \"chevrolet nova\", \"Miles_per_Gallon\": 22.0, \"Cylinders\": 6, \"Displacement\": 250.0, \"Horsepower\": 105.0, \"Weight_in_lbs\": 3353, \"Acceleration\": 14.5, \"Year\": \"1976-01-01T00:00:00\", \"Origin\": \"USA\"}, {\"Name\": \"ford maverick\", \"Miles_per_Gallon\": 24.0, \"Cylinders\": 6, \"Displacement\": 200.0, \"Horsepower\": 81.0, \"Weight_in_lbs\": 3012, \"Acceleration\": 17.6, \"Year\": \"1976-01-01T00:00:00\", \"Origin\": \"USA\"}, {\"Name\": \"amc hornet\", \"Miles_per_Gallon\": 22.5, \"Cylinders\": 6, \"Displacement\": 232.0, \"Horsepower\": 90.0, \"Weight_in_lbs\": 3085, \"Acceleration\": 17.6, \"Year\": \"1976-01-01T00:00:00\", \"Origin\": \"USA\"}, {\"Name\": \"chevrolet chevette\", \"Miles_per_Gallon\": 29.0, \"Cylinders\": 4, \"Displacement\": 85.0, \"Horsepower\": 52.0, \"Weight_in_lbs\": 2035, \"Acceleration\": 22.2, \"Year\": \"1976-01-01T00:00:00\", \"Origin\": \"USA\"}, {\"Name\": \"chevrolet woody\", \"Miles_per_Gallon\": 24.5, \"Cylinders\": 4, \"Displacement\": 98.0, \"Horsepower\": 60.0, \"Weight_in_lbs\": 2164, \"Acceleration\": 22.1, \"Year\": \"1976-01-01T00:00:00\", \"Origin\": \"USA\"}, {\"Name\": \"vw rabbit\", \"Miles_per_Gallon\": 29.0, \"Cylinders\": 4, \"Displacement\": 90.0, \"Horsepower\": 70.0, \"Weight_in_lbs\": 1937, \"Acceleration\": 14.2, \"Year\": \"1976-01-01T00:00:00\", \"Origin\": \"Europe\"}, {\"Name\": \"honda civic\", \"Miles_per_Gallon\": 33.0, \"Cylinders\": 4, \"Displacement\": 91.0, \"Horsepower\": 53.0, \"Weight_in_lbs\": 1795, \"Acceleration\": 17.4, \"Year\": \"1976-01-01T00:00:00\", \"Origin\": \"Japan\"}, {\"Name\": \"dodge aspen se\", \"Miles_per_Gallon\": 20.0, \"Cylinders\": 6, \"Displacement\": 225.0, \"Horsepower\": 100.0, \"Weight_in_lbs\": 3651, \"Acceleration\": 17.7, \"Year\": \"1976-01-01T00:00:00\", \"Origin\": \"USA\"}, {\"Name\": \"ford granada ghia\", \"Miles_per_Gallon\": 18.0, \"Cylinders\": 6, \"Displacement\": 250.0, \"Horsepower\": 78.0, \"Weight_in_lbs\": 3574, \"Acceleration\": 21.0, \"Year\": \"1976-01-01T00:00:00\", \"Origin\": \"USA\"}, {\"Name\": \"pontiac ventura sj\", \"Miles_per_Gallon\": 18.5, \"Cylinders\": 6, \"Displacement\": 250.0, \"Horsepower\": 110.0, \"Weight_in_lbs\": 3645, \"Acceleration\": 16.2, \"Year\": \"1976-01-01T00:00:00\", \"Origin\": \"USA\"}, {\"Name\": \"amc pacer d/l\", \"Miles_per_Gallon\": 17.5, \"Cylinders\": 6, \"Displacement\": 258.0, \"Horsepower\": 95.0, \"Weight_in_lbs\": 3193, \"Acceleration\": 17.8, \"Year\": \"1976-01-01T00:00:00\", \"Origin\": \"USA\"}, {\"Name\": \"volkswagen rabbit\", \"Miles_per_Gallon\": 29.5, \"Cylinders\": 4, \"Displacement\": 97.0, \"Horsepower\": 71.0, \"Weight_in_lbs\": 1825, \"Acceleration\": 12.2, \"Year\": \"1976-01-01T00:00:00\", \"Origin\": \"Europe\"}, {\"Name\": \"datsun b-210\", \"Miles_per_Gallon\": 32.0, \"Cylinders\": 4, \"Displacement\": 85.0, \"Horsepower\": 70.0, \"Weight_in_lbs\": 1990, \"Acceleration\": 17.0, \"Year\": \"1976-01-01T00:00:00\", \"Origin\": \"Japan\"}, {\"Name\": \"toyota corolla\", \"Miles_per_Gallon\": 28.0, \"Cylinders\": 4, \"Displacement\": 97.0, \"Horsepower\": 75.0, \"Weight_in_lbs\": 2155, \"Acceleration\": 16.4, \"Year\": \"1976-01-01T00:00:00\", \"Origin\": \"Japan\"}, {\"Name\": \"ford pinto\", \"Miles_per_Gallon\": 26.5, \"Cylinders\": 4, \"Displacement\": 140.0, \"Horsepower\": 72.0, \"Weight_in_lbs\": 2565, \"Acceleration\": 13.6, \"Year\": \"1976-01-01T00:00:00\", \"Origin\": \"USA\"}, {\"Name\": \"volvo 245\", \"Miles_per_Gallon\": 20.0, \"Cylinders\": 4, \"Displacement\": 130.0, \"Horsepower\": 102.0, \"Weight_in_lbs\": 3150, \"Acceleration\": 15.7, \"Year\": \"1976-01-01T00:00:00\", \"Origin\": \"Europe\"}, {\"Name\": \"plymouth volare premier v8\", \"Miles_per_Gallon\": 13.0, \"Cylinders\": 8, \"Displacement\": 318.0, \"Horsepower\": 150.0, \"Weight_in_lbs\": 3940, \"Acceleration\": 13.2, \"Year\": \"1976-01-01T00:00:00\", \"Origin\": \"USA\"}, {\"Name\": \"peugeot 504\", \"Miles_per_Gallon\": 19.0, \"Cylinders\": 4, \"Displacement\": 120.0, \"Horsepower\": 88.0, \"Weight_in_lbs\": 3270, \"Acceleration\": 21.9, \"Year\": \"1976-01-01T00:00:00\", \"Origin\": \"Europe\"}, {\"Name\": \"toyota mark ii\", \"Miles_per_Gallon\": 19.0, \"Cylinders\": 6, \"Displacement\": 156.0, \"Horsepower\": 108.0, \"Weight_in_lbs\": 2930, \"Acceleration\": 15.5, \"Year\": \"1976-01-01T00:00:00\", \"Origin\": \"Japan\"}, {\"Name\": \"mercedes-benz 280s\", \"Miles_per_Gallon\": 16.5, \"Cylinders\": 6, \"Displacement\": 168.0, \"Horsepower\": 120.0, \"Weight_in_lbs\": 3820, \"Acceleration\": 16.7, \"Year\": \"1976-01-01T00:00:00\", \"Origin\": \"Europe\"}, {\"Name\": \"cadillac seville\", \"Miles_per_Gallon\": 16.5, \"Cylinders\": 8, \"Displacement\": 350.0, \"Horsepower\": 180.0, \"Weight_in_lbs\": 4380, \"Acceleration\": 12.1, \"Year\": \"1976-01-01T00:00:00\", \"Origin\": \"USA\"}, {\"Name\": \"chevy c10\", \"Miles_per_Gallon\": 13.0, \"Cylinders\": 8, \"Displacement\": 350.0, \"Horsepower\": 145.0, \"Weight_in_lbs\": 4055, \"Acceleration\": 12.0, \"Year\": \"1976-01-01T00:00:00\", \"Origin\": \"USA\"}, {\"Name\": \"ford f108\", \"Miles_per_Gallon\": 13.0, \"Cylinders\": 8, \"Displacement\": 302.0, \"Horsepower\": 130.0, \"Weight_in_lbs\": 3870, \"Acceleration\": 15.0, \"Year\": \"1976-01-01T00:00:00\", \"Origin\": \"USA\"}, {\"Name\": \"dodge d100\", \"Miles_per_Gallon\": 13.0, \"Cylinders\": 8, \"Displacement\": 318.0, \"Horsepower\": 150.0, \"Weight_in_lbs\": 3755, \"Acceleration\": 14.0, \"Year\": \"1976-01-01T00:00:00\", \"Origin\": \"USA\"}, {\"Name\": \"honda Accelerationord cvcc\", \"Miles_per_Gallon\": 31.5, \"Cylinders\": 4, \"Displacement\": 98.0, \"Horsepower\": 68.0, \"Weight_in_lbs\": 2045, \"Acceleration\": 18.5, \"Year\": \"1977-01-01T00:00:00\", \"Origin\": \"Japan\"}, {\"Name\": \"buick opel isuzu deluxe\", \"Miles_per_Gallon\": 30.0, \"Cylinders\": 4, \"Displacement\": 111.0, \"Horsepower\": 80.0, \"Weight_in_lbs\": 2155, \"Acceleration\": 14.8, \"Year\": \"1977-01-01T00:00:00\", \"Origin\": \"USA\"}, {\"Name\": \"renault 5 gtl\", \"Miles_per_Gallon\": 36.0, \"Cylinders\": 4, \"Displacement\": 79.0, \"Horsepower\": 58.0, \"Weight_in_lbs\": 1825, \"Acceleration\": 18.6, \"Year\": \"1977-01-01T00:00:00\", \"Origin\": \"Europe\"}, {\"Name\": \"plymouth arrow gs\", \"Miles_per_Gallon\": 25.5, \"Cylinders\": 4, \"Displacement\": 122.0, \"Horsepower\": 96.0, \"Weight_in_lbs\": 2300, \"Acceleration\": 15.5, \"Year\": \"1977-01-01T00:00:00\", \"Origin\": \"USA\"}, {\"Name\": \"datsun f-10 hatchback\", \"Miles_per_Gallon\": 33.5, \"Cylinders\": 4, \"Displacement\": 85.0, \"Horsepower\": 70.0, \"Weight_in_lbs\": 1945, \"Acceleration\": 16.8, \"Year\": \"1977-01-01T00:00:00\", \"Origin\": \"Japan\"}, {\"Name\": \"chevrolet caprice classic\", \"Miles_per_Gallon\": 17.5, \"Cylinders\": 8, \"Displacement\": 305.0, \"Horsepower\": 145.0, \"Weight_in_lbs\": 3880, \"Acceleration\": 12.5, \"Year\": \"1977-01-01T00:00:00\", \"Origin\": \"USA\"}, {\"Name\": \"oldsmobile cutlass supreme\", \"Miles_per_Gallon\": 17.0, \"Cylinders\": 8, \"Displacement\": 260.0, \"Horsepower\": 110.0, \"Weight_in_lbs\": 4060, \"Acceleration\": 19.0, \"Year\": \"1977-01-01T00:00:00\", \"Origin\": \"USA\"}, {\"Name\": \"dodge monaco brougham\", \"Miles_per_Gallon\": 15.5, \"Cylinders\": 8, \"Displacement\": 318.0, \"Horsepower\": 145.0, \"Weight_in_lbs\": 4140, \"Acceleration\": 13.7, \"Year\": \"1977-01-01T00:00:00\", \"Origin\": \"USA\"}, {\"Name\": \"mercury cougar brougham\", \"Miles_per_Gallon\": 15.0, \"Cylinders\": 8, \"Displacement\": 302.0, \"Horsepower\": 130.0, \"Weight_in_lbs\": 4295, \"Acceleration\": 14.9, \"Year\": \"1977-01-01T00:00:00\", \"Origin\": \"USA\"}, {\"Name\": \"chevrolet concours\", \"Miles_per_Gallon\": 17.5, \"Cylinders\": 6, \"Displacement\": 250.0, \"Horsepower\": 110.0, \"Weight_in_lbs\": 3520, \"Acceleration\": 16.4, \"Year\": \"1977-01-01T00:00:00\", \"Origin\": \"USA\"}, {\"Name\": \"buick skylark\", \"Miles_per_Gallon\": 20.5, \"Cylinders\": 6, \"Displacement\": 231.0, \"Horsepower\": 105.0, \"Weight_in_lbs\": 3425, \"Acceleration\": 16.9, \"Year\": \"1977-01-01T00:00:00\", \"Origin\": \"USA\"}, {\"Name\": \"plymouth volare custom\", \"Miles_per_Gallon\": 19.0, \"Cylinders\": 6, \"Displacement\": 225.0, \"Horsepower\": 100.0, \"Weight_in_lbs\": 3630, \"Acceleration\": 17.7, \"Year\": \"1977-01-01T00:00:00\", \"Origin\": \"USA\"}, {\"Name\": \"ford granada\", \"Miles_per_Gallon\": 18.5, \"Cylinders\": 6, \"Displacement\": 250.0, \"Horsepower\": 98.0, \"Weight_in_lbs\": 3525, \"Acceleration\": 19.0, \"Year\": \"1977-01-01T00:00:00\", \"Origin\": \"USA\"}, {\"Name\": \"pontiac grand prix lj\", \"Miles_per_Gallon\": 16.0, \"Cylinders\": 8, \"Displacement\": 400.0, \"Horsepower\": 180.0, \"Weight_in_lbs\": 4220, \"Acceleration\": 11.1, \"Year\": \"1977-01-01T00:00:00\", \"Origin\": \"USA\"}, {\"Name\": \"chevrolet monte carlo landau\", \"Miles_per_Gallon\": 15.5, \"Cylinders\": 8, \"Displacement\": 350.0, \"Horsepower\": 170.0, \"Weight_in_lbs\": 4165, \"Acceleration\": 11.4, \"Year\": \"1977-01-01T00:00:00\", \"Origin\": \"USA\"}, {\"Name\": \"chrysler cordoba\", \"Miles_per_Gallon\": 15.5, \"Cylinders\": 8, \"Displacement\": 400.0, \"Horsepower\": 190.0, \"Weight_in_lbs\": 4325, \"Acceleration\": 12.2, \"Year\": \"1977-01-01T00:00:00\", \"Origin\": \"USA\"}, {\"Name\": \"ford thunderbird\", \"Miles_per_Gallon\": 16.0, \"Cylinders\": 8, \"Displacement\": 351.0, \"Horsepower\": 149.0, \"Weight_in_lbs\": 4335, \"Acceleration\": 14.5, \"Year\": \"1977-01-01T00:00:00\", \"Origin\": \"USA\"}, {\"Name\": \"volkswagen rabbit custom\", \"Miles_per_Gallon\": 29.0, \"Cylinders\": 4, \"Displacement\": 97.0, \"Horsepower\": 78.0, \"Weight_in_lbs\": 1940, \"Acceleration\": 14.5, \"Year\": \"1977-01-01T00:00:00\", \"Origin\": \"Europe\"}, {\"Name\": \"pontiac sunbird coupe\", \"Miles_per_Gallon\": 24.5, \"Cylinders\": 4, \"Displacement\": 151.0, \"Horsepower\": 88.0, \"Weight_in_lbs\": 2740, \"Acceleration\": 16.0, \"Year\": \"1977-01-01T00:00:00\", \"Origin\": \"USA\"}, {\"Name\": \"toyota corolla liftback\", \"Miles_per_Gallon\": 26.0, \"Cylinders\": 4, \"Displacement\": 97.0, \"Horsepower\": 75.0, \"Weight_in_lbs\": 2265, \"Acceleration\": 18.2, \"Year\": \"1977-01-01T00:00:00\", \"Origin\": \"Japan\"}, {\"Name\": \"ford mustang ii 2+2\", \"Miles_per_Gallon\": 25.5, \"Cylinders\": 4, \"Displacement\": 140.0, \"Horsepower\": 89.0, \"Weight_in_lbs\": 2755, \"Acceleration\": 15.8, \"Year\": \"1977-01-01T00:00:00\", \"Origin\": \"USA\"}, {\"Name\": \"chevrolet chevette\", \"Miles_per_Gallon\": 30.5, \"Cylinders\": 4, \"Displacement\": 98.0, \"Horsepower\": 63.0, \"Weight_in_lbs\": 2051, \"Acceleration\": 17.0, \"Year\": \"1977-01-01T00:00:00\", \"Origin\": \"USA\"}, {\"Name\": \"dodge colt m/m\", \"Miles_per_Gallon\": 33.5, \"Cylinders\": 4, \"Displacement\": 98.0, \"Horsepower\": 83.0, \"Weight_in_lbs\": 2075, \"Acceleration\": 15.9, \"Year\": \"1977-01-01T00:00:00\", \"Origin\": \"USA\"}, {\"Name\": \"subaru dl\", \"Miles_per_Gallon\": 30.0, \"Cylinders\": 4, \"Displacement\": 97.0, \"Horsepower\": 67.0, \"Weight_in_lbs\": 1985, \"Acceleration\": 16.4, \"Year\": \"1977-01-01T00:00:00\", \"Origin\": \"Japan\"}, {\"Name\": \"volkswagen dasher\", \"Miles_per_Gallon\": 30.5, \"Cylinders\": 4, \"Displacement\": 97.0, \"Horsepower\": 78.0, \"Weight_in_lbs\": 2190, \"Acceleration\": 14.1, \"Year\": \"1977-01-01T00:00:00\", \"Origin\": \"Europe\"}, {\"Name\": \"datsun 810\", \"Miles_per_Gallon\": 22.0, \"Cylinders\": 6, \"Displacement\": 146.0, \"Horsepower\": 97.0, \"Weight_in_lbs\": 2815, \"Acceleration\": 14.5, \"Year\": \"1977-01-01T00:00:00\", \"Origin\": \"Japan\"}, {\"Name\": \"bmw 320i\", \"Miles_per_Gallon\": 21.5, \"Cylinders\": 4, \"Displacement\": 121.0, \"Horsepower\": 110.0, \"Weight_in_lbs\": 2600, \"Acceleration\": 12.8, \"Year\": \"1977-01-01T00:00:00\", \"Origin\": \"Europe\"}, {\"Name\": \"mazda rx-4\", \"Miles_per_Gallon\": 21.5, \"Cylinders\": 3, \"Displacement\": 80.0, \"Horsepower\": 110.0, \"Weight_in_lbs\": 2720, \"Acceleration\": 13.5, \"Year\": \"1977-01-01T00:00:00\", \"Origin\": \"Japan\"}, {\"Name\": \"volkswagen rabbit custom diesel\", \"Miles_per_Gallon\": 43.1, \"Cylinders\": 4, \"Displacement\": 90.0, \"Horsepower\": 48.0, \"Weight_in_lbs\": 1985, \"Acceleration\": 21.5, \"Year\": \"1978-01-01T00:00:00\", \"Origin\": \"Europe\"}, {\"Name\": \"ford fiesta\", \"Miles_per_Gallon\": 36.1, \"Cylinders\": 4, \"Displacement\": 98.0, \"Horsepower\": 66.0, \"Weight_in_lbs\": 1800, \"Acceleration\": 14.4, \"Year\": \"1978-01-01T00:00:00\", \"Origin\": \"USA\"}, {\"Name\": \"mazda glc deluxe\", \"Miles_per_Gallon\": 32.8, \"Cylinders\": 4, \"Displacement\": 78.0, \"Horsepower\": 52.0, \"Weight_in_lbs\": 1985, \"Acceleration\": 19.4, \"Year\": \"1978-01-01T00:00:00\", \"Origin\": \"Japan\"}, {\"Name\": \"datsun b210 gx\", \"Miles_per_Gallon\": 39.4, \"Cylinders\": 4, \"Displacement\": 85.0, \"Horsepower\": 70.0, \"Weight_in_lbs\": 2070, \"Acceleration\": 18.6, \"Year\": \"1978-01-01T00:00:00\", \"Origin\": \"Japan\"}, {\"Name\": \"honda civic cvcc\", \"Miles_per_Gallon\": 36.1, \"Cylinders\": 4, \"Displacement\": 91.0, \"Horsepower\": 60.0, \"Weight_in_lbs\": 1800, \"Acceleration\": 16.4, \"Year\": \"1978-01-01T00:00:00\", \"Origin\": \"Japan\"}, {\"Name\": \"oldsmobile cutlass salon brougham\", \"Miles_per_Gallon\": 19.9, \"Cylinders\": 8, \"Displacement\": 260.0, \"Horsepower\": 110.0, \"Weight_in_lbs\": 3365, \"Acceleration\": 15.5, \"Year\": \"1978-01-01T00:00:00\", \"Origin\": \"USA\"}, {\"Name\": \"dodge diplomat\", \"Miles_per_Gallon\": 19.4, \"Cylinders\": 8, \"Displacement\": 318.0, \"Horsepower\": 140.0, \"Weight_in_lbs\": 3735, \"Acceleration\": 13.2, \"Year\": \"1978-01-01T00:00:00\", \"Origin\": \"USA\"}, {\"Name\": \"mercury monarch ghia\", \"Miles_per_Gallon\": 20.2, \"Cylinders\": 8, \"Displacement\": 302.0, \"Horsepower\": 139.0, \"Weight_in_lbs\": 3570, \"Acceleration\": 12.8, \"Year\": \"1978-01-01T00:00:00\", \"Origin\": \"USA\"}, {\"Name\": \"pontiac phoenix lj\", \"Miles_per_Gallon\": 19.2, \"Cylinders\": 6, \"Displacement\": 231.0, \"Horsepower\": 105.0, \"Weight_in_lbs\": 3535, \"Acceleration\": 19.2, \"Year\": \"1978-01-01T00:00:00\", \"Origin\": \"USA\"}, {\"Name\": \"chevrolet malibu\", \"Miles_per_Gallon\": 20.5, \"Cylinders\": 6, \"Displacement\": 200.0, \"Horsepower\": 95.0, \"Weight_in_lbs\": 3155, \"Acceleration\": 18.2, \"Year\": \"1978-01-01T00:00:00\", \"Origin\": \"USA\"}, {\"Name\": \"ford fairmont (auto)\", \"Miles_per_Gallon\": 20.2, \"Cylinders\": 6, \"Displacement\": 200.0, \"Horsepower\": 85.0, \"Weight_in_lbs\": 2965, \"Acceleration\": 15.8, \"Year\": \"1978-01-01T00:00:00\", \"Origin\": \"USA\"}, {\"Name\": \"ford fairmont (man)\", \"Miles_per_Gallon\": 25.1, \"Cylinders\": 4, \"Displacement\": 140.0, \"Horsepower\": 88.0, \"Weight_in_lbs\": 2720, \"Acceleration\": 15.4, \"Year\": \"1978-01-01T00:00:00\", \"Origin\": \"USA\"}, {\"Name\": \"plymouth volare\", \"Miles_per_Gallon\": 20.5, \"Cylinders\": 6, \"Displacement\": 225.0, \"Horsepower\": 100.0, \"Weight_in_lbs\": 3430, \"Acceleration\": 17.2, \"Year\": \"1978-01-01T00:00:00\", \"Origin\": \"USA\"}, {\"Name\": \"amc concord\", \"Miles_per_Gallon\": 19.4, \"Cylinders\": 6, \"Displacement\": 232.0, \"Horsepower\": 90.0, \"Weight_in_lbs\": 3210, \"Acceleration\": 17.2, \"Year\": \"1978-01-01T00:00:00\", \"Origin\": \"USA\"}, {\"Name\": \"buick century special\", \"Miles_per_Gallon\": 20.6, \"Cylinders\": 6, \"Displacement\": 231.0, \"Horsepower\": 105.0, \"Weight_in_lbs\": 3380, \"Acceleration\": 15.8, \"Year\": \"1978-01-01T00:00:00\", \"Origin\": \"USA\"}, {\"Name\": \"mercury zephyr\", \"Miles_per_Gallon\": 20.8, \"Cylinders\": 6, \"Displacement\": 200.0, \"Horsepower\": 85.0, \"Weight_in_lbs\": 3070, \"Acceleration\": 16.7, \"Year\": \"1978-01-01T00:00:00\", \"Origin\": \"USA\"}, {\"Name\": \"dodge aspen\", \"Miles_per_Gallon\": 18.6, \"Cylinders\": 6, \"Displacement\": 225.0, \"Horsepower\": 110.0, \"Weight_in_lbs\": 3620, \"Acceleration\": 18.7, \"Year\": \"1978-01-01T00:00:00\", \"Origin\": \"USA\"}, {\"Name\": \"amc concord d/l\", \"Miles_per_Gallon\": 18.1, \"Cylinders\": 6, \"Displacement\": 258.0, \"Horsepower\": 120.0, \"Weight_in_lbs\": 3410, \"Acceleration\": 15.1, \"Year\": \"1978-01-01T00:00:00\", \"Origin\": \"USA\"}, {\"Name\": \"chevrolet monte carlo landau\", \"Miles_per_Gallon\": 19.2, \"Cylinders\": 8, \"Displacement\": 305.0, \"Horsepower\": 145.0, \"Weight_in_lbs\": 3425, \"Acceleration\": 13.2, \"Year\": \"1978-01-01T00:00:00\", \"Origin\": \"USA\"}, {\"Name\": \"buick regal sport coupe (turbo)\", \"Miles_per_Gallon\": 17.7, \"Cylinders\": 6, \"Displacement\": 231.0, \"Horsepower\": 165.0, \"Weight_in_lbs\": 3445, \"Acceleration\": 13.4, \"Year\": \"1978-01-01T00:00:00\", \"Origin\": \"USA\"}, {\"Name\": \"ford futura\", \"Miles_per_Gallon\": 18.1, \"Cylinders\": 8, \"Displacement\": 302.0, \"Horsepower\": 139.0, \"Weight_in_lbs\": 3205, \"Acceleration\": 11.2, \"Year\": \"1978-01-01T00:00:00\", \"Origin\": \"USA\"}, {\"Name\": \"dodge magnum xe\", \"Miles_per_Gallon\": 17.5, \"Cylinders\": 8, \"Displacement\": 318.0, \"Horsepower\": 140.0, \"Weight_in_lbs\": 4080, \"Acceleration\": 13.7, \"Year\": \"1978-01-01T00:00:00\", \"Origin\": \"USA\"}, {\"Name\": \"chevrolet chevette\", \"Miles_per_Gallon\": 30.0, \"Cylinders\": 4, \"Displacement\": 98.0, \"Horsepower\": 68.0, \"Weight_in_lbs\": 2155, \"Acceleration\": 16.5, \"Year\": \"1978-01-01T00:00:00\", \"Origin\": \"USA\"}, {\"Name\": \"toyota corona\", \"Miles_per_Gallon\": 27.5, \"Cylinders\": 4, \"Displacement\": 134.0, \"Horsepower\": 95.0, \"Weight_in_lbs\": 2560, \"Acceleration\": 14.2, \"Year\": \"1978-01-01T00:00:00\", \"Origin\": \"Japan\"}, {\"Name\": \"datsun 510\", \"Miles_per_Gallon\": 27.2, \"Cylinders\": 4, \"Displacement\": 119.0, \"Horsepower\": 97.0, \"Weight_in_lbs\": 2300, \"Acceleration\": 14.7, \"Year\": \"1978-01-01T00:00:00\", \"Origin\": \"Japan\"}, {\"Name\": \"dodge omni\", \"Miles_per_Gallon\": 30.9, \"Cylinders\": 4, \"Displacement\": 105.0, \"Horsepower\": 75.0, \"Weight_in_lbs\": 2230, \"Acceleration\": 14.5, \"Year\": \"1978-01-01T00:00:00\", \"Origin\": \"USA\"}, {\"Name\": \"toyota celica gt liftback\", \"Miles_per_Gallon\": 21.1, \"Cylinders\": 4, \"Displacement\": 134.0, \"Horsepower\": 95.0, \"Weight_in_lbs\": 2515, \"Acceleration\": 14.8, \"Year\": \"1978-01-01T00:00:00\", \"Origin\": \"Japan\"}, {\"Name\": \"plymouth sapporo\", \"Miles_per_Gallon\": 23.2, \"Cylinders\": 4, \"Displacement\": 156.0, \"Horsepower\": 105.0, \"Weight_in_lbs\": 2745, \"Acceleration\": 16.7, \"Year\": \"1978-01-01T00:00:00\", \"Origin\": \"USA\"}, {\"Name\": \"oldsmobile starfire sx\", \"Miles_per_Gallon\": 23.8, \"Cylinders\": 4, \"Displacement\": 151.0, \"Horsepower\": 85.0, \"Weight_in_lbs\": 2855, \"Acceleration\": 17.6, \"Year\": \"1978-01-01T00:00:00\", \"Origin\": \"USA\"}, {\"Name\": \"datsun 200-sx\", \"Miles_per_Gallon\": 23.9, \"Cylinders\": 4, \"Displacement\": 119.0, \"Horsepower\": 97.0, \"Weight_in_lbs\": 2405, \"Acceleration\": 14.9, \"Year\": \"1978-01-01T00:00:00\", \"Origin\": \"Japan\"}, {\"Name\": \"audi 5000\", \"Miles_per_Gallon\": 20.3, \"Cylinders\": 5, \"Displacement\": 131.0, \"Horsepower\": 103.0, \"Weight_in_lbs\": 2830, \"Acceleration\": 15.9, \"Year\": \"1978-01-01T00:00:00\", \"Origin\": \"Europe\"}, {\"Name\": \"volvo 264gl\", \"Miles_per_Gallon\": 17.0, \"Cylinders\": 6, \"Displacement\": 163.0, \"Horsepower\": 125.0, \"Weight_in_lbs\": 3140, \"Acceleration\": 13.6, \"Year\": \"1978-01-01T00:00:00\", \"Origin\": \"Europe\"}, {\"Name\": \"saab 99gle\", \"Miles_per_Gallon\": 21.6, \"Cylinders\": 4, \"Displacement\": 121.0, \"Horsepower\": 115.0, \"Weight_in_lbs\": 2795, \"Acceleration\": 15.7, \"Year\": \"1978-01-01T00:00:00\", \"Origin\": \"Europe\"}, {\"Name\": \"peugeot 604sl\", \"Miles_per_Gallon\": 16.2, \"Cylinders\": 6, \"Displacement\": 163.0, \"Horsepower\": 133.0, \"Weight_in_lbs\": 3410, \"Acceleration\": 15.8, \"Year\": \"1978-01-01T00:00:00\", \"Origin\": \"Europe\"}, {\"Name\": \"volkswagen scirocco\", \"Miles_per_Gallon\": 31.5, \"Cylinders\": 4, \"Displacement\": 89.0, \"Horsepower\": 71.0, \"Weight_in_lbs\": 1990, \"Acceleration\": 14.9, \"Year\": \"1978-01-01T00:00:00\", \"Origin\": \"Europe\"}, {\"Name\": \"honda Accelerationord lx\", \"Miles_per_Gallon\": 29.5, \"Cylinders\": 4, \"Displacement\": 98.0, \"Horsepower\": 68.0, \"Weight_in_lbs\": 2135, \"Acceleration\": 16.6, \"Year\": \"1978-01-01T00:00:00\", \"Origin\": \"Japan\"}, {\"Name\": \"pontiac lemans v6\", \"Miles_per_Gallon\": 21.5, \"Cylinders\": 6, \"Displacement\": 231.0, \"Horsepower\": 115.0, \"Weight_in_lbs\": 3245, \"Acceleration\": 15.4, \"Year\": \"1979-01-01T00:00:00\", \"Origin\": \"USA\"}, {\"Name\": \"mercury zephyr 6\", \"Miles_per_Gallon\": 19.8, \"Cylinders\": 6, \"Displacement\": 200.0, \"Horsepower\": 85.0, \"Weight_in_lbs\": 2990, \"Acceleration\": 18.2, \"Year\": \"1979-01-01T00:00:00\", \"Origin\": \"USA\"}, {\"Name\": \"ford fairmont 4\", \"Miles_per_Gallon\": 22.3, \"Cylinders\": 4, \"Displacement\": 140.0, \"Horsepower\": 88.0, \"Weight_in_lbs\": 2890, \"Acceleration\": 17.3, \"Year\": \"1979-01-01T00:00:00\", \"Origin\": \"USA\"}, {\"Name\": \"amc concord dl 6\", \"Miles_per_Gallon\": 20.2, \"Cylinders\": 6, \"Displacement\": 232.0, \"Horsepower\": 90.0, \"Weight_in_lbs\": 3265, \"Acceleration\": 18.2, \"Year\": \"1979-01-01T00:00:00\", \"Origin\": \"USA\"}, {\"Name\": \"dodge aspen 6\", \"Miles_per_Gallon\": 20.6, \"Cylinders\": 6, \"Displacement\": 225.0, \"Horsepower\": 110.0, \"Weight_in_lbs\": 3360, \"Acceleration\": 16.6, \"Year\": \"1979-01-01T00:00:00\", \"Origin\": \"USA\"}, {\"Name\": \"chevrolet caprice classic\", \"Miles_per_Gallon\": 17.0, \"Cylinders\": 8, \"Displacement\": 305.0, \"Horsepower\": 130.0, \"Weight_in_lbs\": 3840, \"Acceleration\": 15.4, \"Year\": \"1979-01-01T00:00:00\", \"Origin\": \"USA\"}, {\"Name\": \"ford ltd landau\", \"Miles_per_Gallon\": 17.6, \"Cylinders\": 8, \"Displacement\": 302.0, \"Horsepower\": 129.0, \"Weight_in_lbs\": 3725, \"Acceleration\": 13.4, \"Year\": \"1979-01-01T00:00:00\", \"Origin\": \"USA\"}, {\"Name\": \"mercury grand marquis\", \"Miles_per_Gallon\": 16.5, \"Cylinders\": 8, \"Displacement\": 351.0, \"Horsepower\": 138.0, \"Weight_in_lbs\": 3955, \"Acceleration\": 13.2, \"Year\": \"1979-01-01T00:00:00\", \"Origin\": \"USA\"}, {\"Name\": \"dodge st. regis\", \"Miles_per_Gallon\": 18.2, \"Cylinders\": 8, \"Displacement\": 318.0, \"Horsepower\": 135.0, \"Weight_in_lbs\": 3830, \"Acceleration\": 15.2, \"Year\": \"1979-01-01T00:00:00\", \"Origin\": \"USA\"}, {\"Name\": \"buick estate wagon (sw)\", \"Miles_per_Gallon\": 16.9, \"Cylinders\": 8, \"Displacement\": 350.0, \"Horsepower\": 155.0, \"Weight_in_lbs\": 4360, \"Acceleration\": 14.9, \"Year\": \"1979-01-01T00:00:00\", \"Origin\": \"USA\"}, {\"Name\": \"ford country squire (sw)\", \"Miles_per_Gallon\": 15.5, \"Cylinders\": 8, \"Displacement\": 351.0, \"Horsepower\": 142.0, \"Weight_in_lbs\": 4054, \"Acceleration\": 14.3, \"Year\": \"1979-01-01T00:00:00\", \"Origin\": \"USA\"}, {\"Name\": \"chevrolet malibu classic (sw)\", \"Miles_per_Gallon\": 19.2, \"Cylinders\": 8, \"Displacement\": 267.0, \"Horsepower\": 125.0, \"Weight_in_lbs\": 3605, \"Acceleration\": 15.0, \"Year\": \"1979-01-01T00:00:00\", \"Origin\": \"USA\"}, {\"Name\": \"chrysler lebaron town @ country (sw)\", \"Miles_per_Gallon\": 18.5, \"Cylinders\": 8, \"Displacement\": 360.0, \"Horsepower\": 150.0, \"Weight_in_lbs\": 3940, \"Acceleration\": 13.0, \"Year\": \"1979-01-01T00:00:00\", \"Origin\": \"USA\"}, {\"Name\": \"vw rabbit custom\", \"Miles_per_Gallon\": 31.9, \"Cylinders\": 4, \"Displacement\": 89.0, \"Horsepower\": 71.0, \"Weight_in_lbs\": 1925, \"Acceleration\": 14.0, \"Year\": \"1979-01-01T00:00:00\", \"Origin\": \"Europe\"}, {\"Name\": \"maxda glc deluxe\", \"Miles_per_Gallon\": 34.1, \"Cylinders\": 4, \"Displacement\": 86.0, \"Horsepower\": 65.0, \"Weight_in_lbs\": 1975, \"Acceleration\": 15.2, \"Year\": \"1979-01-01T00:00:00\", \"Origin\": \"Japan\"}, {\"Name\": \"dodge colt hatchback custom\", \"Miles_per_Gallon\": 35.7, \"Cylinders\": 4, \"Displacement\": 98.0, \"Horsepower\": 80.0, \"Weight_in_lbs\": 1915, \"Acceleration\": 14.4, \"Year\": \"1979-01-01T00:00:00\", \"Origin\": \"USA\"}, {\"Name\": \"amc spirit dl\", \"Miles_per_Gallon\": 27.4, \"Cylinders\": 4, \"Displacement\": 121.0, \"Horsepower\": 80.0, \"Weight_in_lbs\": 2670, \"Acceleration\": 15.0, \"Year\": \"1979-01-01T00:00:00\", \"Origin\": \"USA\"}, {\"Name\": \"mercedes benz 300d\", \"Miles_per_Gallon\": 25.4, \"Cylinders\": 5, \"Displacement\": 183.0, \"Horsepower\": 77.0, \"Weight_in_lbs\": 3530, \"Acceleration\": 20.1, \"Year\": \"1979-01-01T00:00:00\", \"Origin\": \"Europe\"}, {\"Name\": \"cadillac eldorado\", \"Miles_per_Gallon\": 23.0, \"Cylinders\": 8, \"Displacement\": 350.0, \"Horsepower\": 125.0, \"Weight_in_lbs\": 3900, \"Acceleration\": 17.4, \"Year\": \"1979-01-01T00:00:00\", \"Origin\": \"USA\"}, {\"Name\": \"peugeot 504\", \"Miles_per_Gallon\": 27.2, \"Cylinders\": 4, \"Displacement\": 141.0, \"Horsepower\": 71.0, \"Weight_in_lbs\": 3190, \"Acceleration\": 24.8, \"Year\": \"1979-01-01T00:00:00\", \"Origin\": \"Europe\"}, {\"Name\": \"oldsmobile cutlass salon brougham\", \"Miles_per_Gallon\": 23.9, \"Cylinders\": 8, \"Displacement\": 260.0, \"Horsepower\": 90.0, \"Weight_in_lbs\": 3420, \"Acceleration\": 22.2, \"Year\": \"1979-01-01T00:00:00\", \"Origin\": \"USA\"}, {\"Name\": \"plymouth horizon\", \"Miles_per_Gallon\": 34.2, \"Cylinders\": 4, \"Displacement\": 105.0, \"Horsepower\": 70.0, \"Weight_in_lbs\": 2200, \"Acceleration\": 13.2, \"Year\": \"1979-01-01T00:00:00\", \"Origin\": \"USA\"}, {\"Name\": \"plymouth horizon tc3\", \"Miles_per_Gallon\": 34.5, \"Cylinders\": 4, \"Displacement\": 105.0, \"Horsepower\": 70.0, \"Weight_in_lbs\": 2150, \"Acceleration\": 14.9, \"Year\": \"1979-01-01T00:00:00\", \"Origin\": \"USA\"}, {\"Name\": \"datsun 210\", \"Miles_per_Gallon\": 31.8, \"Cylinders\": 4, \"Displacement\": 85.0, \"Horsepower\": 65.0, \"Weight_in_lbs\": 2020, \"Acceleration\": 19.2, \"Year\": \"1979-01-01T00:00:00\", \"Origin\": \"Japan\"}, {\"Name\": \"fiat strada custom\", \"Miles_per_Gallon\": 37.3, \"Cylinders\": 4, \"Displacement\": 91.0, \"Horsepower\": 69.0, \"Weight_in_lbs\": 2130, \"Acceleration\": 14.7, \"Year\": \"1979-01-01T00:00:00\", \"Origin\": \"Europe\"}, {\"Name\": \"buick skylark limited\", \"Miles_per_Gallon\": 28.4, \"Cylinders\": 4, \"Displacement\": 151.0, \"Horsepower\": 90.0, \"Weight_in_lbs\": 2670, \"Acceleration\": 16.0, \"Year\": \"1979-01-01T00:00:00\", \"Origin\": \"USA\"}, {\"Name\": \"chevrolet citation\", \"Miles_per_Gallon\": 28.8, \"Cylinders\": 6, \"Displacement\": 173.0, \"Horsepower\": 115.0, \"Weight_in_lbs\": 2595, \"Acceleration\": 11.3, \"Year\": \"1979-01-01T00:00:00\", \"Origin\": \"USA\"}, {\"Name\": \"oldsmobile omega brougham\", \"Miles_per_Gallon\": 26.8, \"Cylinders\": 6, \"Displacement\": 173.0, \"Horsepower\": 115.0, \"Weight_in_lbs\": 2700, \"Acceleration\": 12.9, \"Year\": \"1979-01-01T00:00:00\", \"Origin\": \"USA\"}, {\"Name\": \"pontiac phoenix\", \"Miles_per_Gallon\": 33.5, \"Cylinders\": 4, \"Displacement\": 151.0, \"Horsepower\": 90.0, \"Weight_in_lbs\": 2556, \"Acceleration\": 13.2, \"Year\": \"1979-01-01T00:00:00\", \"Origin\": \"USA\"}, {\"Name\": \"vw rabbit\", \"Miles_per_Gallon\": 41.5, \"Cylinders\": 4, \"Displacement\": 98.0, \"Horsepower\": 76.0, \"Weight_in_lbs\": 2144, \"Acceleration\": 14.7, \"Year\": \"1980-01-01T00:00:00\", \"Origin\": \"Europe\"}, {\"Name\": \"toyota corolla tercel\", \"Miles_per_Gallon\": 38.1, \"Cylinders\": 4, \"Displacement\": 89.0, \"Horsepower\": 60.0, \"Weight_in_lbs\": 1968, \"Acceleration\": 18.8, \"Year\": \"1980-01-01T00:00:00\", \"Origin\": \"Japan\"}, {\"Name\": \"chevrolet chevette\", \"Miles_per_Gallon\": 32.1, \"Cylinders\": 4, \"Displacement\": 98.0, \"Horsepower\": 70.0, \"Weight_in_lbs\": 2120, \"Acceleration\": 15.5, \"Year\": \"1980-01-01T00:00:00\", \"Origin\": \"USA\"}, {\"Name\": \"datsun 310\", \"Miles_per_Gallon\": 37.2, \"Cylinders\": 4, \"Displacement\": 86.0, \"Horsepower\": 65.0, \"Weight_in_lbs\": 2019, \"Acceleration\": 16.4, \"Year\": \"1980-01-01T00:00:00\", \"Origin\": \"Japan\"}, {\"Name\": \"chevrolet citation\", \"Miles_per_Gallon\": 28.0, \"Cylinders\": 4, \"Displacement\": 151.0, \"Horsepower\": 90.0, \"Weight_in_lbs\": 2678, \"Acceleration\": 16.5, \"Year\": \"1980-01-01T00:00:00\", \"Origin\": \"USA\"}, {\"Name\": \"ford fairmont\", \"Miles_per_Gallon\": 26.4, \"Cylinders\": 4, \"Displacement\": 140.0, \"Horsepower\": 88.0, \"Weight_in_lbs\": 2870, \"Acceleration\": 18.1, \"Year\": \"1980-01-01T00:00:00\", \"Origin\": \"USA\"}, {\"Name\": \"amc concord\", \"Miles_per_Gallon\": 24.3, \"Cylinders\": 4, \"Displacement\": 151.0, \"Horsepower\": 90.0, \"Weight_in_lbs\": 3003, \"Acceleration\": 20.1, \"Year\": \"1980-01-01T00:00:00\", \"Origin\": \"USA\"}, {\"Name\": \"dodge aspen\", \"Miles_per_Gallon\": 19.1, \"Cylinders\": 6, \"Displacement\": 225.0, \"Horsepower\": 90.0, \"Weight_in_lbs\": 3381, \"Acceleration\": 18.7, \"Year\": \"1980-01-01T00:00:00\", \"Origin\": \"USA\"}, {\"Name\": \"audi 4000\", \"Miles_per_Gallon\": 34.3, \"Cylinders\": 4, \"Displacement\": 97.0, \"Horsepower\": 78.0, \"Weight_in_lbs\": 2188, \"Acceleration\": 15.8, \"Year\": \"1980-01-01T00:00:00\", \"Origin\": \"Europe\"}, {\"Name\": \"toyota corona liftback\", \"Miles_per_Gallon\": 29.8, \"Cylinders\": 4, \"Displacement\": 134.0, \"Horsepower\": 90.0, \"Weight_in_lbs\": 2711, \"Acceleration\": 15.5, \"Year\": \"1980-01-01T00:00:00\", \"Origin\": \"Japan\"}, {\"Name\": \"mazda 626\", \"Miles_per_Gallon\": 31.3, \"Cylinders\": 4, \"Displacement\": 120.0, \"Horsepower\": 75.0, \"Weight_in_lbs\": 2542, \"Acceleration\": 17.5, \"Year\": \"1980-01-01T00:00:00\", \"Origin\": \"Japan\"}, {\"Name\": \"datsun 510 hatchback\", \"Miles_per_Gallon\": 37.0, \"Cylinders\": 4, \"Displacement\": 119.0, \"Horsepower\": 92.0, \"Weight_in_lbs\": 2434, \"Acceleration\": 15.0, \"Year\": \"1980-01-01T00:00:00\", \"Origin\": \"Japan\"}, {\"Name\": \"toyota corolla\", \"Miles_per_Gallon\": 32.2, \"Cylinders\": 4, \"Displacement\": 108.0, \"Horsepower\": 75.0, \"Weight_in_lbs\": 2265, \"Acceleration\": 15.2, \"Year\": \"1980-01-01T00:00:00\", \"Origin\": \"Japan\"}, {\"Name\": \"mazda glc\", \"Miles_per_Gallon\": 46.6, \"Cylinders\": 4, \"Displacement\": 86.0, \"Horsepower\": 65.0, \"Weight_in_lbs\": 2110, \"Acceleration\": 17.9, \"Year\": \"1980-01-01T00:00:00\", \"Origin\": \"Japan\"}, {\"Name\": \"dodge colt\", \"Miles_per_Gallon\": 27.9, \"Cylinders\": 4, \"Displacement\": 156.0, \"Horsepower\": 105.0, \"Weight_in_lbs\": 2800, \"Acceleration\": 14.4, \"Year\": \"1980-01-01T00:00:00\", \"Origin\": \"USA\"}, {\"Name\": \"datsun 210\", \"Miles_per_Gallon\": 40.8, \"Cylinders\": 4, \"Displacement\": 85.0, \"Horsepower\": 65.0, \"Weight_in_lbs\": 2110, \"Acceleration\": 19.2, \"Year\": \"1980-01-01T00:00:00\", \"Origin\": \"Japan\"}, {\"Name\": \"vw rabbit c (diesel)\", \"Miles_per_Gallon\": 44.3, \"Cylinders\": 4, \"Displacement\": 90.0, \"Horsepower\": 48.0, \"Weight_in_lbs\": 2085, \"Acceleration\": 21.7, \"Year\": \"1980-01-01T00:00:00\", \"Origin\": \"Europe\"}, {\"Name\": \"vw dasher (diesel)\", \"Miles_per_Gallon\": 43.4, \"Cylinders\": 4, \"Displacement\": 90.0, \"Horsepower\": 48.0, \"Weight_in_lbs\": 2335, \"Acceleration\": 23.7, \"Year\": \"1980-01-01T00:00:00\", \"Origin\": \"Europe\"}, {\"Name\": \"audi 5000s (diesel)\", \"Miles_per_Gallon\": 36.4, \"Cylinders\": 5, \"Displacement\": 121.0, \"Horsepower\": 67.0, \"Weight_in_lbs\": 2950, \"Acceleration\": 19.9, \"Year\": \"1980-01-01T00:00:00\", \"Origin\": \"Europe\"}, {\"Name\": \"mercedes-benz 240d\", \"Miles_per_Gallon\": 30.0, \"Cylinders\": 4, \"Displacement\": 146.0, \"Horsepower\": 67.0, \"Weight_in_lbs\": 3250, \"Acceleration\": 21.8, \"Year\": \"1980-01-01T00:00:00\", \"Origin\": \"Europe\"}, {\"Name\": \"honda civic 1500 gl\", \"Miles_per_Gallon\": 44.6, \"Cylinders\": 4, \"Displacement\": 91.0, \"Horsepower\": 67.0, \"Weight_in_lbs\": 1850, \"Acceleration\": 13.8, \"Year\": \"1980-01-01T00:00:00\", \"Origin\": \"Japan\"}, {\"Name\": \"renault lecar deluxe\", \"Miles_per_Gallon\": 40.9, \"Cylinders\": 4, \"Displacement\": 85.0, \"Horsepower\": null, \"Weight_in_lbs\": 1835, \"Acceleration\": 17.3, \"Year\": \"1980-01-01T00:00:00\", \"Origin\": \"Europe\"}, {\"Name\": \"subaru dl\", \"Miles_per_Gallon\": 33.8, \"Cylinders\": 4, \"Displacement\": 97.0, \"Horsepower\": 67.0, \"Weight_in_lbs\": 2145, \"Acceleration\": 18.0, \"Year\": \"1980-01-01T00:00:00\", \"Origin\": \"Japan\"}, {\"Name\": \"vokswagen rabbit\", \"Miles_per_Gallon\": 29.8, \"Cylinders\": 4, \"Displacement\": 89.0, \"Horsepower\": 62.0, \"Weight_in_lbs\": 1845, \"Acceleration\": 15.3, \"Year\": \"1980-01-01T00:00:00\", \"Origin\": \"Europe\"}, {\"Name\": \"datsun 280-zx\", \"Miles_per_Gallon\": 32.7, \"Cylinders\": 6, \"Displacement\": 168.0, \"Horsepower\": 132.0, \"Weight_in_lbs\": 2910, \"Acceleration\": 11.4, \"Year\": \"1980-01-01T00:00:00\", \"Origin\": \"Japan\"}, {\"Name\": \"mazda rx-7 gs\", \"Miles_per_Gallon\": 23.7, \"Cylinders\": 3, \"Displacement\": 70.0, \"Horsepower\": 100.0, \"Weight_in_lbs\": 2420, \"Acceleration\": 12.5, \"Year\": \"1980-01-01T00:00:00\", \"Origin\": \"Japan\"}, {\"Name\": \"triumph tr7 coupe\", \"Miles_per_Gallon\": 35.0, \"Cylinders\": 4, \"Displacement\": 122.0, \"Horsepower\": 88.0, \"Weight_in_lbs\": 2500, \"Acceleration\": 15.1, \"Year\": \"1980-01-01T00:00:00\", \"Origin\": \"Europe\"}, {\"Name\": \"ford mustang cobra\", \"Miles_per_Gallon\": 23.6, \"Cylinders\": 4, \"Displacement\": 140.0, \"Horsepower\": null, \"Weight_in_lbs\": 2905, \"Acceleration\": 14.3, \"Year\": \"1980-01-01T00:00:00\", \"Origin\": \"USA\"}, {\"Name\": \"honda Accelerationord\", \"Miles_per_Gallon\": 32.4, \"Cylinders\": 4, \"Displacement\": 107.0, \"Horsepower\": 72.0, \"Weight_in_lbs\": 2290, \"Acceleration\": 17.0, \"Year\": \"1980-01-01T00:00:00\", \"Origin\": \"Japan\"}, {\"Name\": \"plymouth reliant\", \"Miles_per_Gallon\": 27.2, \"Cylinders\": 4, \"Displacement\": 135.0, \"Horsepower\": 84.0, \"Weight_in_lbs\": 2490, \"Acceleration\": 15.7, \"Year\": \"1982-01-01T00:00:00\", \"Origin\": \"USA\"}, {\"Name\": \"buick skylark\", \"Miles_per_Gallon\": 26.6, \"Cylinders\": 4, \"Displacement\": 151.0, \"Horsepower\": 84.0, \"Weight_in_lbs\": 2635, \"Acceleration\": 16.4, \"Year\": \"1982-01-01T00:00:00\", \"Origin\": \"USA\"}, {\"Name\": \"dodge aries wagon (sw)\", \"Miles_per_Gallon\": 25.8, \"Cylinders\": 4, \"Displacement\": 156.0, \"Horsepower\": 92.0, \"Weight_in_lbs\": 2620, \"Acceleration\": 14.4, \"Year\": \"1982-01-01T00:00:00\", \"Origin\": \"USA\"}, {\"Name\": \"chevrolet citation\", \"Miles_per_Gallon\": 23.5, \"Cylinders\": 6, \"Displacement\": 173.0, \"Horsepower\": 110.0, \"Weight_in_lbs\": 2725, \"Acceleration\": 12.6, \"Year\": \"1982-01-01T00:00:00\", \"Origin\": \"USA\"}, {\"Name\": \"plymouth reliant\", \"Miles_per_Gallon\": 30.0, \"Cylinders\": 4, \"Displacement\": 135.0, \"Horsepower\": 84.0, \"Weight_in_lbs\": 2385, \"Acceleration\": 12.9, \"Year\": \"1982-01-01T00:00:00\", \"Origin\": \"USA\"}, {\"Name\": \"toyota starlet\", \"Miles_per_Gallon\": 39.1, \"Cylinders\": 4, \"Displacement\": 79.0, \"Horsepower\": 58.0, \"Weight_in_lbs\": 1755, \"Acceleration\": 16.9, \"Year\": \"1982-01-01T00:00:00\", \"Origin\": \"Japan\"}, {\"Name\": \"plymouth champ\", \"Miles_per_Gallon\": 39.0, \"Cylinders\": 4, \"Displacement\": 86.0, \"Horsepower\": 64.0, \"Weight_in_lbs\": 1875, \"Acceleration\": 16.4, \"Year\": \"1982-01-01T00:00:00\", \"Origin\": \"USA\"}, {\"Name\": \"honda civic 1300\", \"Miles_per_Gallon\": 35.1, \"Cylinders\": 4, \"Displacement\": 81.0, \"Horsepower\": 60.0, \"Weight_in_lbs\": 1760, \"Acceleration\": 16.1, \"Year\": \"1982-01-01T00:00:00\", \"Origin\": \"Japan\"}, {\"Name\": \"subaru\", \"Miles_per_Gallon\": 32.3, \"Cylinders\": 4, \"Displacement\": 97.0, \"Horsepower\": 67.0, \"Weight_in_lbs\": 2065, \"Acceleration\": 17.8, \"Year\": \"1982-01-01T00:00:00\", \"Origin\": \"Japan\"}, {\"Name\": \"datsun 210\", \"Miles_per_Gallon\": 37.0, \"Cylinders\": 4, \"Displacement\": 85.0, \"Horsepower\": 65.0, \"Weight_in_lbs\": 1975, \"Acceleration\": 19.4, \"Year\": \"1982-01-01T00:00:00\", \"Origin\": \"Japan\"}, {\"Name\": \"toyota tercel\", \"Miles_per_Gallon\": 37.7, \"Cylinders\": 4, \"Displacement\": 89.0, \"Horsepower\": 62.0, \"Weight_in_lbs\": 2050, \"Acceleration\": 17.3, \"Year\": \"1982-01-01T00:00:00\", \"Origin\": \"Japan\"}, {\"Name\": \"mazda glc 4\", \"Miles_per_Gallon\": 34.1, \"Cylinders\": 4, \"Displacement\": 91.0, \"Horsepower\": 68.0, \"Weight_in_lbs\": 1985, \"Acceleration\": 16.0, \"Year\": \"1982-01-01T00:00:00\", \"Origin\": \"Japan\"}, {\"Name\": \"plymouth horizon 4\", \"Miles_per_Gallon\": 34.7, \"Cylinders\": 4, \"Displacement\": 105.0, \"Horsepower\": 63.0, \"Weight_in_lbs\": 2215, \"Acceleration\": 14.9, \"Year\": \"1982-01-01T00:00:00\", \"Origin\": \"USA\"}, {\"Name\": \"ford escort 4w\", \"Miles_per_Gallon\": 34.4, \"Cylinders\": 4, \"Displacement\": 98.0, \"Horsepower\": 65.0, \"Weight_in_lbs\": 2045, \"Acceleration\": 16.2, \"Year\": \"1982-01-01T00:00:00\", \"Origin\": \"USA\"}, {\"Name\": \"ford escort 2h\", \"Miles_per_Gallon\": 29.9, \"Cylinders\": 4, \"Displacement\": 98.0, \"Horsepower\": 65.0, \"Weight_in_lbs\": 2380, \"Acceleration\": 20.7, \"Year\": \"1982-01-01T00:00:00\", \"Origin\": \"USA\"}, {\"Name\": \"volkswagen jetta\", \"Miles_per_Gallon\": 33.0, \"Cylinders\": 4, \"Displacement\": 105.0, \"Horsepower\": 74.0, \"Weight_in_lbs\": 2190, \"Acceleration\": 14.2, \"Year\": \"1982-01-01T00:00:00\", \"Origin\": \"Europe\"}, {\"Name\": \"renault 18i\", \"Miles_per_Gallon\": 34.5, \"Cylinders\": 4, \"Displacement\": 100.0, \"Horsepower\": null, \"Weight_in_lbs\": 2320, \"Acceleration\": 15.8, \"Year\": \"1982-01-01T00:00:00\", \"Origin\": \"Europe\"}, {\"Name\": \"honda prelude\", \"Miles_per_Gallon\": 33.7, \"Cylinders\": 4, \"Displacement\": 107.0, \"Horsepower\": 75.0, \"Weight_in_lbs\": 2210, \"Acceleration\": 14.4, \"Year\": \"1982-01-01T00:00:00\", \"Origin\": \"Japan\"}, {\"Name\": \"toyota corolla\", \"Miles_per_Gallon\": 32.4, \"Cylinders\": 4, \"Displacement\": 108.0, \"Horsepower\": 75.0, \"Weight_in_lbs\": 2350, \"Acceleration\": 16.8, \"Year\": \"1982-01-01T00:00:00\", \"Origin\": \"Japan\"}, {\"Name\": \"datsun 200sx\", \"Miles_per_Gallon\": 32.9, \"Cylinders\": 4, \"Displacement\": 119.0, \"Horsepower\": 100.0, \"Weight_in_lbs\": 2615, \"Acceleration\": 14.8, \"Year\": \"1982-01-01T00:00:00\", \"Origin\": \"Japan\"}, {\"Name\": \"mazda 626\", \"Miles_per_Gallon\": 31.6, \"Cylinders\": 4, \"Displacement\": 120.0, \"Horsepower\": 74.0, \"Weight_in_lbs\": 2635, \"Acceleration\": 18.3, \"Year\": \"1982-01-01T00:00:00\", \"Origin\": \"Japan\"}, {\"Name\": \"peugeot 505s turbo diesel\", \"Miles_per_Gallon\": 28.1, \"Cylinders\": 4, \"Displacement\": 141.0, \"Horsepower\": 80.0, \"Weight_in_lbs\": 3230, \"Acceleration\": 20.4, \"Year\": \"1982-01-01T00:00:00\", \"Origin\": \"Europe\"}, {\"Name\": \"saab 900s\", \"Miles_per_Gallon\": null, \"Cylinders\": 4, \"Displacement\": 121.0, \"Horsepower\": 110.0, \"Weight_in_lbs\": 2800, \"Acceleration\": 15.4, \"Year\": \"1982-01-01T00:00:00\", \"Origin\": \"Europe\"}, {\"Name\": \"volvo diesel\", \"Miles_per_Gallon\": 30.7, \"Cylinders\": 6, \"Displacement\": 145.0, \"Horsepower\": 76.0, \"Weight_in_lbs\": 3160, \"Acceleration\": 19.6, \"Year\": \"1982-01-01T00:00:00\", \"Origin\": \"Europe\"}, {\"Name\": \"toyota cressida\", \"Miles_per_Gallon\": 25.4, \"Cylinders\": 6, \"Displacement\": 168.0, \"Horsepower\": 116.0, \"Weight_in_lbs\": 2900, \"Acceleration\": 12.6, \"Year\": \"1982-01-01T00:00:00\", \"Origin\": \"Japan\"}, {\"Name\": \"datsun 810 maxima\", \"Miles_per_Gallon\": 24.2, \"Cylinders\": 6, \"Displacement\": 146.0, \"Horsepower\": 120.0, \"Weight_in_lbs\": 2930, \"Acceleration\": 13.8, \"Year\": \"1982-01-01T00:00:00\", \"Origin\": \"Japan\"}, {\"Name\": \"buick century\", \"Miles_per_Gallon\": 22.4, \"Cylinders\": 6, \"Displacement\": 231.0, \"Horsepower\": 110.0, \"Weight_in_lbs\": 3415, \"Acceleration\": 15.8, \"Year\": \"1982-01-01T00:00:00\", \"Origin\": \"USA\"}, {\"Name\": \"oldsmobile cutlass ls\", \"Miles_per_Gallon\": 26.6, \"Cylinders\": 8, \"Displacement\": 350.0, \"Horsepower\": 105.0, \"Weight_in_lbs\": 3725, \"Acceleration\": 19.0, \"Year\": \"1982-01-01T00:00:00\", \"Origin\": \"USA\"}, {\"Name\": \"ford granada gl\", \"Miles_per_Gallon\": 20.2, \"Cylinders\": 6, \"Displacement\": 200.0, \"Horsepower\": 88.0, \"Weight_in_lbs\": 3060, \"Acceleration\": 17.1, \"Year\": \"1982-01-01T00:00:00\", \"Origin\": \"USA\"}, {\"Name\": \"chrysler lebaron salon\", \"Miles_per_Gallon\": 17.6, \"Cylinders\": 6, \"Displacement\": 225.0, \"Horsepower\": 85.0, \"Weight_in_lbs\": 3465, \"Acceleration\": 16.6, \"Year\": \"1982-01-01T00:00:00\", \"Origin\": \"USA\"}, {\"Name\": \"chevrolet cavalier\", \"Miles_per_Gallon\": 28.0, \"Cylinders\": 4, \"Displacement\": 112.0, \"Horsepower\": 88.0, \"Weight_in_lbs\": 2605, \"Acceleration\": 19.6, \"Year\": \"1982-01-01T00:00:00\", \"Origin\": \"USA\"}, {\"Name\": \"chevrolet cavalier wagon\", \"Miles_per_Gallon\": 27.0, \"Cylinders\": 4, \"Displacement\": 112.0, \"Horsepower\": 88.0, \"Weight_in_lbs\": 2640, \"Acceleration\": 18.6, \"Year\": \"1982-01-01T00:00:00\", \"Origin\": \"USA\"}, {\"Name\": \"chevrolet cavalier 2-door\", \"Miles_per_Gallon\": 34.0, \"Cylinders\": 4, \"Displacement\": 112.0, \"Horsepower\": 88.0, \"Weight_in_lbs\": 2395, \"Acceleration\": 18.0, \"Year\": \"1982-01-01T00:00:00\", \"Origin\": \"USA\"}, {\"Name\": \"pontiac j2000 se hatchback\", \"Miles_per_Gallon\": 31.0, \"Cylinders\": 4, \"Displacement\": 112.0, \"Horsepower\": 85.0, \"Weight_in_lbs\": 2575, \"Acceleration\": 16.2, \"Year\": \"1982-01-01T00:00:00\", \"Origin\": \"USA\"}, {\"Name\": \"dodge aries se\", \"Miles_per_Gallon\": 29.0, \"Cylinders\": 4, \"Displacement\": 135.0, \"Horsepower\": 84.0, \"Weight_in_lbs\": 2525, \"Acceleration\": 16.0, \"Year\": \"1982-01-01T00:00:00\", \"Origin\": \"USA\"}, {\"Name\": \"pontiac phoenix\", \"Miles_per_Gallon\": 27.0, \"Cylinders\": 4, \"Displacement\": 151.0, \"Horsepower\": 90.0, \"Weight_in_lbs\": 2735, \"Acceleration\": 18.0, \"Year\": \"1982-01-01T00:00:00\", \"Origin\": \"USA\"}, {\"Name\": \"ford fairmont futura\", \"Miles_per_Gallon\": 24.0, \"Cylinders\": 4, \"Displacement\": 140.0, \"Horsepower\": 92.0, \"Weight_in_lbs\": 2865, \"Acceleration\": 16.4, \"Year\": \"1982-01-01T00:00:00\", \"Origin\": \"USA\"}, {\"Name\": \"amc concord dl\", \"Miles_per_Gallon\": 23.0, \"Cylinders\": 4, \"Displacement\": 151.0, \"Horsepower\": null, \"Weight_in_lbs\": 3035, \"Acceleration\": 20.5, \"Year\": \"1982-01-01T00:00:00\", \"Origin\": \"USA\"}, {\"Name\": \"volkswagen rabbit l\", \"Miles_per_Gallon\": 36.0, \"Cylinders\": 4, \"Displacement\": 105.0, \"Horsepower\": 74.0, \"Weight_in_lbs\": 1980, \"Acceleration\": 15.3, \"Year\": \"1982-01-01T00:00:00\", \"Origin\": \"Europe\"}, {\"Name\": \"mazda glc custom l\", \"Miles_per_Gallon\": 37.0, \"Cylinders\": 4, \"Displacement\": 91.0, \"Horsepower\": 68.0, \"Weight_in_lbs\": 2025, \"Acceleration\": 18.2, \"Year\": \"1982-01-01T00:00:00\", \"Origin\": \"Japan\"}, {\"Name\": \"mazda glc custom\", \"Miles_per_Gallon\": 31.0, \"Cylinders\": 4, \"Displacement\": 91.0, \"Horsepower\": 68.0, \"Weight_in_lbs\": 1970, \"Acceleration\": 17.6, \"Year\": \"1982-01-01T00:00:00\", \"Origin\": \"Japan\"}, {\"Name\": \"plymouth horizon miser\", \"Miles_per_Gallon\": 38.0, \"Cylinders\": 4, \"Displacement\": 105.0, \"Horsepower\": 63.0, \"Weight_in_lbs\": 2125, \"Acceleration\": 14.7, \"Year\": \"1982-01-01T00:00:00\", \"Origin\": \"USA\"}, {\"Name\": \"mercury lynx l\", \"Miles_per_Gallon\": 36.0, \"Cylinders\": 4, \"Displacement\": 98.0, \"Horsepower\": 70.0, \"Weight_in_lbs\": 2125, \"Acceleration\": 17.3, \"Year\": \"1982-01-01T00:00:00\", \"Origin\": \"USA\"}, {\"Name\": \"nissan stanza xe\", \"Miles_per_Gallon\": 36.0, \"Cylinders\": 4, \"Displacement\": 120.0, \"Horsepower\": 88.0, \"Weight_in_lbs\": 2160, \"Acceleration\": 14.5, \"Year\": \"1982-01-01T00:00:00\", \"Origin\": \"Japan\"}, {\"Name\": \"honda Accelerationord\", \"Miles_per_Gallon\": 36.0, \"Cylinders\": 4, \"Displacement\": 107.0, \"Horsepower\": 75.0, \"Weight_in_lbs\": 2205, \"Acceleration\": 14.5, \"Year\": \"1982-01-01T00:00:00\", \"Origin\": \"Japan\"}, {\"Name\": \"toyota corolla\", \"Miles_per_Gallon\": 34.0, \"Cylinders\": 4, \"Displacement\": 108.0, \"Horsepower\": 70.0, \"Weight_in_lbs\": 2245, \"Acceleration\": 16.9, \"Year\": \"1982-01-01T00:00:00\", \"Origin\": \"Japan\"}, {\"Name\": \"honda civic\", \"Miles_per_Gallon\": 38.0, \"Cylinders\": 4, \"Displacement\": 91.0, \"Horsepower\": 67.0, \"Weight_in_lbs\": 1965, \"Acceleration\": 15.0, \"Year\": \"1982-01-01T00:00:00\", \"Origin\": \"Japan\"}, {\"Name\": \"honda civic (auto)\", \"Miles_per_Gallon\": 32.0, \"Cylinders\": 4, \"Displacement\": 91.0, \"Horsepower\": 67.0, \"Weight_in_lbs\": 1965, \"Acceleration\": 15.7, \"Year\": \"1982-01-01T00:00:00\", \"Origin\": \"Japan\"}, {\"Name\": \"datsun 310 gx\", \"Miles_per_Gallon\": 38.0, \"Cylinders\": 4, \"Displacement\": 91.0, \"Horsepower\": 67.0, \"Weight_in_lbs\": 1995, \"Acceleration\": 16.2, \"Year\": \"1982-01-01T00:00:00\", \"Origin\": \"Japan\"}, {\"Name\": \"buick century limited\", \"Miles_per_Gallon\": 25.0, \"Cylinders\": 6, \"Displacement\": 181.0, \"Horsepower\": 110.0, \"Weight_in_lbs\": 2945, \"Acceleration\": 16.4, \"Year\": \"1982-01-01T00:00:00\", \"Origin\": \"USA\"}, {\"Name\": \"oldsmobile cutlass ciera (diesel)\", \"Miles_per_Gallon\": 38.0, \"Cylinders\": 6, \"Displacement\": 262.0, \"Horsepower\": 85.0, \"Weight_in_lbs\": 3015, \"Acceleration\": 17.0, \"Year\": \"1982-01-01T00:00:00\", \"Origin\": \"USA\"}, {\"Name\": \"chrysler lebaron medallion\", \"Miles_per_Gallon\": 26.0, \"Cylinders\": 4, \"Displacement\": 156.0, \"Horsepower\": 92.0, \"Weight_in_lbs\": 2585, \"Acceleration\": 14.5, \"Year\": \"1982-01-01T00:00:00\", \"Origin\": \"USA\"}, {\"Name\": \"ford granada l\", \"Miles_per_Gallon\": 22.0, \"Cylinders\": 6, \"Displacement\": 232.0, \"Horsepower\": 112.0, \"Weight_in_lbs\": 2835, \"Acceleration\": 14.7, \"Year\": \"1982-01-01T00:00:00\", \"Origin\": \"USA\"}, {\"Name\": \"toyota celica gt\", \"Miles_per_Gallon\": 32.0, \"Cylinders\": 4, \"Displacement\": 144.0, \"Horsepower\": 96.0, \"Weight_in_lbs\": 2665, \"Acceleration\": 13.9, \"Year\": \"1982-01-01T00:00:00\", \"Origin\": \"Japan\"}, {\"Name\": \"dodge charger 2.2\", \"Miles_per_Gallon\": 36.0, \"Cylinders\": 4, \"Displacement\": 135.0, \"Horsepower\": 84.0, \"Weight_in_lbs\": 2370, \"Acceleration\": 13.0, \"Year\": \"1982-01-01T00:00:00\", \"Origin\": \"USA\"}, {\"Name\": \"chevrolet camaro\", \"Miles_per_Gallon\": 27.0, \"Cylinders\": 4, \"Displacement\": 151.0, \"Horsepower\": 90.0, \"Weight_in_lbs\": 2950, \"Acceleration\": 17.3, \"Year\": \"1982-01-01T00:00:00\", \"Origin\": \"USA\"}, {\"Name\": \"ford mustang gl\", \"Miles_per_Gallon\": 27.0, \"Cylinders\": 4, \"Displacement\": 140.0, \"Horsepower\": 86.0, \"Weight_in_lbs\": 2790, \"Acceleration\": 15.6, \"Year\": \"1982-01-01T00:00:00\", \"Origin\": \"USA\"}, {\"Name\": \"vw pickup\", \"Miles_per_Gallon\": 44.0, \"Cylinders\": 4, \"Displacement\": 97.0, \"Horsepower\": 52.0, \"Weight_in_lbs\": 2130, \"Acceleration\": 24.6, \"Year\": \"1982-01-01T00:00:00\", \"Origin\": \"Europe\"}, {\"Name\": \"dodge rampage\", \"Miles_per_Gallon\": 32.0, \"Cylinders\": 4, \"Displacement\": 135.0, \"Horsepower\": 84.0, \"Weight_in_lbs\": 2295, \"Acceleration\": 11.6, \"Year\": \"1982-01-01T00:00:00\", \"Origin\": \"USA\"}, {\"Name\": \"ford ranger\", \"Miles_per_Gallon\": 28.0, \"Cylinders\": 4, \"Displacement\": 120.0, \"Horsepower\": 79.0, \"Weight_in_lbs\": 2625, \"Acceleration\": 18.6, \"Year\": \"1982-01-01T00:00:00\", \"Origin\": \"USA\"}, {\"Name\": \"chevy s-10\", \"Miles_per_Gallon\": 31.0, \"Cylinders\": 4, \"Displacement\": 119.0, \"Horsepower\": 82.0, \"Weight_in_lbs\": 2720, \"Acceleration\": 19.4, \"Year\": \"1982-01-01T00:00:00\", \"Origin\": \"USA\"}]}}, {\"mode\": \"vega-lite\"});\n",
              "</script>"
            ],
            "text/plain": [
              "alt.Chart(...)"
            ]
          },
          "metadata": {},
          "execution_count": 3
        }
      ]
    },
    {
      "cell_type": "markdown",
      "source": [
        "Se pueden compartir los cuadernos de Jupyter mediante Google Drive o exportándolos desde GitHub. Los cuadernos son almacenados en el formato estándard de Jupyter, para que así puedan ser visualizados con cualquier herramienta compatible.\n",
        "\n",
        "Es posible también subir y abrir archivos empleando el menú de la barra lateral, o directamente con la celda de código:"
      ],
      "metadata": {
        "id": "rVrq_bRmaSQD"
      }
    },
    {
      "cell_type": "code",
      "source": [
        "from google.colab import files\n",
        "file = files.upload()"
      ],
      "metadata": {
        "id": "NbICncaPaTa0"
      },
      "execution_count": null,
      "outputs": []
    },
    {
      "cell_type": "markdown",
      "source": [
        "Acá es posible navegar en el sistema de archivos alojado, mediante el panel que se encuentra a la izquierda, en la opción de **Archivos**."
      ],
      "metadata": {
        "id": "XtDEFIZrdgal"
      }
    },
    {
      "cell_type": "markdown",
      "source": [
        "### Ambiente de ejecución\n",
        "\n",
        "Existen diferentes ambientes de ejecución con Google Colab empleando múltiples locaciones y recursos:\n",
        "\n",
        "*   Google Cloud\n",
        "*   Local\n",
        "*   Hosted\n",
        "*   CPU / GPU / TPU\n",
        "*   Python2 / Python3\n",
        "\n",
        "Veamos los recursos disponibles en el ambiente de ejecución actual:"
      ],
      "metadata": {
        "id": "dFlLlm3oaZ7m"
      }
    },
    {
      "cell_type": "code",
      "source": [
        "from tensorflow.python.client import device_lib\n",
        "device_lib.list_local_devices()"
      ],
      "metadata": {
        "id": "klhObJFZatp8",
        "outputId": "0af85419-0242-4e06-99d4-46e715c48439",
        "colab": {
          "base_uri": "https://localhost:8080/"
        }
      },
      "execution_count": 9,
      "outputs": [
        {
          "output_type": "execute_result",
          "data": {
            "text/plain": [
              "[name: \"/device:CPU:0\"\n",
              " device_type: \"CPU\"\n",
              " memory_limit: 268435456\n",
              " locality {\n",
              " }\n",
              " incarnation: 15562062913601890556\n",
              " xla_global_id: -1,\n",
              " name: \"/device:GPU:0\"\n",
              " device_type: \"GPU\"\n",
              " memory_limit: 14328594432\n",
              " locality {\n",
              "   bus_id: 1\n",
              "   links {\n",
              "   }\n",
              " }\n",
              " incarnation: 12957894807474386494\n",
              " physical_device_desc: \"device: 0, name: Tesla T4, pci bus id: 0000:00:04.0, compute capability: 7.5\"\n",
              " xla_global_id: 416903419]"
            ]
          },
          "metadata": {},
          "execution_count": 9
        }
      ]
    },
    {
      "cell_type": "markdown",
      "source": [
        "Podemos revisar información adicional de los recursos disponibles:"
      ],
      "metadata": {
        "id": "hjhy6atEausj"
      }
    },
    {
      "cell_type": "code",
      "source": [
        "!cat /proc/cpuinfo\n",
        "!cat /proc/meminfo"
      ],
      "metadata": {
        "id": "F1Ioqr1XazjK",
        "outputId": "9f21441c-6a38-4f71-c4b8-373e01a07e86",
        "colab": {
          "base_uri": "https://localhost:8080/"
        }
      },
      "execution_count": 10,
      "outputs": [
        {
          "output_type": "stream",
          "name": "stdout",
          "text": [
            "processor\t: 0\n",
            "vendor_id\t: GenuineIntel\n",
            "cpu family\t: 6\n",
            "model\t\t: 63\n",
            "model name\t: Intel(R) Xeon(R) CPU @ 2.30GHz\n",
            "stepping\t: 0\n",
            "microcode\t: 0xffffffff\n",
            "cpu MHz\t\t: 2299.998\n",
            "cache size\t: 46080 KB\n",
            "physical id\t: 0\n",
            "siblings\t: 2\n",
            "core id\t\t: 0\n",
            "cpu cores\t: 1\n",
            "apicid\t\t: 0\n",
            "initial apicid\t: 0\n",
            "fpu\t\t: yes\n",
            "fpu_exception\t: yes\n",
            "cpuid level\t: 13\n",
            "wp\t\t: yes\n",
            "flags\t\t: fpu vme de pse tsc msr pae mce cx8 apic sep mtrr pge mca cmov pat pse36 clflush mmx fxsr sse sse2 ss ht syscall nx pdpe1gb rdtscp lm constant_tsc rep_good nopl xtopology nonstop_tsc cpuid tsc_known_freq pni pclmulqdq ssse3 fma cx16 pcid sse4_1 sse4_2 x2apic movbe popcnt aes xsave avx f16c rdrand hypervisor lahf_lm abm invpcid_single ssbd ibrs ibpb stibp fsgsbase tsc_adjust bmi1 avx2 smep bmi2 erms invpcid xsaveopt arat md_clear arch_capabilities\n",
            "bugs\t\t: cpu_meltdown spectre_v1 spectre_v2 spec_store_bypass l1tf mds swapgs mmio_stale_data retbleed\n",
            "bogomips\t: 4599.99\n",
            "clflush size\t: 64\n",
            "cache_alignment\t: 64\n",
            "address sizes\t: 46 bits physical, 48 bits virtual\n",
            "power management:\n",
            "\n",
            "processor\t: 1\n",
            "vendor_id\t: GenuineIntel\n",
            "cpu family\t: 6\n",
            "model\t\t: 63\n",
            "model name\t: Intel(R) Xeon(R) CPU @ 2.30GHz\n",
            "stepping\t: 0\n",
            "microcode\t: 0xffffffff\n",
            "cpu MHz\t\t: 2299.998\n",
            "cache size\t: 46080 KB\n",
            "physical id\t: 0\n",
            "siblings\t: 2\n",
            "core id\t\t: 0\n",
            "cpu cores\t: 1\n",
            "apicid\t\t: 1\n",
            "initial apicid\t: 1\n",
            "fpu\t\t: yes\n",
            "fpu_exception\t: yes\n",
            "cpuid level\t: 13\n",
            "wp\t\t: yes\n",
            "flags\t\t: fpu vme de pse tsc msr pae mce cx8 apic sep mtrr pge mca cmov pat pse36 clflush mmx fxsr sse sse2 ss ht syscall nx pdpe1gb rdtscp lm constant_tsc rep_good nopl xtopology nonstop_tsc cpuid tsc_known_freq pni pclmulqdq ssse3 fma cx16 pcid sse4_1 sse4_2 x2apic movbe popcnt aes xsave avx f16c rdrand hypervisor lahf_lm abm invpcid_single ssbd ibrs ibpb stibp fsgsbase tsc_adjust bmi1 avx2 smep bmi2 erms invpcid xsaveopt arat md_clear arch_capabilities\n",
            "bugs\t\t: cpu_meltdown spectre_v1 spectre_v2 spec_store_bypass l1tf mds swapgs mmio_stale_data retbleed\n",
            "bogomips\t: 4599.99\n",
            "clflush size\t: 64\n",
            "cache_alignment\t: 64\n",
            "address sizes\t: 46 bits physical, 48 bits virtual\n",
            "power management:\n",
            "\n",
            "MemTotal:       13294264 kB\n",
            "MemFree:         8542252 kB\n",
            "MemAvailable:   11181528 kB\n",
            "Buffers:           67008 kB\n",
            "Cached:          2784988 kB\n",
            "SwapCached:            0 kB\n",
            "Active:           697848 kB\n",
            "Inactive:        3655532 kB\n",
            "Active(anon):       1040 kB\n",
            "Inactive(anon):  1511944 kB\n",
            "Active(file):     696808 kB\n",
            "Inactive(file):  2143588 kB\n",
            "Unevictable:           0 kB\n",
            "Mlocked:               0 kB\n",
            "SwapTotal:             0 kB\n",
            "SwapFree:              0 kB\n",
            "Dirty:               212 kB\n",
            "Writeback:             0 kB\n",
            "AnonPages:       1496320 kB\n",
            "Mapped:           763272 kB\n",
            "Shmem:             11600 kB\n",
            "KReclaimable:      79668 kB\n",
            "Slab:             123884 kB\n",
            "SReclaimable:      79668 kB\n",
            "SUnreclaim:        44216 kB\n",
            "KernelStack:        4720 kB\n",
            "PageTables:        17768 kB\n",
            "NFS_Unstable:          0 kB\n",
            "Bounce:                0 kB\n",
            "WritebackTmp:          0 kB\n",
            "CommitLimit:     6647132 kB\n",
            "Committed_AS:    3306588 kB\n",
            "VmallocTotal:   34359738367 kB\n",
            "VmallocUsed:       77416 kB\n",
            "VmallocChunk:          0 kB\n",
            "Percpu:             1320 kB\n",
            "HardwareCorrupted:     0 kB\n",
            "AnonHugePages:     12288 kB\n",
            "ShmemHugePages:        0 kB\n",
            "ShmemPmdMapped:        0 kB\n",
            "FileHugePages:         0 kB\n",
            "FilePmdMapped:         0 kB\n",
            "CmaTotal:              0 kB\n",
            "CmaFree:               0 kB\n",
            "HugePages_Total:       0\n",
            "HugePages_Free:        0\n",
            "HugePages_Rsvd:        0\n",
            "HugePages_Surp:        0\n",
            "Hugepagesize:       2048 kB\n",
            "Hugetlb:               0 kB\n",
            "DirectMap4k:      226104 kB\n",
            "DirectMap2M:     5013504 kB\n",
            "DirectMap1G:    10485760 kB\n"
          ]
        }
      ]
    },
    {
      "cell_type": "markdown",
      "source": [
        "Para cambiar el tipo de ambiente de ejecución, siga los siguientes pasos:\n",
        "\n",
        "1. Navegue al menú de **Entorno de ejecución → Cambiar tipo de entorno de ejecución**\n",
        "2. Seleccione el **Accelerador de hardware → GPU → Guardar**\n",
        "3. Navegue al menú de **Entorno de ejecución → Reiniciar entorno de ejecución → Sí**\n",
        "4. Ahora, el entorno de ejecución debería tener el GPU habilitado\n"
      ],
      "metadata": {
        "id": "lgBBpp_5a4P1"
      }
    },
    {
      "cell_type": "markdown",
      "source": [
        "Una vez que cambiamos el entorno de ejecución, podemos revisar los dispositivos disponibles."
      ],
      "metadata": {
        "id": "BHB9iJt-H9_f"
      }
    },
    {
      "cell_type": "code",
      "source": [
        "from tensorflow.python.client import device_lib\n",
        "device_lib.list_local_devices()"
      ],
      "metadata": {
        "id": "BGteZeb9ILGO",
        "outputId": "846cf07e-9247-41b0-ae69-33c7b5f261ca",
        "colab": {
          "base_uri": "https://localhost:8080/"
        }
      },
      "execution_count": 11,
      "outputs": [
        {
          "output_type": "execute_result",
          "data": {
            "text/plain": [
              "[name: \"/device:CPU:0\"\n",
              " device_type: \"CPU\"\n",
              " memory_limit: 268435456\n",
              " locality {\n",
              " }\n",
              " incarnation: 5390471415411554860\n",
              " xla_global_id: -1,\n",
              " name: \"/device:GPU:0\"\n",
              " device_type: \"GPU\"\n",
              " memory_limit: 14328594432\n",
              " locality {\n",
              "   bus_id: 1\n",
              "   links {\n",
              "   }\n",
              " }\n",
              " incarnation: 8567598882222150651\n",
              " physical_device_desc: \"device: 0, name: Tesla T4, pci bus id: 0000:00:04.0, compute capability: 7.5\"\n",
              " xla_global_id: 416903419]"
            ]
          },
          "metadata": {},
          "execution_count": 11
        }
      ]
    },
    {
      "cell_type": "markdown",
      "source": [
        "### Consideraciones de uso\n",
        "\n",
        "*    Google Colab es de uso libre, pero con capacidades limitadas que se mencionan a continuación.\n",
        "*    El entorno de ejecución se reinicirá luego de 10-15 minutos de inactividad o de 12 horas de computación continua.\n",
        "*    Cuando el ambiente de ejecución se reinicia, se pierde toda la información cargada/almacenada y la configuración del ambiente.\n",
        "*    Los recursos son asignados dinámicamente de acuerdo al tipo de trabajo que se está haciendo.\n",
        "*    En el caso de trabajos que impliquen computaciones a largo plazo, se sugiere la utilización de hardware dispuesto en un clúster computacional.\n",
        "*    El manejo de las sesiones activas se realiza desde el menú **Entorno de ejecución → Gestionar sesiones**\n",
        "*    Con el fin de evitar la pérdida de información y respaldar el trabajo realizado cuando el entorno de ejecución se reinicia, se sugiere de igual forma conectar su almacenamiento en Google Drive a Colab."
      ],
      "metadata": {
        "id": "wUj4lYdibFXE"
      }
    },
    {
      "cell_type": "code",
      "source": [
        "# Run this code to mount your google drive in your Colab virtual machine\n",
        "from google.colab import drive\n",
        "drive.mount('/content/drive')"
      ],
      "metadata": {
        "id": "FwQUWujjbYe0"
      },
      "execution_count": null,
      "outputs": []
    },
    {
      "cell_type": "markdown",
      "source": [
        "Podemos inspeccionar mediante llamadas al sistema el directorio en Drive montado correctamente, donde se encuentra almacenado el material del curso:"
      ],
      "metadata": {
        "id": "eeEKBMEzbXN0"
      }
    },
    {
      "cell_type": "code",
      "source": [
        "!ls /content/drive/MyDrive/MachineLearning/"
      ],
      "metadata": {
        "id": "hydHt9WFbgBh"
      },
      "execution_count": null,
      "outputs": []
    },
    {
      "cell_type": "markdown",
      "metadata": {
        "id": "4rZJxNdtIdsS"
      },
      "source": [
        "# Lección 1.1: Introducción a la Inteligencia Artificial y al Aprendizaje Automático\n",
        "\n",
        "Autor: Jorge Castro, Fabricio Quirós Corella"
      ]
    },
    {
      "cell_type": "markdown",
      "metadata": {
        "id": "HV4kIUgUDEsa"
      },
      "source": [
        "## Historia\n",
        "\n",
        "- Origen: conferencia en Dartmouth College en 1956.\n",
        "- Fundadores: Claude Shanon, John McCarty, entre\n",
        "otros.\n",
        "- Proyecto de investigación: interesados en \"inteligencia artificial\".\n",
        "- Objetivo: descripción precisa de atributos asociados a aprendizaje y/o inteligencia, para que sea posible desarrollar una máquina que los simule.\n",
        "\n",
        "![](https://drive.google.com/uc?id=1hJ1A4lX5Pk4BeXf3xcuC4huFvf7mkRgr)\n",
        "\n",
        "Dartmouth College, New Hampshire\n",
        "\n",
        "## Oleajes de la IA\n",
        "\n",
        "- 1956-1974: Computación Simbólica, Perceptrón.\n",
        "- 1980-1987: Sistemas Expertos, ANNs: MLP y back-propagation.\n",
        "- 1993-2011: Agentes inteligentes, CNNs, Deep Learning.\n",
        "- 2011-presente: Big Data, HPC, GANs."
      ]
    },
    {
      "cell_type": "markdown",
      "metadata": {
        "id": "NymONg2f0P_2"
      },
      "source": [
        "## Aplicaciones de la IA\n",
        "\n",
        "![](https://drive.google.com/uc?id=1BcopHKqgCDaSbpARAvO-Ty3KgTudOmDS)"
      ]
    },
    {
      "cell_type": "markdown",
      "source": [
        "## IA, ML y Big Data\n",
        "\n",
        "![AI-Deep-Learning-and-Big-Data-Venn-Diagram.jpg](data:image/jpeg;base64,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)\n"
      ],
      "metadata": {
        "id": "T0CnrKtLVBlV"
      }
    },
    {
      "cell_type": "markdown",
      "source": [
        "## Definición de Aprendizaje Automático\n",
        "\n",
        "Subárea de la IA enfocada en proveer a los sistemas computacionales la habilidad para aprender y mejorar automáticamente a través de la experiencia, sin estar explícitamente programado. En términos generales el aprendizaje automático (ML) puede ser supervisado, no supervisado o por reforzamiento."
      ],
      "metadata": {
        "id": "eLg23GetVPtI"
      }
    },
    {
      "cell_type": "markdown",
      "metadata": {
        "id": "ixWjUuDe0eB4"
      },
      "source": [
        "### Tipos de Aprendizaje Automático\n",
        "\n",
        "En el **aprendizaje supervisado**, se desarrollan algoritmos que requieren de ejemplos de entrenamiento para los cuales se conoce de antemano la salida correcta (etiqueta). Por ejemplo, si se deseara reconocer automáticamente si hay o no gansos en una imagen, se debería primero elaborar un **conjunto de entrenamiento**, compuesto por imágenes que contienen gansos e imágenes que no contienen gansos y sus respectivas etiquetas. Una vez entrenado el algoritmo se usaría un conjunto de prueba nunca antes visto por el algoritmo para evaluar su capacidad de predicción.\n",
        "\n",
        "![](https://drive.google.com/uc?id=1J2ZIeUHj7UmyU7vDgQ0VCk6oXLn7IWHU)"
      ]
    },
    {
      "cell_type": "markdown",
      "source": [
        "En el **aprendizaje no supervisado**, se desarrollan algoritmos que tratan de encontrar la estructura subyacente o patrones presentes en datos no etiquetados (para los cuales se desconoce la salida deseada). Por ejemplo, si deseáramos agrupar artículos similares en una página de comercio electrónico como Amazon, se podrían usar algoritmos de agrupamiento no supervisado para construir las categorías. De la misma forma, podríamos usar este enfoque si quisiéramos agrupar imágenes de animales no etiquetadas de acuerdo a la clase a la que pertenecen.\n",
        "\n",
        "![](https://drive.google.com/uc?id=1_D_8IfmTX1a_bN5WwVkhiJ9y3iC31Rxk)"
      ],
      "metadata": {
        "id": "7j3WrUevVe8S"
      }
    },
    {
      "cell_type": "markdown",
      "source": [
        "En el **aprendizaje por reforzamiento**, se desarrollan algoritmos que buscan optimizar las acciones a tomar para obtener una recompensa en una situación en particular. Por ejemplo, para el juego de ajedrez, el programa [Alpha-Zero](https://en.wikipedia.org/wiki/AlphaZero) dessarollado por [DeepMind](https://en.wikipedia.org/wiki/DeepMind) fue entrenado bajo un esquema de aprendizaje por reforzamiento. Para esto, se definió el conjunto de acciones válidas a ejecutar (movimientos legales de acuerdo a las reglas del ajedrez) y la recompensa (ganar el juego, o en otras palabras, ejecutar un jaque mate). Después de tan solo 9 horas de entrenamiento del programa jugando partidas contra sí mismo,  fue capaz de vencer al [motor](https://en.wikipedia.org/wiki/Stockfish_(chess)) más poderoso de ajedrez hasta el momento, cuyo nivel está muy por encima del [campeón](https://en.wikipedia.org/wiki/Magnus_Carlsen) mundial de ajedrez.\n",
        "\n",
        "![](https://drive.google.com/uc?id=1kSk1r6IxI0972tMHSBZnuDuuibXYQfV6)"
      ],
      "metadata": {
        "id": "yRfiUjUHVjj8"
      }
    },
    {
      "cell_type": "markdown",
      "source": [
        "Existen otros enfoques de ML en adición a los mencionados anteriormente, como el aprendizaje **semi-supervisado**, así como el caso reciente de aprendizaje **auto-supervisado**. En este curso nos enfocaremos únicamente en los enfoques de aprendizaje **supervisado** y **no supervisado**."
      ],
      "metadata": {
        "id": "HytmieaOVuND"
      }
    },
    {
      "cell_type": "markdown",
      "metadata": {
        "id": "XhzmnnMuKtbJ"
      },
      "source": [
        "**QUIZ SOBRE IDENTIFICACIÓN DEL TIPO DE APRENDIZAJE**\n",
        "\n",
        "Supongamos que lideramos el área tecnológica de un comercio electrónico y deseamos construir un algoritmo para hacer una segmentación de los clientes basándonos en algunos atributos de los mismos. Este es un ejemplo de aprendizaje:\n",
        "\n",
        "- Supervisado\n",
        "- No supervisado\n",
        "- Por reforzamiento\n",
        "- Ninguna de las anteriores\n",
        "\n",
        "Supongamos que deseamos construir un algoritmo que, a partir de los correos que marcamos como spam, aprenda a predecir en el futuro cuales correos son spam. Este es un ejemplo de aprendizaje:\n",
        "\n",
        "- Supervisado\n",
        "- No supervisado\n",
        "- Por reforzamiento\n",
        "- Ninguna de las anteriores\n",
        "\n",
        "Imaginemos que desarrollamos un sistema con la habilidad de realizar operaciones financieras. Este sistema ejecuta múltiples operaciones financieras y aprende progresivamente bajo que condiciones realizar cada operación según la pérdida o ganancia de cada transacción financiera realizada. Este es un ejemplo de aprendizaje:\n",
        "\n",
        "- Supervisado\n",
        "- No supervisado\n",
        "- Por reforzamiento\n",
        "- Ninguna de las anteriores"
      ]
    },
    {
      "cell_type": "markdown",
      "metadata": {
        "id": "GaxM8eJ8tsNB"
      },
      "source": [
        "## Áreas de aplicación del Aprendizaje Automático\n",
        "\n",
        "- **Procesamiento del lenguaje natural** (NLP): subcampo de la lingüística, ciencia computacional, informática e inteligencia artificial que estudia la interacción entre las computadoras y los lenguajes humanos naturales. Algunos de los retos de esta área involucran el reconocimiento del habla, reconocimiento de la escritura, entendimiento del lenguaje natural y generación de lenguaje natural. Algunas aplicaciones famosas del NLP son:\n",
        "  - Google Speech Recognition\n",
        "  - Cortana de Microsoft\n",
        "  - Alexa de Amazon\n",
        "  - Grammarly"
      ]
    },
    {
      "cell_type": "markdown",
      "source": [
        "- **Visión por computador** (CV): área cientifica interdisciplinaria que estudia cómo las computadoras pueden obtener un entendimiento de alto nivel a partir de imágenes digitales y videos. Entre los principales retos en esta área están la detección de objetos, rastreo en videos, detección de eventos, reconstrucción de escenas y restauración de imágenes. Algunas aplicaciones famosas de la CV son:\n",
        "  - Vehículos autónomos\n",
        "  - Búsqueda de artículos con fotos\n",
        "  - Tecnología de reconocimiento facial"
      ],
      "metadata": {
        "id": "EqmvFKvQx1wf"
      }
    },
    {
      "cell_type": "markdown",
      "source": [
        "- **Sistemas de recomendación** (RS): son sistemas de filtrado de información que permiten predecir el nivel de preferencia que un usuario daría a un artículo. Algunas de las empresas más conocidas que usan RS son:\n",
        "  - Spotify\n",
        "  - Netflix\n",
        "  - Amazon\n",
        "  - Facebook\n",
        "  - Youtube"
      ],
      "metadata": {
        "id": "yDc9gSajx8LX"
      }
    },
    {
      "cell_type": "markdown",
      "source": [
        "- **Servicios financieros** (FS): Las empresas del sector financiero pueden identificar puntos clave en los datos financieros, así como prevenir cualquier ocurrencia de fraude financiero, con la ayuda de la tecnología de aprendizaje automático. La tecnología también se utiliza para identificar oportunidades de inversión y comercio y predecir movimientos en la bolsa de valores. Algunos de las empresas financieras más famosas en incoorporar diferentes aplicaciones del aprendizaje automático son:\n",
        "  - Wells Fargo\n",
        "  - Bank of America\n",
        "  - HSBC"
      ],
      "metadata": {
        "id": "jxQNk3Oux-yj"
      }
    },
    {
      "cell_type": "markdown",
      "metadata": {
        "id": "g2bRA1FUciDU"
      },
      "source": [
        "### Conjuntos de datos para Aprendizaje Automático\n",
        "\n",
        "- UCI: https://archive.ics.uci.edu/datasets\n",
        "\n",
        "- Kaggle: https://www.kaggle.com/datasets"
      ]
    },
    {
      "cell_type": "markdown",
      "metadata": {
        "id": "t2BDJFkUQ8mL"
      },
      "source": [
        "### Principales bibliotecas en Python  \n",
        "\n",
        "- **ML/DL**: scikit-learn, Keras, TensorFlow, PyTorch.\n",
        "\n",
        "- **NLP**: NLTK, Gensim, SpaCy, Pattern, TextBlob.\n",
        "\n",
        "- **CV**: scikit-image, OpenCV, Scipy, Pillow, Mahotas.\n",
        "\n",
        "- **RS**: surprise, Lightfm, spotlight, RecQ, music-recommender.\n",
        "\n",
        "- **FS**: QuantLib, PyAlgoTrade, pandas."
      ]
    },
    {
      "cell_type": "markdown",
      "source": [
        "## Práctica 1\n",
        "\n",
        "Luego de registrarse en el sitio de Kaggle, realice la siguiente práctica:\n",
        "\n",
        "1.   Descargue el archivo CSV asociado en el siguiente enlace: [Disease Symptoms and Patient Profile Dataset](https://www.kaggle.com/datasets/uom190346a/disease-symptoms-and-patient-profile-dataset?resource=download).\n",
        "2.   Cargue dicho archivo en su ambiente de Google Colaboratory. Asegúrese que este fue subido correctamente.\n",
        "3.   Añada una celda de código que despliegue el contenido del CSV usando un comando mágico.\n",
        "4.   ¿Cúales son las variables que contiene este conjunto de datos? Utilice una celda de texto para hacer la descripción del set de datos.\n",
        "\n"
      ],
      "metadata": {
        "id": "YlHbqQvxfCiA"
      }
    },
    {
      "cell_type": "code",
      "source": [
        "# Puede realizar su práctica aquí\n",
        "from google.colab import files\n",
        "file = files.upload()"
      ],
      "metadata": {
        "id": "Vw1G9sb1gINd",
        "outputId": "59a97a86-2490-4fe3-cb0c-d7fa2677f33c",
        "colab": {
          "base_uri": "https://localhost:8080/",
          "height": 110
        }
      },
      "execution_count": 2,
      "outputs": [
        {
          "output_type": "display_data",
          "data": {
            "text/plain": [
              "<IPython.core.display.HTML object>"
            ],
            "text/html": [
              "\n",
              "     <input type=\"file\" id=\"files-703a90a7-5860-4da2-84dc-6ed5b5dea4b0\" name=\"files[]\" multiple disabled\n",
              "        style=\"border:none\" />\n",
              "     <output id=\"result-703a90a7-5860-4da2-84dc-6ed5b5dea4b0\">\n",
              "      Upload widget is only available when the cell has been executed in the\n",
              "      current browser session. Please rerun this cell to enable.\n",
              "      </output>\n",
              "      <script>// Copyright 2017 Google LLC\n",
              "//\n",
              "// Licensed under the Apache License, Version 2.0 (the \"License\");\n",
              "// you may not use this file except in compliance with the License.\n",
              "// You may obtain a copy of the License at\n",
              "//\n",
              "//      http://www.apache.org/licenses/LICENSE-2.0\n",
              "//\n",
              "// Unless required by applicable law or agreed to in writing, software\n",
              "// distributed under the License is distributed on an \"AS IS\" BASIS,\n",
              "// WITHOUT WARRANTIES OR CONDITIONS OF ANY KIND, either express or implied.\n",
              "// See the License for the specific language governing permissions and\n",
              "// limitations under the License.\n",
              "\n",
              "/**\n",
              " * @fileoverview Helpers for google.colab Python module.\n",
              " */\n",
              "(function(scope) {\n",
              "function span(text, styleAttributes = {}) {\n",
              "  const element = document.createElement('span');\n",
              "  element.textContent = text;\n",
              "  for (const key of Object.keys(styleAttributes)) {\n",
              "    element.style[key] = styleAttributes[key];\n",
              "  }\n",
              "  return element;\n",
              "}\n",
              "\n",
              "// Max number of bytes which will be uploaded at a time.\n",
              "const MAX_PAYLOAD_SIZE = 100 * 1024;\n",
              "\n",
              "function _uploadFiles(inputId, outputId) {\n",
              "  const steps = uploadFilesStep(inputId, outputId);\n",
              "  const outputElement = document.getElementById(outputId);\n",
              "  // Cache steps on the outputElement to make it available for the next call\n",
              "  // to uploadFilesContinue from Python.\n",
              "  outputElement.steps = steps;\n",
              "\n",
              "  return _uploadFilesContinue(outputId);\n",
              "}\n",
              "\n",
              "// This is roughly an async generator (not supported in the browser yet),\n",
              "// where there are multiple asynchronous steps and the Python side is going\n",
              "// to poll for completion of each step.\n",
              "// This uses a Promise to block the python side on completion of each step,\n",
              "// then passes the result of the previous step as the input to the next step.\n",
              "function _uploadFilesContinue(outputId) {\n",
              "  const outputElement = document.getElementById(outputId);\n",
              "  const steps = outputElement.steps;\n",
              "\n",
              "  const next = steps.next(outputElement.lastPromiseValue);\n",
              "  return Promise.resolve(next.value.promise).then((value) => {\n",
              "    // Cache the last promise value to make it available to the next\n",
              "    // step of the generator.\n",
              "    outputElement.lastPromiseValue = value;\n",
              "    return next.value.response;\n",
              "  });\n",
              "}\n",
              "\n",
              "/**\n",
              " * Generator function which is called between each async step of the upload\n",
              " * process.\n",
              " * @param {string} inputId Element ID of the input file picker element.\n",
              " * @param {string} outputId Element ID of the output display.\n",
              " * @return {!Iterable<!Object>} Iterable of next steps.\n",
              " */\n",
              "function* uploadFilesStep(inputId, outputId) {\n",
              "  const inputElement = document.getElementById(inputId);\n",
              "  inputElement.disabled = false;\n",
              "\n",
              "  const outputElement = document.getElementById(outputId);\n",
              "  outputElement.innerHTML = '';\n",
              "\n",
              "  const pickedPromise = new Promise((resolve) => {\n",
              "    inputElement.addEventListener('change', (e) => {\n",
              "      resolve(e.target.files);\n",
              "    });\n",
              "  });\n",
              "\n",
              "  const cancel = document.createElement('button');\n",
              "  inputElement.parentElement.appendChild(cancel);\n",
              "  cancel.textContent = 'Cancel upload';\n",
              "  const cancelPromise = new Promise((resolve) => {\n",
              "    cancel.onclick = () => {\n",
              "      resolve(null);\n",
              "    };\n",
              "  });\n",
              "\n",
              "  // Wait for the user to pick the files.\n",
              "  const files = yield {\n",
              "    promise: Promise.race([pickedPromise, cancelPromise]),\n",
              "    response: {\n",
              "      action: 'starting',\n",
              "    }\n",
              "  };\n",
              "\n",
              "  cancel.remove();\n",
              "\n",
              "  // Disable the input element since further picks are not allowed.\n",
              "  inputElement.disabled = true;\n",
              "\n",
              "  if (!files) {\n",
              "    return {\n",
              "      response: {\n",
              "        action: 'complete',\n",
              "      }\n",
              "    };\n",
              "  }\n",
              "\n",
              "  for (const file of files) {\n",
              "    const li = document.createElement('li');\n",
              "    li.append(span(file.name, {fontWeight: 'bold'}));\n",
              "    li.append(span(\n",
              "        `(${file.type || 'n/a'}) - ${file.size} bytes, ` +\n",
              "        `last modified: ${\n",
              "            file.lastModifiedDate ? file.lastModifiedDate.toLocaleDateString() :\n",
              "                                    'n/a'} - `));\n",
              "    const percent = span('0% done');\n",
              "    li.appendChild(percent);\n",
              "\n",
              "    outputElement.appendChild(li);\n",
              "\n",
              "    const fileDataPromise = new Promise((resolve) => {\n",
              "      const reader = new FileReader();\n",
              "      reader.onload = (e) => {\n",
              "        resolve(e.target.result);\n",
              "      };\n",
              "      reader.readAsArrayBuffer(file);\n",
              "    });\n",
              "    // Wait for the data to be ready.\n",
              "    let fileData = yield {\n",
              "      promise: fileDataPromise,\n",
              "      response: {\n",
              "        action: 'continue',\n",
              "      }\n",
              "    };\n",
              "\n",
              "    // Use a chunked sending to avoid message size limits. See b/62115660.\n",
              "    let position = 0;\n",
              "    do {\n",
              "      const length = Math.min(fileData.byteLength - position, MAX_PAYLOAD_SIZE);\n",
              "      const chunk = new Uint8Array(fileData, position, length);\n",
              "      position += length;\n",
              "\n",
              "      const base64 = btoa(String.fromCharCode.apply(null, chunk));\n",
              "      yield {\n",
              "        response: {\n",
              "          action: 'append',\n",
              "          file: file.name,\n",
              "          data: base64,\n",
              "        },\n",
              "      };\n",
              "\n",
              "      let percentDone = fileData.byteLength === 0 ?\n",
              "          100 :\n",
              "          Math.round((position / fileData.byteLength) * 100);\n",
              "      percent.textContent = `${percentDone}% done`;\n",
              "\n",
              "    } while (position < fileData.byteLength);\n",
              "  }\n",
              "\n",
              "  // All done.\n",
              "  yield {\n",
              "    response: {\n",
              "      action: 'complete',\n",
              "    }\n",
              "  };\n",
              "}\n",
              "\n",
              "scope.google = scope.google || {};\n",
              "scope.google.colab = scope.google.colab || {};\n",
              "scope.google.colab._files = {\n",
              "  _uploadFiles,\n",
              "  _uploadFilesContinue,\n",
              "};\n",
              "})(self);\n",
              "</script> "
            ]
          },
          "metadata": {}
        },
        {
          "output_type": "stream",
          "name": "stdout",
          "text": [
            "Saving Disease_symptom_and_patient_profile_dataset.csv to Disease_symptom_and_patient_profile_dataset.csv\n"
          ]
        }
      ]
    },
    {
      "cell_type": "code",
      "source": [
        "%who"
      ],
      "metadata": {
        "id": "5NrlW14KH-Ir",
        "outputId": "af43fe2c-d18f-41c6-c261-63714f4cbbc3",
        "colab": {
          "base_uri": "https://localhost:8080/"
        }
      },
      "execution_count": 24,
      "outputs": [
        {
          "output_type": "stream",
          "name": "stdout",
          "text": [
            "df\t file\t files\t \n"
          ]
        }
      ]
    },
    {
      "cell_type": "code",
      "source": [
        "!cat /content/Disease_symptom_and_patient_profile_dataset.csv | head -n 10"
      ],
      "metadata": {
        "id": "_5BkXHd-Oi2c",
        "outputId": "72e0971c-d85d-4c4c-debb-a2f274057330",
        "colab": {
          "base_uri": "https://localhost:8080/"
        }
      },
      "execution_count": 23,
      "outputs": [
        {
          "output_type": "stream",
          "name": "stdout",
          "text": [
            "Disease,Fever,Cough,Fatigue,Difficulty Breathing,Age,Gender,Blood Pressure,Cholesterol Level,Outcome Variable\r\n",
            "Influenza,Yes,No,Yes,Yes,19,Female,Low,Normal,Positive\r\n",
            "Common Cold,No,Yes,Yes,No,25,Female,Normal,Normal,Negative\r\n",
            "Eczema,No,Yes,Yes,No,25,Female,Normal,Normal,Negative\r\n",
            "Asthma,Yes,Yes,No,Yes,25,Male,Normal,Normal,Positive\r\n",
            "Asthma,Yes,Yes,No,Yes,25,Male,Normal,Normal,Positive\r\n",
            "Eczema,Yes,No,No,No,25,Female,Normal,Normal,Positive\r\n",
            "Influenza,Yes,Yes,Yes,Yes,25,Female,Normal,Normal,Positive\r\n",
            "Influenza,Yes,Yes,Yes,Yes,25,Female,Normal,Normal,Positive\r\n",
            "Hyperthyroidism,No,Yes,No,No,28,Female,Normal,Normal,Negative\r\n"
          ]
        }
      ]
    },
    {
      "cell_type": "code",
      "source": [
        "df = next(iter(file))\n",
        "!head {df}"
      ],
      "metadata": {
        "id": "8KPHuhBBM3fO",
        "outputId": "cb76816c-c159-46ab-8ec9-cc71f116a52b",
        "colab": {
          "base_uri": "https://localhost:8080/"
        }
      },
      "execution_count": 12,
      "outputs": [
        {
          "output_type": "stream",
          "name": "stdout",
          "text": [
            "Disease,Fever,Cough,Fatigue,Difficulty Breathing,Age,Gender,Blood Pressure,Cholesterol Level,Outcome Variable\r\n",
            "Influenza,Yes,No,Yes,Yes,19,Female,Low,Normal,Positive\r\n",
            "Common Cold,No,Yes,Yes,No,25,Female,Normal,Normal,Negative\r\n",
            "Eczema,No,Yes,Yes,No,25,Female,Normal,Normal,Negative\r\n",
            "Asthma,Yes,Yes,No,Yes,25,Male,Normal,Normal,Positive\r\n",
            "Asthma,Yes,Yes,No,Yes,25,Male,Normal,Normal,Positive\r\n",
            "Eczema,Yes,No,No,No,25,Female,Normal,Normal,Positive\r\n",
            "Influenza,Yes,Yes,Yes,Yes,25,Female,Normal,Normal,Positive\r\n",
            "Influenza,Yes,Yes,Yes,Yes,25,Female,Normal,Normal,Positive\r\n",
            "Hyperthyroidism,No,Yes,No,No,28,Female,Normal,Normal,Negative\r\n"
          ]
        }
      ]
    },
    {
      "cell_type": "markdown",
      "source": [
        "## Variables\n",
        "El conjunto de datos presenta las siguientes columnas con datos sobre cada paciente:\n",
        "\n",
        "\n",
        "*   Disease: Indica la enfermedad que se estudia para cada paciente\n",
        "*   Fever: Indica si el paciente presenta fiebre\n",
        "*   Cough: Indica si el paciente presenta tos\n",
        "*   Fatigue: Indica si el paciente presenta fatiga\n",
        "*   Difficulty Breathing: Indica si el paciente presenta dificultad para respirar\n",
        "*   Age: La edad de paciente\n",
        "*   Gender: El género del paciente\n",
        "*   Blood Pressure: La presión sanguínea del paciente\n",
        "*   Cholesterol Level: Nivel de colesterol del paciente\n",
        "*   Outcome Variable: Si la enfermedad fue diagnosticada o no\n",
        "\n"
      ],
      "metadata": {
        "id": "YO6TiT1uQwX7"
      }
    }
  ]
}